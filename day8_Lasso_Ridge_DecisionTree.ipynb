{
 "cells": [
  {
   "cell_type": "code",
   "execution_count": 88,
   "id": "0bc69781-e0d8-4184-b4e8-69e1ce2204e6",
   "metadata": {},
   "outputs": [],
   "source": [
    "import numpy as np\n",
    "import pandas as pd\n",
    "\n",
    "import pandas as pd\n",
    "\n",
    "from statsmodels.discrete import discrete_model\n",
    "import statsmodels.formula.api as smf\n",
    "from statsmodels.discrete.discrete_model import Poisson as psn,NegativeBinomial as ngb,MNLogit\n",
    "\n",
    "\n",
    "import numpy as np\n",
    "import pandas as pd\n",
    "import matplotlib.pyplot as plt\n",
    "import seaborn as sns\n",
    "\n",
    "from numpy import random\n",
    "\n",
    "import scipy\n",
    "from scipy import stats\n",
    "from scipy.stats import binom,poisson,norm,t\n",
    "\n",
    "import pylab\n",
    "from pylab import legend, plot, show ,title, xlabel, ylabel\n",
    "\n",
    "import statsmodels\n",
    "from statsmodels import stats\n",
    "from statsmodels.stats import weightstats as ssw\n",
    "\n",
    "import statsmodels.api as sm\n",
    "from statsmodels.formula.api import ols\n",
    "import statsmodels.stats.multicomp\n",
    "\n",
    "from statsmodels.stats.outliers_influence import variance_inflation_factor\n",
    "\n",
    "from statsmodels.stats import proportion as ssp\n",
    "\n",
    "from scipy.stats import chisquare, chi2_contingency\n",
    "\n",
    "from sklearn.model_selection import train_test_split\n",
    "\n",
    "from sklearn.metrics import confusion_matrix,classification_report\n",
    "\n",
    "from statsmodels import discrete\n",
    "from statsmodels.discrete import discrete_model\n",
    "from statsmodels.discrete.discrete_model import MNLogit\n",
    "\n",
    "from statsmodels.miscmodels.ordinal_model import OrderedModel\n",
    "\n",
    "from sklearn.preprocessing import MinMaxScaler,StandardScaler\n",
    "\n",
    "from sklearn.feature_selection import mutual_info_classif,SelectKBest\n",
    "\n",
    "from sklearn.ensemble import ExtraTreesClassifier\n",
    "\n",
    "from sklearn.feature_selection import SequentialFeatureSelector\n",
    "\n",
    "from sklearn.linear_model import LinearRegression"
   ]
  },
  {
   "cell_type": "code",
   "execution_count": 89,
   "id": "b56cc59a-7b37-44c6-95e1-819dadb2d851",
   "metadata": {},
   "outputs": [],
   "source": [
    "df=pd.read_excel('CDAC_DataBook.xlsx',sheet_name='diabetes')\n"
   ]
  },
  {
   "cell_type": "code",
   "execution_count": 90,
   "id": "86f26589-82ec-405c-8b09-70b9090064ff",
   "metadata": {},
   "outputs": [
    {
     "data": {
      "text/html": [
       "<div>\n",
       "<style scoped>\n",
       "    .dataframe tbody tr th:only-of-type {\n",
       "        vertical-align: middle;\n",
       "    }\n",
       "\n",
       "    .dataframe tbody tr th {\n",
       "        vertical-align: top;\n",
       "    }\n",
       "\n",
       "    .dataframe thead th {\n",
       "        text-align: right;\n",
       "    }\n",
       "</style>\n",
       "<table border=\"1\" class=\"dataframe\">\n",
       "  <thead>\n",
       "    <tr style=\"text-align: right;\">\n",
       "      <th></th>\n",
       "      <th>Glucose</th>\n",
       "      <th>BloodPressure</th>\n",
       "      <th>SkinThickness</th>\n",
       "      <th>Insulin</th>\n",
       "      <th>BMI</th>\n",
       "      <th>DiabetesPedigreeFunction</th>\n",
       "      <th>Age</th>\n",
       "      <th>DietType</th>\n",
       "      <th>Outcome</th>\n",
       "    </tr>\n",
       "  </thead>\n",
       "  <tbody>\n",
       "    <tr>\n",
       "      <th>0</th>\n",
       "      <td>148</td>\n",
       "      <td>72</td>\n",
       "      <td>35</td>\n",
       "      <td>0</td>\n",
       "      <td>33.6</td>\n",
       "      <td>0.63</td>\n",
       "      <td>50</td>\n",
       "      <td>1</td>\n",
       "      <td>1</td>\n",
       "    </tr>\n",
       "    <tr>\n",
       "      <th>1</th>\n",
       "      <td>85</td>\n",
       "      <td>66</td>\n",
       "      <td>29</td>\n",
       "      <td>0</td>\n",
       "      <td>26.6</td>\n",
       "      <td>0.35</td>\n",
       "      <td>31</td>\n",
       "      <td>2</td>\n",
       "      <td>0</td>\n",
       "    </tr>\n",
       "    <tr>\n",
       "      <th>2</th>\n",
       "      <td>183</td>\n",
       "      <td>64</td>\n",
       "      <td>0</td>\n",
       "      <td>0</td>\n",
       "      <td>23.3</td>\n",
       "      <td>0.67</td>\n",
       "      <td>32</td>\n",
       "      <td>1</td>\n",
       "      <td>1</td>\n",
       "    </tr>\n",
       "    <tr>\n",
       "      <th>3</th>\n",
       "      <td>89</td>\n",
       "      <td>66</td>\n",
       "      <td>23</td>\n",
       "      <td>94</td>\n",
       "      <td>28.1</td>\n",
       "      <td>0.17</td>\n",
       "      <td>21</td>\n",
       "      <td>1</td>\n",
       "      <td>0</td>\n",
       "    </tr>\n",
       "    <tr>\n",
       "      <th>4</th>\n",
       "      <td>137</td>\n",
       "      <td>40</td>\n",
       "      <td>35</td>\n",
       "      <td>168</td>\n",
       "      <td>43.1</td>\n",
       "      <td>2.29</td>\n",
       "      <td>33</td>\n",
       "      <td>1</td>\n",
       "      <td>1</td>\n",
       "    </tr>\n",
       "  </tbody>\n",
       "</table>\n",
       "</div>"
      ],
      "text/plain": [
       "   Glucose  BloodPressure  SkinThickness  Insulin   BMI  \\\n",
       "0      148             72             35        0  33.6   \n",
       "1       85             66             29        0  26.6   \n",
       "2      183             64              0        0  23.3   \n",
       "3       89             66             23       94  28.1   \n",
       "4      137             40             35      168  43.1   \n",
       "\n",
       "   DiabetesPedigreeFunction  Age  DietType  Outcome  \n",
       "0                      0.63   50         1        1  \n",
       "1                      0.35   31         2        0  \n",
       "2                      0.67   32         1        1  \n",
       "3                      0.17   21         1        0  \n",
       "4                      2.29   33         1        1  "
      ]
     },
     "execution_count": 90,
     "metadata": {},
     "output_type": "execute_result"
    }
   ],
   "source": [
    "\n",
    "df.head()"
   ]
  },
  {
   "cell_type": "code",
   "execution_count": null,
   "id": "710cbb05-82b8-4960-a783-4b68749a52ab",
   "metadata": {},
   "outputs": [],
   "source": []
  },
  {
   "cell_type": "code",
   "execution_count": 91,
   "id": "6c8952c2-1c1d-4c5d-ada5-fe01e8a3c69e",
   "metadata": {},
   "outputs": [],
   "source": [
    "diet_dum=pd.get_dummies(df.DietType,prefix='Diet',drop_first=True)\n",
    "df=df.drop('DietType',axis=1)\n",
    "df=pd.concat([df,diet_dum],axis=1)"
   ]
  },
  {
   "cell_type": "code",
   "execution_count": 92,
   "id": "6008fff9-90a4-4bf7-bcd2-e28928c6c52f",
   "metadata": {},
   "outputs": [],
   "source": [
    "x=df.drop('Outcome',axis=1)\n",
    "y=df.Outcome"
   ]
  },
  {
   "cell_type": "code",
   "execution_count": 93,
   "id": "224376ca-3a97-4bf7-80d3-d998716419d7",
   "metadata": {},
   "outputs": [],
   "source": [
    "lin1= LinearRegression()"
   ]
  },
  {
   "cell_type": "code",
   "execution_count": 94,
   "id": "d1b846c6-e310-48f1-ae7d-5095ddce3ed1",
   "metadata": {},
   "outputs": [],
   "source": [
    "mod1=SequentialFeatureSelector(lin1,n_features_to_select=4,direction='forward')"
   ]
  },
  {
   "cell_type": "code",
   "execution_count": 95,
   "id": "90dbfd79-1df9-4819-88d4-d8f9ff8a0233",
   "metadata": {},
   "outputs": [],
   "source": [
    "sf=mod1.fit(x,y)"
   ]
  },
  {
   "cell_type": "code",
   "execution_count": 96,
   "id": "7eb6ece9-7c1d-4ab4-af5f-68dcfc839887",
   "metadata": {},
   "outputs": [
    {
     "data": {
      "text/plain": [
       "array([ True, False, False, False,  True, False, False,  True,  True])"
      ]
     },
     "execution_count": 96,
     "metadata": {},
     "output_type": "execute_result"
    }
   ],
   "source": [
    "sf.get_support()"
   ]
  },
  {
   "cell_type": "code",
   "execution_count": 97,
   "id": "f90ce923-1aec-4f72-82d2-9e20701b457e",
   "metadata": {},
   "outputs": [
    {
     "data": {
      "text/plain": [
       "Index(['Glucose', 'BloodPressure', 'SkinThickness', 'Insulin', 'BMI',\n",
       "       'DiabetesPedigreeFunction', 'Age', 'Diet_2', 'Diet_3'],\n",
       "      dtype='object')"
      ]
     },
     "execution_count": 97,
     "metadata": {},
     "output_type": "execute_result"
    }
   ],
   "source": [
    "x.columns"
   ]
  },
  {
   "cell_type": "code",
   "execution_count": 98,
   "id": "aa9aec3b-9cdb-4e1d-a427-a530128f3ced",
   "metadata": {},
   "outputs": [
    {
     "data": {
      "text/plain": [
       "Index(['Glucose', 'BMI', 'Diet_2', 'Diet_3'], dtype='object')"
      ]
     },
     "execution_count": 98,
     "metadata": {},
     "output_type": "execute_result"
    }
   ],
   "source": [
    "x.columns[sf.get_support()] #the top 4 columns which have high effect on the target variable."
   ]
  },
  {
   "cell_type": "code",
   "execution_count": null,
   "id": "212a624e-d928-4e0c-b92e-7b6ba627c3fe",
   "metadata": {},
   "outputs": [],
   "source": []
  },
  {
   "cell_type": "code",
   "execution_count": null,
   "id": "66fa3c3f-671a-4b8d-9273-c9489a01a404",
   "metadata": {},
   "outputs": [],
   "source": []
  },
  {
   "cell_type": "code",
   "execution_count": 99,
   "id": "1b1688fe-f91e-4370-84d2-0d3151718c48",
   "metadata": {},
   "outputs": [
    {
     "data": {
      "text/plain": [
       "Index(['Glucose', 'BMI', 'Diet_2', 'Diet_3'], dtype='object')"
      ]
     },
     "execution_count": 99,
     "metadata": {},
     "output_type": "execute_result"
    }
   ],
   "source": [
    "#Backward step regression-\n",
    "mod2=SequentialFeatureSelector(lin1,n_features_to_select=4,direction='backward')\n",
    "sf=mod2.fit(x,y)\n",
    "sf.get_support()\n",
    "x.columns[sf.get_support()] "
   ]
  },
  {
   "cell_type": "code",
   "execution_count": null,
   "id": "0c761732-9cc5-469b-9a92-19f8bc2cff50",
   "metadata": {},
   "outputs": [],
   "source": []
  },
  {
   "cell_type": "code",
   "execution_count": null,
   "id": "b7080046-8f6a-4b80-8ddf-bd80260435a7",
   "metadata": {},
   "outputs": [],
   "source": []
  },
  {
   "cell_type": "markdown",
   "id": "0c8db635-0d14-4670-bb04-832fc66060ff",
   "metadata": {},
   "source": [
    "For regression - to get the value of m and c the sum of the squares of the residuals should be minimum."
   ]
  },
  {
   "cell_type": "markdown",
   "id": "66557853-573f-416a-a5a8-413d2b35a3d8",
   "metadata": {},
   "source": [
    "# Two types of regression- used to reduce overfitting-\n",
    "1. Lasso Regression- L1 Regularization\n",
    "2. Ridge Regression- L2 Regularization\n"
   ]
  },
  {
   "cell_type": "markdown",
   "id": "70cd077f-2fb7-4c7c-9a0e-c3dcf0408e91",
   "metadata": {},
   "source": [
    "1. Lasso regression<br>\n",
    "Formula=(sum of the squares of the residuals)+α*|(slope)| #abs value of slope\n",
    "\n",
    "2. Ridge Regression-<br>\n",
    "Formula=(sum of the squares of the residuals)+α*|(slope)|**2   #square of slope\n"
   ]
  },
  {
   "cell_type": "markdown",
   "id": "905c7d71-6fbd-4901-b248-e73dfd0cf2e1",
   "metadata": {},
   "source": [
    "The value of the coefficients are altered as per the importance of those features."
   ]
  },
  {
   "cell_type": "markdown",
   "id": "c9358d5f-14a7-4b79-9a45-2629140c3ac6",
   "metadata": {},
   "source": [
    "Difference - \n",
    "1. slope - squared in ridge, absolute value in lasso<br>\n",
    "2. Value of coef-<br>\n",
    "ridge -coeff of least important features can be brought down to **close** to zero<br>\n",
    "lasso- coeff of least important features can be brought down to **equal** to zero\n",
    "3. Ridge is less sensitive(more robust) to outliers. Lasso is more sensitive(less robust) to outliers.\n"
   ]
  },
  {
   "cell_type": "code",
   "execution_count": null,
   "id": "c20ba9ec-ca71-4c35-a530-51b5d86005b3",
   "metadata": {},
   "outputs": [],
   "source": []
  },
  {
   "cell_type": "code",
   "execution_count": 100,
   "id": "f662376d-42e6-41eb-9d84-61d7c7202422",
   "metadata": {},
   "outputs": [
    {
     "name": "stdout",
     "output_type": "stream",
     "text": [
      "{'alpha': 0.5}\n"
     ]
    }
   ],
   "source": [
    "from sklearn.linear_model import Ridge\n",
    "from sklearn.model_selection import GridSearchCV\n",
    "\n",
    "rr=Ridge()\n",
    "parameters={'alpha':[0.000001,0.0001,.01,.5,.1,1,10,15,20,25,50,100]}\n",
    "ridgecv=GridSearchCV(rr,parameters)\n",
    "ridgecv.fit(x,y)\n",
    "print(ridgecv.best_params_)\n"
   ]
  },
  {
   "cell_type": "code",
   "execution_count": 101,
   "id": "60b62e30-4bf6-4fb7-9e82-dfbe3db9131c",
   "metadata": {},
   "outputs": [
    {
     "name": "stdout",
     "output_type": "stream",
     "text": [
      "{'alpha': 0.2999999999999999}\n"
     ]
    }
   ],
   "source": [
    "from sklearn.linear_model import Ridge\n",
    "from sklearn.model_selection import GridSearchCV\n",
    "\n",
    "rr=Ridge()\n",
    "parameters={'alpha':[.2,.2999999999999999,0.29999999,0.31,.311111,.4]}\n",
    "ridgecv=GridSearchCV(rr,parameters)\n",
    "ridgecv.fit(x,y)\n",
    "print(ridgecv.best_params_)\n"
   ]
  },
  {
   "cell_type": "code",
   "execution_count": null,
   "id": "4fb0e98b-ec6b-49cc-8f1c-aaca5d6cc540",
   "metadata": {},
   "outputs": [],
   "source": []
  },
  {
   "cell_type": "code",
   "execution_count": 105,
   "id": "360c12d2-e19d-40fa-81aa-1bf754691d09",
   "metadata": {},
   "outputs": [
    {
     "name": "stdout",
     "output_type": "stream",
     "text": [
      "{'alpha': 0.001}\n"
     ]
    }
   ],
   "source": [
    "from sklearn.linear_model import Ridge,Lasso\n",
    "from sklearn.model_selection import GridSearchCV\n",
    "\n",
    "lsreg=Lasso()\n",
    "parameters={'alpha':[0.001,0.01,.1,1,.2,0.31,.4,.5,10,15,20,25,50,100]}\n",
    "lassocv=GridSearchCV(lsreg,parameters)\n",
    "lassocv.fit(x,y)\n",
    "print(lassocv.best_params_)"
   ]
  },
  {
   "cell_type": "code",
   "execution_count": null,
   "id": "581ffba7-28f9-47b0-8277-6a2d3162ae39",
   "metadata": {},
   "outputs": [],
   "source": []
  },
  {
   "cell_type": "code",
   "execution_count": null,
   "id": "4568ea12-3084-40ee-bf9b-f40f15f66274",
   "metadata": {},
   "outputs": [],
   "source": []
  },
  {
   "cell_type": "markdown",
   "id": "e74a9816-a17b-47f3-8a44-641d99588318",
   "metadata": {},
   "source": [
    "# Decision Trees"
   ]
  },
  {
   "cell_type": "markdown",
   "id": "2c5f28b9-2a18-43cb-86c3-487dc166307b",
   "metadata": {},
   "source": [
    "Std dev of -\n",
    "\n",
    "p<br>\n",
    "q=1-p<br>\n",
    "std dev=p*q<br>\n",
    "\n",
    "max val of std dev = 0.5<br>\n",
    "=> this happens when p=q=0.5 => 50-50 case<br>\n",
    "stddev=(.5*.5)**.5\n",
    "\n",
    "\n",
    "uncertainty = standard deviation , so if we have a high probability(or percentage) of one particular class we will have very less variation, hence low value of standard deviation and is also a good case.\n",
    "\n",
    "pruning is the method in which we trim certain features in our dataset \n"
   ]
  },
  {
   "cell_type": "code",
   "execution_count": 108,
   "id": "41afe36c-3fee-4b87-b3dc-d45716094c30",
   "metadata": {},
   "outputs": [
    {
     "data": {
      "text/plain": [
       "0.5"
      ]
     },
     "execution_count": 108,
     "metadata": {},
     "output_type": "execute_result"
    }
   ],
   "source": [
    "\n",
    "(.5*.5)**.5"
   ]
  },
  {
   "cell_type": "code",
   "execution_count": null,
   "id": "a899370b-0447-4597-acef-91e4013c1030",
   "metadata": {},
   "outputs": [],
   "source": []
  },
  {
   "cell_type": "code",
   "execution_count": 109,
   "id": "17c49b0f-4f40-42c3-8261-9e704ced97a9",
   "metadata": {},
   "outputs": [],
   "source": [
    "df=pd.read_excel('mini_diabetes.xlsx')"
   ]
  },
  {
   "cell_type": "code",
   "execution_count": 110,
   "id": "e45cecdd-a9d5-4c31-a226-086a6fef477f",
   "metadata": {},
   "outputs": [
    {
     "data": {
      "text/html": [
       "<div>\n",
       "<style scoped>\n",
       "    .dataframe tbody tr th:only-of-type {\n",
       "        vertical-align: middle;\n",
       "    }\n",
       "\n",
       "    .dataframe tbody tr th {\n",
       "        vertical-align: top;\n",
       "    }\n",
       "\n",
       "    .dataframe thead th {\n",
       "        text-align: right;\n",
       "    }\n",
       "</style>\n",
       "<table border=\"1\" class=\"dataframe\">\n",
       "  <thead>\n",
       "    <tr style=\"text-align: right;\">\n",
       "      <th></th>\n",
       "      <th>Gender</th>\n",
       "      <th>Diet</th>\n",
       "      <th>Diabetes</th>\n",
       "    </tr>\n",
       "  </thead>\n",
       "  <tbody>\n",
       "    <tr>\n",
       "      <th>0</th>\n",
       "      <td>M</td>\n",
       "      <td>V</td>\n",
       "      <td>0</td>\n",
       "    </tr>\n",
       "    <tr>\n",
       "      <th>1</th>\n",
       "      <td>M</td>\n",
       "      <td>V</td>\n",
       "      <td>1</td>\n",
       "    </tr>\n",
       "    <tr>\n",
       "      <th>2</th>\n",
       "      <td>M</td>\n",
       "      <td>NV</td>\n",
       "      <td>1</td>\n",
       "    </tr>\n",
       "    <tr>\n",
       "      <th>3</th>\n",
       "      <td>F</td>\n",
       "      <td>NV</td>\n",
       "      <td>1</td>\n",
       "    </tr>\n",
       "    <tr>\n",
       "      <th>4</th>\n",
       "      <td>F</td>\n",
       "      <td>V</td>\n",
       "      <td>0</td>\n",
       "    </tr>\n",
       "  </tbody>\n",
       "</table>\n",
       "</div>"
      ],
      "text/plain": [
       "  Gender  Diet  Diabetes\n",
       "0       M    V         0\n",
       "1       M    V         1\n",
       "2       M   NV         1\n",
       "3       F   NV         1\n",
       "4       F    V         0"
      ]
     },
     "execution_count": 110,
     "metadata": {},
     "output_type": "execute_result"
    }
   ],
   "source": [
    "df.head()"
   ]
  },
  {
   "cell_type": "code",
   "execution_count": null,
   "id": "fcac2338-f925-4a1a-95fb-fa189bf82bea",
   "metadata": {},
   "outputs": [],
   "source": []
  },
  {
   "cell_type": "code",
   "execution_count": null,
   "id": "f9f8f084-86ef-43fc-882e-bb3ec068abc0",
   "metadata": {},
   "outputs": [],
   "source": []
  }
 ],
 "metadata": {
  "kernelspec": {
   "display_name": "Python 3 (ipykernel)",
   "language": "python",
   "name": "python3"
  },
  "language_info": {
   "codemirror_mode": {
    "name": "ipython",
    "version": 3
   },
   "file_extension": ".py",
   "mimetype": "text/x-python",
   "name": "python",
   "nbconvert_exporter": "python",
   "pygments_lexer": "ipython3",
   "version": "3.12.7"
  }
 },
 "nbformat": 4,
 "nbformat_minor": 5
}
