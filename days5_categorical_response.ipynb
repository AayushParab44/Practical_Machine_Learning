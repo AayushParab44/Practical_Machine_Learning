{
 "cells": [
  {
   "cell_type": "markdown",
   "id": "2a9e1b7c-7797-4a44-b7fb-6d563a8ece9b",
   "metadata": {},
   "source": [
    "google search technique - mcq questions for descriptive statistics site.edu filetype.pdf  (put this on google)"
   ]
  },
  {
   "cell_type": "code",
   "execution_count": null,
   "id": "2dd6f8ea-1b51-4e98-b6ba-2691f068e8cd",
   "metadata": {},
   "outputs": [],
   "source": []
  },
  {
   "cell_type": "markdown",
   "id": "50a4ce19-2198-4b23-89f7-f48df3e1361c",
   "metadata": {},
   "source": [
    "Multicollinearity is a problem with regression\n"
   ]
  },
  {
   "cell_type": "code",
   "execution_count": 42,
   "id": "5af9dfc9-dd7c-44f1-8435-7fa83b0746fb",
   "metadata": {},
   "outputs": [],
   "source": [
    "import numpy as np\n",
    "import pandas as pd\n",
    "import matplotlib.pyplot as plt\n",
    "import seaborn as sns\n",
    "\n",
    "from numpy import random\n",
    "\n",
    "import scipy\n",
    "from scipy import stats\n",
    "from scipy.stats import binom,poisson,norm,t\n",
    "\n",
    "import pylab\n",
    "from pylab import legend, plot, show ,title, xlabel, ylabel\n",
    "\n",
    "import statsmodels\n",
    "from statsmodels import stats\n",
    "from statsmodels.stats import weightstats as ssw\n",
    "\n",
    "import statsmodels.api as sm\n",
    "from statsmodels.formula.api import ols\n",
    "import statsmodels.stats.multicomp\n",
    "\n",
    "from statsmodels.stats import proportion as ssp\n",
    "\n",
    "from scipy.stats import chisquare, chi2_contingency\n",
    "\n",
    "from sklearn.model_selection import train_test_split"
   ]
  },
  {
   "cell_type": "code",
   "execution_count": null,
   "id": "c9bbe1b8-ec47-4741-9bbe-10f7f5cc3167",
   "metadata": {},
   "outputs": [],
   "source": []
  },
  {
   "cell_type": "code",
   "execution_count": null,
   "id": "17554feb-7aa2-4f65-ba88-35b16be3ddaa",
   "metadata": {},
   "outputs": [],
   "source": []
  },
  {
   "cell_type": "markdown",
   "id": "d0436683-7f52-4f8b-9dc6-521b4052cfe3",
   "metadata": {},
   "source": [
    "# Different type of categories and their regressions which will be done-\n",
    "1. Binary(0/1).\n",
    "2. Nominal(multi categories,no logical order).\n",
    "3. Ordinal(multi categories,proper logical order).\n",
    "\n",
    "Binary and Categorical Logistic Regression"
   ]
  },
  {
   "cell_type": "code",
   "execution_count": null,
   "id": "e874c93b-6b82-476c-a44e-7c25ed3fe227",
   "metadata": {},
   "outputs": [],
   "source": []
  },
  {
   "cell_type": "code",
   "execution_count": null,
   "id": "90399dea-4b2c-4c26-ad10-d3a7a626b802",
   "metadata": {},
   "outputs": [],
   "source": []
  },
  {
   "cell_type": "markdown",
   "id": "37f4f4c7-2733-43f6-8fdf-02dc17f36c97",
   "metadata": {},
   "source": [
    "Binary Logistic Regression"
   ]
  },
  {
   "cell_type": "code",
   "execution_count": null,
   "id": "9726a784-3a6e-4a35-a05b-f8f3fc31cbc9",
   "metadata": {},
   "outputs": [],
   "source": []
  },
  {
   "cell_type": "code",
   "execution_count": 7,
   "id": "d62c8321-e306-454d-9e83-b8e3e4834ede",
   "metadata": {},
   "outputs": [],
   "source": [
    "import pandas as pd"
   ]
  },
  {
   "cell_type": "code",
   "execution_count": 8,
   "id": "c913a9fc-3e91-40e8-943b-d0cb94f4f869",
   "metadata": {},
   "outputs": [],
   "source": [
    "df=pd.read_excel('CDAC_DataBook.xlsx',sheet_name='mtcars')"
   ]
  },
  {
   "cell_type": "code",
   "execution_count": 9,
   "id": "a069c948-f434-4c30-8437-092a790883d5",
   "metadata": {},
   "outputs": [],
   "source": [
    "df=df[['hp','wt','am']]"
   ]
  },
  {
   "cell_type": "code",
   "execution_count": 11,
   "id": "b1ef36ef-93a0-410c-b5d6-fe7d78b2ba41",
   "metadata": {},
   "outputs": [
    {
     "data": {
      "text/html": [
       "<div>\n",
       "<style scoped>\n",
       "    .dataframe tbody tr th:only-of-type {\n",
       "        vertical-align: middle;\n",
       "    }\n",
       "\n",
       "    .dataframe tbody tr th {\n",
       "        vertical-align: top;\n",
       "    }\n",
       "\n",
       "    .dataframe thead th {\n",
       "        text-align: right;\n",
       "    }\n",
       "</style>\n",
       "<table border=\"1\" class=\"dataframe\">\n",
       "  <thead>\n",
       "    <tr style=\"text-align: right;\">\n",
       "      <th></th>\n",
       "      <th>hp</th>\n",
       "      <th>wt</th>\n",
       "      <th>am</th>\n",
       "    </tr>\n",
       "  </thead>\n",
       "  <tbody>\n",
       "    <tr>\n",
       "      <th>0</th>\n",
       "      <td>110</td>\n",
       "      <td>2.620</td>\n",
       "      <td>1</td>\n",
       "    </tr>\n",
       "    <tr>\n",
       "      <th>1</th>\n",
       "      <td>110</td>\n",
       "      <td>2.875</td>\n",
       "      <td>1</td>\n",
       "    </tr>\n",
       "    <tr>\n",
       "      <th>2</th>\n",
       "      <td>93</td>\n",
       "      <td>2.320</td>\n",
       "      <td>1</td>\n",
       "    </tr>\n",
       "    <tr>\n",
       "      <th>3</th>\n",
       "      <td>110</td>\n",
       "      <td>3.215</td>\n",
       "      <td>0</td>\n",
       "    </tr>\n",
       "    <tr>\n",
       "      <th>4</th>\n",
       "      <td>175</td>\n",
       "      <td>3.440</td>\n",
       "      <td>0</td>\n",
       "    </tr>\n",
       "  </tbody>\n",
       "</table>\n",
       "</div>"
      ],
      "text/plain": [
       "    hp     wt  am\n",
       "0  110  2.620   1\n",
       "1  110  2.875   1\n",
       "2   93  2.320   1\n",
       "3  110  3.215   0\n",
       "4  175  3.440   0"
      ]
     },
     "execution_count": 11,
     "metadata": {},
     "output_type": "execute_result"
    }
   ],
   "source": [
    "df.head()"
   ]
  },
  {
   "cell_type": "code",
   "execution_count": null,
   "id": "77092476-67e7-4ccb-8264-44fc692d880f",
   "metadata": {},
   "outputs": [],
   "source": []
  },
  {
   "cell_type": "code",
   "execution_count": 14,
   "id": "1b869d4e-da29-48b1-a0d8-79cf5c27e7da",
   "metadata": {},
   "outputs": [],
   "source": [
    "x_train=df.drop('am',axis=1)\n",
    "y_train=df.am\n",
    "x_train=sm.add_constant(x_train,prepend=False)"
   ]
  },
  {
   "cell_type": "code",
   "execution_count": 15,
   "id": "a4b707e1-c43d-41da-b4b3-d2b563d93416",
   "metadata": {},
   "outputs": [
    {
     "name": "stdout",
     "output_type": "stream",
     "text": [
      "Optimization terminated successfully.\n",
      "         Current function value: 0.157174\n",
      "         Iterations 9\n"
     ]
    }
   ],
   "source": [
    "mod5=sm.Logit(y_train,x_train).fit()"
   ]
  },
  {
   "cell_type": "code",
   "execution_count": 16,
   "id": "89129069-5f6f-4b67-bcd2-7f8ef8f2b96c",
   "metadata": {},
   "outputs": [
    {
     "name": "stdout",
     "output_type": "stream",
     "text": [
      "                           Logit Regression Results                           \n",
      "==============================================================================\n",
      "Dep. Variable:                     am   No. Observations:                   32\n",
      "Model:                          Logit   Df Residuals:                       29\n",
      "Method:                           MLE   Df Model:                            2\n",
      "Date:                Thu, 19 Dec 2024   Pseudo R-squ.:                  0.7673\n",
      "Time:                        11:49:28   Log-Likelihood:                -5.0296\n",
      "converged:                       True   LL-Null:                       -21.615\n",
      "Covariance Type:            nonrobust   LLR p-value:                 6.267e-08\n",
      "==============================================================================\n",
      "                 coef    std err          z      P>|z|      [0.025      0.975]\n",
      "------------------------------------------------------------------------------\n",
      "hp             0.0363      0.018      2.044      0.041       0.001       0.071\n",
      "wt            -8.0835      3.069     -2.634      0.008     -14.098      -2.069\n",
      "const         18.8663      7.444      2.535      0.011       4.277      33.455\n",
      "==============================================================================\n",
      "\n",
      "Possibly complete quasi-separation: A fraction 0.12 of observations can be\n",
      "perfectly predicted. This might indicate that there is complete\n",
      "quasi-separation. In this case some parameters will not be identified.\n"
     ]
    }
   ],
   "source": [
    "print(mod5.summary())"
   ]
  },
  {
   "cell_type": "code",
   "execution_count": 19,
   "id": "cbe5fb69-7fc0-4104-8cd5-4b0b6b99d79a",
   "metadata": {},
   "outputs": [],
   "source": [
    "# Ho:hp does not influence choice between 0 and 1.\n",
    "# Ho:wt does not influence choice between 0 and 1.\n",
    "\n",
    "# Conclusion-\n",
    "# hp influences the choice between 0 and 1."
   ]
  },
  {
   "cell_type": "code",
   "execution_count": null,
   "id": "2869c125-59a9-4e23-81c7-c72ad1406fba",
   "metadata": {},
   "outputs": [],
   "source": []
  },
  {
   "cell_type": "code",
   "execution_count": 20,
   "id": "5e7a38c6-7c8d-4169-86e3-a2a8c6b51e86",
   "metadata": {},
   "outputs": [],
   "source": [
    "# log of a value less than 1 is always negative"
   ]
  },
  {
   "cell_type": "code",
   "execution_count": 21,
   "id": "6f2abebd-80ad-4831-adfc-7645935183c1",
   "metadata": {},
   "outputs": [
    {
     "data": {
      "text/plain": [
       "np.float64(-0.8472978603872037)"
      ]
     },
     "execution_count": 21,
     "metadata": {},
     "output_type": "execute_result"
    }
   ],
   "source": [
    "np.log(3/7)"
   ]
  },
  {
   "cell_type": "code",
   "execution_count": 25,
   "id": "f3c1a319-52c1-4cf4-8cf9-32e7ef9d4650",
   "metadata": {},
   "outputs": [
    {
     "data": {
      "text/plain": [
       "np.float64(-0.8472978603872036)"
      ]
     },
     "execution_count": 25,
     "metadata": {},
     "output_type": "execute_result"
    }
   ],
   "source": [
    "np.log(0.3/(1-.3))\n"
   ]
  },
  {
   "cell_type": "code",
   "execution_count": 23,
   "id": "4a6b158e-62a9-45ff-90b7-05b4fd2e13b5",
   "metadata": {},
   "outputs": [],
   "source": [
    "#Log of a value less than 1 is always negative"
   ]
  },
  {
   "cell_type": "code",
   "execution_count": null,
   "id": "e0c667a8-bb0f-4b7d-bf62-06fcce506581",
   "metadata": {},
   "outputs": [],
   "source": []
  },
  {
   "cell_type": "code",
   "execution_count": 50,
   "id": "32003019-6359-4af1-8b45-98cdecd1efa4",
   "metadata": {},
   "outputs": [
    {
     "data": {
      "text/html": [
       "<div>\n",
       "<style scoped>\n",
       "    .dataframe tbody tr th:only-of-type {\n",
       "        vertical-align: middle;\n",
       "    }\n",
       "\n",
       "    .dataframe tbody tr th {\n",
       "        vertical-align: top;\n",
       "    }\n",
       "\n",
       "    .dataframe thead th {\n",
       "        text-align: right;\n",
       "    }\n",
       "</style>\n",
       "<table border=\"1\" class=\"dataframe\">\n",
       "  <thead>\n",
       "    <tr style=\"text-align: right;\">\n",
       "      <th></th>\n",
       "      <th>hp</th>\n",
       "      <th>wt</th>\n",
       "      <th>am</th>\n",
       "    </tr>\n",
       "  </thead>\n",
       "  <tbody>\n",
       "    <tr>\n",
       "      <th>0</th>\n",
       "      <td>90</td>\n",
       "      <td>2.5</td>\n",
       "      <td>1</td>\n",
       "    </tr>\n",
       "    <tr>\n",
       "      <th>1</th>\n",
       "      <td>100</td>\n",
       "      <td>2.5</td>\n",
       "      <td>1</td>\n",
       "    </tr>\n",
       "    <tr>\n",
       "      <th>2</th>\n",
       "      <td>110</td>\n",
       "      <td>2.5</td>\n",
       "      <td>1</td>\n",
       "    </tr>\n",
       "  </tbody>\n",
       "</table>\n",
       "</div>"
      ],
      "text/plain": [
       "    hp   wt  am\n",
       "0   90  2.5   1\n",
       "1  100  2.5   1\n",
       "2  110  2.5   1"
      ]
     },
     "execution_count": 50,
     "metadata": {},
     "output_type": "execute_result"
    }
   ],
   "source": [
    "mydata=pd.DataFrame([[90,2.5,1],[100,2.5,1],[110,2.5,1]],columns=df.columns)\n",
    "mydata"
   ]
  },
  {
   "cell_type": "code",
   "execution_count": 30,
   "id": "2c42aa12-4946-4520-94f9-9a205e734121",
   "metadata": {},
   "outputs": [
    {
     "data": {
      "text/plain": [
       "0    0.872207\n",
       "1    0.907474\n",
       "2    0.933747\n",
       "dtype: float64"
      ]
     },
     "execution_count": 30,
     "metadata": {},
     "output_type": "execute_result"
    }
   ],
   "source": [
    "mod5.predict(mydata)"
   ]
  },
  {
   "cell_type": "code",
   "execution_count": 49,
   "id": "ff889364-8e8e-4ef9-814e-186d9bfd6476",
   "metadata": {},
   "outputs": [
    {
     "data": {
      "text/plain": [
       "np.float64(0.03625495472432383)"
      ]
     },
     "execution_count": 49,
     "metadata": {},
     "output_type": "execute_result"
    }
   ],
   "source": [
    "(np.log(0.933747/(1-0.933747))-np.log(0.907474/(1-0.907474)))/10"
   ]
  },
  {
   "cell_type": "code",
   "execution_count": null,
   "id": "3127d4fc-a404-422c-96f1-a032875e8e83",
   "metadata": {},
   "outputs": [],
   "source": []
  },
  {
   "cell_type": "code",
   "execution_count": null,
   "id": "fb4eeefa-90af-433e-8f35-4d2499ca47b0",
   "metadata": {},
   "outputs": [],
   "source": []
  },
  {
   "cell_type": "code",
   "execution_count": 51,
   "id": "36821763-6313-4123-b84c-b0e8f1b1b9b7",
   "metadata": {},
   "outputs": [
    {
     "data": {
      "text/html": [
       "<div>\n",
       "<style scoped>\n",
       "    .dataframe tbody tr th:only-of-type {\n",
       "        vertical-align: middle;\n",
       "    }\n",
       "\n",
       "    .dataframe tbody tr th {\n",
       "        vertical-align: top;\n",
       "    }\n",
       "\n",
       "    .dataframe thead th {\n",
       "        text-align: right;\n",
       "    }\n",
       "</style>\n",
       "<table border=\"1\" class=\"dataframe\">\n",
       "  <thead>\n",
       "    <tr style=\"text-align: right;\">\n",
       "      <th></th>\n",
       "      <th>hp</th>\n",
       "      <th>wt</th>\n",
       "      <th>am</th>\n",
       "    </tr>\n",
       "  </thead>\n",
       "  <tbody>\n",
       "    <tr>\n",
       "      <th>0</th>\n",
       "      <td>100</td>\n",
       "      <td>2.5</td>\n",
       "      <td>1</td>\n",
       "    </tr>\n",
       "    <tr>\n",
       "      <th>1</th>\n",
       "      <td>100</td>\n",
       "      <td>2.6</td>\n",
       "      <td>1</td>\n",
       "    </tr>\n",
       "    <tr>\n",
       "      <th>2</th>\n",
       "      <td>100</td>\n",
       "      <td>2.7</td>\n",
       "      <td>1</td>\n",
       "    </tr>\n",
       "  </tbody>\n",
       "</table>\n",
       "</div>"
      ],
      "text/plain": [
       "    hp   wt  am\n",
       "0  100  2.5   1\n",
       "1  100  2.6   1\n",
       "2  100  2.7   1"
      ]
     },
     "execution_count": 51,
     "metadata": {},
     "output_type": "execute_result"
    }
   ],
   "source": [
    "mydata=pd.DataFrame([[100,2.5,1],[100,2.6,1],[100,2.7,1]],columns=df.columns) \n",
    "mydata"
   ]
  },
  {
   "cell_type": "code",
   "execution_count": null,
   "id": "d3013073-07b6-4561-aa62-b64011548637",
   "metadata": {},
   "outputs": [],
   "source": []
  },
  {
   "cell_type": "code",
   "execution_count": null,
   "id": "e21f39ad-f30f-40d8-8054-9866db1da008",
   "metadata": {},
   "outputs": [],
   "source": []
  },
  {
   "cell_type": "code",
   "execution_count": 52,
   "id": "1d543ac8-4d98-44c4-aa69-b0486eb3d5f3",
   "metadata": {},
   "outputs": [
    {
     "data": {
      "text/plain": [
       "0    0.907474\n",
       "1    0.813789\n",
       "2    0.660713\n",
       "dtype: float64"
      ]
     },
     "execution_count": 52,
     "metadata": {},
     "output_type": "execute_result"
    }
   ],
   "source": [
    "mod5.predict(mydata)"
   ]
  },
  {
   "cell_type": "code",
   "execution_count": 55,
   "id": "796c57de-4902-4335-a965-c4e4481b73ae",
   "metadata": {},
   "outputs": [
    {
     "data": {
      "text/plain": [
       "np.float64(-8.083474812180759)"
      ]
     },
     "execution_count": 55,
     "metadata": {},
     "output_type": "execute_result"
    }
   ],
   "source": [
    "(np.log(0.660713/(1-0.660713))-np.log(0.813789/(1-0.813789)))/.1"
   ]
  },
  {
   "cell_type": "code",
   "execution_count": null,
   "id": "9aca424a-fec8-4ed6-88b3-631428de856a",
   "metadata": {},
   "outputs": [],
   "source": []
  },
  {
   "cell_type": "code",
   "execution_count": null,
   "id": "2600d1d3-d8a7-4268-82e3-54e7cc748c71",
   "metadata": {},
   "outputs": [],
   "source": []
  },
  {
   "cell_type": "code",
   "execution_count": null,
   "id": "cdfa33d1-fd79-4735-8b24-3d11c05daf6c",
   "metadata": {},
   "outputs": [],
   "source": []
  },
  {
   "cell_type": "code",
   "execution_count": null,
   "id": "09289115-09db-4663-a3d0-ea68944cfed7",
   "metadata": {},
   "outputs": [],
   "source": []
  }
 ],
 "metadata": {
  "kernelspec": {
   "display_name": "Python 3 (ipykernel)",
   "language": "python",
   "name": "python3"
  },
  "language_info": {
   "codemirror_mode": {
    "name": "ipython",
    "version": 3
   },
   "file_extension": ".py",
   "mimetype": "text/x-python",
   "name": "python",
   "nbconvert_exporter": "python",
   "pygments_lexer": "ipython3",
   "version": "3.12.7"
  }
 },
 "nbformat": 4,
 "nbformat_minor": 5
}
