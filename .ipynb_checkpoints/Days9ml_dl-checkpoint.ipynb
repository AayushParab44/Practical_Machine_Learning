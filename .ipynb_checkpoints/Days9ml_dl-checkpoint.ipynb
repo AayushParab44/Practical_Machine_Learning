{
 "cells": [
  {
   "cell_type": "markdown",
   "id": "4c0dae64-919c-481a-ae1d-d0838d0c8b1a",
   "metadata": {},
   "source": [
    "# data dependecy wrt ml and dl? \n",
    "# Machine Learning (ML):\n",
    "\n",
    "- Data Dependency: ML algorithms can work with smaller datasets. They often require less data to produce satisfactory results1.\n",
    "- Examples: Decision trees, Naïve Bayes, Random Forest, etc.\n",
    "\n",
    "# Deep Learning (DL):\n",
    "\n",
    "- Data Dependency: DL models are data-hungry. They perform significantly better with large amounts of data1.\n",
    "\n",
    "- Examples: Convolutional Neural Networks (CNNs), Recurrent Neural Networks (RNNs), Autoencoders, etc.\n",
    "\n",
    "In essence, while ML can work with less data, DL thrives on big data to achieve its full potential"
   ]
  },
  {
   "cell_type": "code",
   "execution_count": null,
   "id": "7a667cef-8307-4ea9-871d-0e510393598a",
   "metadata": {},
   "outputs": [],
   "source": []
  }
 ],
 "metadata": {
  "kernelspec": {
   "display_name": "Python 3 (ipykernel)",
   "language": "python",
   "name": "python3"
  },
  "language_info": {
   "codemirror_mode": {
    "name": "ipython",
    "version": 3
   },
   "file_extension": ".py",
   "mimetype": "text/x-python",
   "name": "python",
   "nbconvert_exporter": "python",
   "pygments_lexer": "ipython3",
   "version": "3.12.7"
  }
 },
 "nbformat": 4,
 "nbformat_minor": 5
}
