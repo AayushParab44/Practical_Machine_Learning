{
 "cells": [
  {
   "cell_type": "code",
   "execution_count": 12,
   "id": "818bdd2b-8bb5-4529-a883-9e169d3bb69f",
   "metadata": {},
   "outputs": [],
   "source": [
    "import numpy as np\n",
    "import pandas as pd\n",
    "import matplotlib.pyplot as plt\n",
    "import seaborn as sns\n",
    "\n",
    "from numpy import random\n",
    "\n",
    "import scipy\n",
    "from scipy import stats\n",
    "from scipy.stats import binom,poisson,norm,t\n",
    "\n",
    "import pylab\n",
    "from pylab import legend, plot, show ,title, xlabel, ylabel\n",
    "\n",
    "import statsmodels\n",
    "from statsmodels import stats\n",
    "from statsmodels.stats import weightstats as ssw\n",
    "\n",
    "import statsmodels.api as sm\n",
    "from statsmodels.formula.api import ols\n",
    "import statsmodels.stats.multicomp\n",
    "\n",
    "from statsmodels.stats import proportion as ssp\n",
    "\n",
    "from scipy.stats import chisquare, chi2_contingency\n",
    "\n",
    "from sklearn.model_selection import train_test_split"
   ]
  },
  {
   "cell_type": "code",
   "execution_count": null,
   "id": "6416eb85-361f-4d7b-a748-9c4414e1b846",
   "metadata": {},
   "outputs": [],
   "source": []
  },
  {
   "cell_type": "code",
   "execution_count": null,
   "id": "70508e34-573f-413e-a36a-b31a7192ce3c",
   "metadata": {},
   "outputs": [],
   "source": []
  },
  {
   "cell_type": "code",
   "execution_count": 13,
   "id": "5761dbed-4fc3-4274-a2c0-6affaff45958",
   "metadata": {},
   "outputs": [],
   "source": [
    "sal=pd.read_excel('CDAC_DataBook.xlsx',sheet_name='salaries')"
   ]
  },
  {
   "cell_type": "code",
   "execution_count": 14,
   "id": "29a14891-2423-4ef8-96c9-7d6f8d5332c0",
   "metadata": {},
   "outputs": [],
   "source": [
    "sal=sal[['gender','rank','yrs_service','salary']]"
   ]
  },
  {
   "cell_type": "code",
   "execution_count": 15,
   "id": "96790eb7-f958-4b80-be8c-dc3dbdbd5202",
   "metadata": {},
   "outputs": [],
   "source": [
    "dum_rank=pd.get_dummies(sal['rank'],drop_first=True,dtype=int)   #One-hot encoding"
   ]
  },
  {
   "cell_type": "code",
   "execution_count": 16,
   "id": "e8a928a2-a023-45f9-9cd6-77fbad532f42",
   "metadata": {},
   "outputs": [],
   "source": [
    "sal=sal.drop(['gender','rank'],axis=1)"
   ]
  },
  {
   "cell_type": "code",
   "execution_count": 17,
   "id": "8fcb5408-7feb-4574-a796-58f5febed38a",
   "metadata": {},
   "outputs": [],
   "source": [
    "sal=pd.concat([sal,dum_rank],axis=1)"
   ]
  },
  {
   "cell_type": "code",
   "execution_count": 18,
   "id": "b3c02e2e-b874-4ab1-812a-3c2ab3f299dc",
   "metadata": {},
   "outputs": [],
   "source": [
    "x_train,x_test,y_train,y_test=train_test_split(sal.drop('salary',axis=1),sal.salary,test_size=0.2,random_state=20)"
   ]
  },
  {
   "cell_type": "code",
   "execution_count": 19,
   "id": "a6deda72-76ae-4263-8a5f-29035de151ed",
   "metadata": {},
   "outputs": [],
   "source": [
    "x_train=sm.add_constant(x_train,prepend=False)"
   ]
  },
  {
   "cell_type": "code",
   "execution_count": 20,
   "id": "a626fe71-5c52-470c-8319-1dd2e0b1e491",
   "metadata": {},
   "outputs": [],
   "source": [
    "mod4=sm.OLS(y_train,x_train).fit()"
   ]
  },
  {
   "cell_type": "code",
   "execution_count": 21,
   "id": "cc9c4a3f-d369-4c2f-970c-56a79773065a",
   "metadata": {},
   "outputs": [
    {
     "name": "stdout",
     "output_type": "stream",
     "text": [
      "                            OLS Regression Results                            \n",
      "==============================================================================\n",
      "Dep. Variable:                 salary   R-squared:                       0.379\n",
      "Model:                            OLS   Adj. R-squared:                  0.373\n",
      "Method:                 Least Squares   F-statistic:                     63.71\n",
      "Date:                Thu, 19 Dec 2024   Prob (F-statistic):           3.54e-32\n",
      "Time:                        09:26:13   Log-Likelihood:                -3643.3\n",
      "No. Observations:                 317   AIC:                             7295.\n",
      "Df Residuals:                     313   BIC:                             7310.\n",
      "Df Model:                           3                                         \n",
      "Covariance Type:            nonrobust                                         \n",
      "===============================================================================\n",
      "                  coef    std err          t      P>|t|      [0.025      0.975]\n",
      "-------------------------------------------------------------------------------\n",
      "yrs_service  -161.8155    131.085     -1.234      0.218    -419.734      96.103\n",
      "AsstProf    -1.312e+04   4817.521     -2.723      0.007   -2.26e+04   -3637.053\n",
      "Prof         3.482e+04   3891.052      8.949      0.000    2.72e+04    4.25e+04\n",
      "const         9.48e+04   3557.563     26.647      0.000    8.78e+04    1.02e+05\n",
      "==============================================================================\n",
      "Omnibus:                       46.171   Durbin-Watson:                   1.927\n",
      "Prob(Omnibus):                  0.000   Jarque-Bera (JB):               78.829\n",
      "Skew:                           0.839   Prob(JB):                     7.63e-18\n",
      "Kurtosis:                       4.776   Cond. No.                         99.0\n",
      "==============================================================================\n",
      "\n",
      "Notes:\n",
      "[1] Standard Errors assume that the covariance matrix of the errors is correctly specified.\n"
     ]
    }
   ],
   "source": [
    "print(mod4.summary())"
   ]
  },
  {
   "cell_type": "code",
   "execution_count": null,
   "id": "7216f7f1-0b7f-4af7-8dfb-e0f49792aadb",
   "metadata": {},
   "outputs": [],
   "source": []
  },
  {
   "cell_type": "markdown",
   "id": "906ea235-3249-42a5-a458-0264694fc5f5",
   "metadata": {},
   "source": [
    "# Table-\n",
    "Salary=m1 X yrs_Serv+m2 X Asst. Prof+m3 X Prof+const<br>\n",
    "Ho-> Decision -> Conclusion -> Description\n",
    "m1=0 -> DNR -> m1=0 ->yrs_service has no effect on salary variable.<br>\n",
    "m2=0 -> R -> m2!=0 -> change in salary from Associate professor to assistant professor is significant<br>\n",
    "m3=0 -> R -> m3!=0 -> change in salary from Associate professor to Professor is significant and is equal to 35,000<br>\n",
    "c=0 -> R -> c!=0 -> salary of assocprof when yrs_service=0 is c=95000.\n",
    "\n",
    "Therefore, the salary of assistant prof then =95k-13k\n",
    "and salary of prof then = 95k+34k"
   ]
  },
  {
   "cell_type": "markdown",
   "id": "4efc9fc8-cf95-40e9-8f94-4602cb2e4f02",
   "metadata": {},
   "source": [
    "The categorical variables assocprof,assistprof,prof are encoded(one hot encoding) "
   ]
  },
  {
   "cell_type": "code",
   "execution_count": null,
   "id": "602bad58-fe9b-4dee-96f2-0654c2a94bb4",
   "metadata": {},
   "outputs": [],
   "source": []
  },
  {
   "cell_type": "markdown",
   "id": "a3e510cf-7489-44fe-91e5-fc378c2f3913",
   "metadata": {},
   "source": [
    "The difference between  -161 and 0 is insignificant. and can be neglected. yrs_service has no impact on salary<br>\n",
    "\n"
   ]
  },
  {
   "cell_type": "markdown",
   "id": "999ff831-d517-49ef-a9cd-79c7de3dfd66",
   "metadata": {},
   "source": [
    "m1=0  : Ho : yrs_service has no effect on salary variable.<br>\n",
    "m2=0  : Ho : is that change in prof from associate(reference) to assistant(target) has no effect on salary variable.<br>\n",
    "m3=0  : Ho : is that change in prof from associate(reference) to assistant(target) has no effect on salary variable.<br>"
   ]
  },
  {
   "cell_type": "markdown",
   "id": "1666e3f8-7aab-4e8e-9e86-c85aba9180c1",
   "metadata": {},
   "source": [
    "when the rank changes from assoc(ref) to assist(target) , the salary decreases by 13k"
   ]
  },
  {
   "cell_type": "markdown",
   "id": "0c1ffd37-5d29-4f71-b96f-dedb394e0f08",
   "metadata": {},
   "source": [
    "for m2,p-value<.05 : so we reject the null hypothesis.\n"
   ]
  },
  {
   "cell_type": "code",
   "execution_count": null,
   "id": "37309752-6a2e-4222-94fc-a9a23808b719",
   "metadata": {},
   "outputs": [],
   "source": []
  },
  {
   "cell_type": "code",
   "execution_count": null,
   "id": "53e9f7f1-23d0-4b7a-97d8-55e279df5bdf",
   "metadata": {},
   "outputs": [],
   "source": []
  },
  {
   "cell_type": "code",
   "execution_count": null,
   "id": "1eefc67b-9423-444c-a7e9-84994f6bfe3f",
   "metadata": {},
   "outputs": [],
   "source": []
  },
  {
   "cell_type": "code",
   "execution_count": null,
   "id": "f5ddb27e-645b-42c4-abdc-2fac44e1ec82",
   "metadata": {},
   "outputs": [],
   "source": []
  },
  {
   "cell_type": "code",
   "execution_count": null,
   "id": "bbda44f1-3160-4f4c-8ca3-627b2df5a4d7",
   "metadata": {},
   "outputs": [],
   "source": []
  },
  {
   "cell_type": "code",
   "execution_count": null,
   "id": "629e9860-54b2-4e50-b40e-d94bb0730658",
   "metadata": {},
   "outputs": [],
   "source": []
  },
  {
   "cell_type": "code",
   "execution_count": null,
   "id": "52654c80-636f-4e2e-9ba9-4ca7c9bc8ff3",
   "metadata": {},
   "outputs": [],
   "source": []
  },
  {
   "cell_type": "code",
   "execution_count": null,
   "id": "fe6240b8-9042-4331-93f3-ee2b623f8b6d",
   "metadata": {},
   "outputs": [],
   "source": []
  },
  {
   "cell_type": "code",
   "execution_count": null,
   "id": "68cadaa8-41fa-4aa2-b1ac-df6898d8b77b",
   "metadata": {},
   "outputs": [],
   "source": []
  },
  {
   "cell_type": "code",
   "execution_count": null,
   "id": "b68dce05-136c-4c39-b00e-4297b964c42b",
   "metadata": {},
   "outputs": [],
   "source": []
  }
 ],
 "metadata": {
  "kernelspec": {
   "display_name": "Python 3 (ipykernel)",
   "language": "python",
   "name": "python3"
  },
  "language_info": {
   "codemirror_mode": {
    "name": "ipython",
    "version": 3
   },
   "file_extension": ".py",
   "mimetype": "text/x-python",
   "name": "python",
   "nbconvert_exporter": "python",
   "pygments_lexer": "ipython3",
   "version": "3.12.7"
  }
 },
 "nbformat": 4,
 "nbformat_minor": 5
}
