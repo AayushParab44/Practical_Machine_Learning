{
 "cells": [
  {
   "cell_type": "markdown",
   "id": "26cf1c0d-c2e2-42e9-aebe-aea55c8225b1",
   "metadata": {},
   "source": [
    "For continuous data-\n",
    "Input layer-\n",
    "Number of neurons - equal to number of input variables.\n",
    "Activation function = ReLU\n",
    "\n",
    "Hidden layers-\n",
    "Number of hiddenlayer: arbitrary\n"
   ]
  },
  {
   "cell_type": "code",
   "execution_count": null,
   "id": "aba3887f-9397-4602-b418-6bb18dbe3230",
   "metadata": {},
   "outputs": [],
   "source": [
    "When lr(learning rate) is high- \n",
    "1. we avoid jump from one arm of the loss fnction to another one.\n",
    "2. we do not miss out reaching the point of minima\n",
    "   \n",
    "small values of lr ensures incremental steps towards lr"
   ]
  },
  {
   "cell_type": "code",
   "execution_count": null,
   "id": "be929ba4-1a41-45c7-95fd-3d1698c4b673",
   "metadata": {},
   "outputs": [],
   "source": []
  },
  {
   "cell_type": "code",
   "execution_count": null,
   "id": "fc09e023-5b24-4481-a2ca-5358897b5ed7",
   "metadata": {},
   "outputs": [],
   "source": []
  },
  {
   "cell_type": "markdown",
   "id": "e070ab99-eaca-405f-8fc4-324c56d6c2e1",
   "metadata": {},
   "source": [
    "epoch- 1 forward propagation and backward propagation is called an epoch"
   ]
  },
  {
   "cell_type": "markdown",
   "id": "1c4aa458-fd61-4c6e-b32c-ac3522c75e07",
   "metadata": {},
   "source": [
    "Optimizer - is used to optimize the way in which we reach our minimum error value"
   ]
  },
  {
   "cell_type": "markdown",
   "id": "6ecd05f4-67e0-4850-a037-4d5a7b37d6f1",
   "metadata": {},
   "source": [
    "Optimizers- \n",
    "1. Gradient descent - all records are passed in one epoch. zigzag movement to reach point of minima in loss curve is least.\n",
    "2. Stochastic Gradient descent - one record per epoch\n",
    "3. Mini batch SGD- around 1000 records per epoch\n",
    "4. SGD with momentum - zigzag movement to reach point of minima in loss curve is reduced, exponential smoothening\n",
    "\n",
    "- The operation time required is least for GD and max for SGD\n",
    "- The resource requirement for Gd is maximum and that for sgd is minimum.\n",
    "- Mini batch SGD always comes in between in both the above cases"
   ]
  },
  {
   "cell_type": "code",
   "execution_count": null,
   "id": "accf673e-e6c5-40bd-8df8-33f3a526b48e",
   "metadata": {},
   "outputs": [],
   "source": []
  }
 ],
 "metadata": {
  "kernelspec": {
   "display_name": "Python 3 (ipykernel)",
   "language": "python",
   "name": "python3"
  },
  "language_info": {
   "codemirror_mode": {
    "name": "ipython",
    "version": 3
   },
   "file_extension": ".py",
   "mimetype": "text/x-python",
   "name": "python",
   "nbconvert_exporter": "python",
   "pygments_lexer": "ipython3",
   "version": "3.12.7"
  }
 },
 "nbformat": 4,
 "nbformat_minor": 5
}
