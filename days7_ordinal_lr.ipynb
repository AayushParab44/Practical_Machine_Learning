{
 "cells": [
  {
   "cell_type": "code",
   "execution_count": 1,
   "id": "b2dabaa3-c316-4da0-b585-0a2335648a73",
   "metadata": {},
   "outputs": [],
   "source": [
    "import numpy as np\n",
    "import pandas as pd\n",
    "import matplotlib.pyplot as plt\n",
    "import seaborn as sns\n",
    "\n",
    "from numpy import random\n",
    "\n",
    "import scipy\n",
    "from scipy import stats\n",
    "from scipy.stats import binom,poisson,norm,t\n",
    "\n",
    "import pylab\n",
    "from pylab import legend, plot, show ,title, xlabel, ylabel\n",
    "\n",
    "import statsmodels\n",
    "from statsmodels import stats\n",
    "from statsmodels.stats import weightstats as ssw\n",
    "\n",
    "import statsmodels.api as sm\n",
    "from statsmodels.formula.api import ols\n",
    "import statsmodels.stats.multicomp\n",
    "\n",
    "from statsmodels.stats.outliers_influence import variance_inflation_factor\n",
    "\n",
    "from statsmodels.stats import proportion as ssp\n",
    "\n",
    "from scipy.stats import chisquare, chi2_contingency\n",
    "\n",
    "from sklearn.model_selection import train_test_split\n",
    "\n",
    "from sklearn.metrics import confusion_matrix,classification_report\n",
    "\n",
    "from statsmodels import discrete\n",
    "from statsmodels.discrete import discrete_model\n",
    "from statsmodels.discrete.discrete_model import MNLogit\n",
    "\n",
    "from statsmodels.miscmodels.ordinal_model import OrderedModel"
   ]
  },
  {
   "cell_type": "code",
   "execution_count": 2,
   "id": "576520f8-661e-4666-bd67-e8504eb62942",
   "metadata": {},
   "outputs": [],
   "source": [
    "#in ordinal we do not add a constant.\n"
   ]
  },
  {
   "cell_type": "code",
   "execution_count": 3,
   "id": "6dd4940a-f96b-46c8-a315-1537a3c56b28",
   "metadata": {},
   "outputs": [
    {
     "data": {
      "text/html": [
       "<div>\n",
       "<style scoped>\n",
       "    .dataframe tbody tr th:only-of-type {\n",
       "        vertical-align: middle;\n",
       "    }\n",
       "\n",
       "    .dataframe tbody tr th {\n",
       "        vertical-align: top;\n",
       "    }\n",
       "\n",
       "    .dataframe thead th {\n",
       "        text-align: right;\n",
       "    }\n",
       "</style>\n",
       "<table border=\"1\" class=\"dataframe\">\n",
       "  <thead>\n",
       "    <tr style=\"text-align: right;\">\n",
       "      <th></th>\n",
       "      <th>Survival</th>\n",
       "      <th>Region</th>\n",
       "      <th>ToxicLevel</th>\n",
       "    </tr>\n",
       "  </thead>\n",
       "  <tbody>\n",
       "    <tr>\n",
       "      <th>0</th>\n",
       "      <td>1</td>\n",
       "      <td>1</td>\n",
       "      <td>62.00</td>\n",
       "    </tr>\n",
       "    <tr>\n",
       "      <th>1</th>\n",
       "      <td>1</td>\n",
       "      <td>2</td>\n",
       "      <td>46.00</td>\n",
       "    </tr>\n",
       "    <tr>\n",
       "      <th>2</th>\n",
       "      <td>2</td>\n",
       "      <td>1</td>\n",
       "      <td>48.50</td>\n",
       "    </tr>\n",
       "    <tr>\n",
       "      <th>3</th>\n",
       "      <td>3</td>\n",
       "      <td>2</td>\n",
       "      <td>32.00</td>\n",
       "    </tr>\n",
       "    <tr>\n",
       "      <th>4</th>\n",
       "      <td>2</td>\n",
       "      <td>1</td>\n",
       "      <td>63.50</td>\n",
       "    </tr>\n",
       "    <tr>\n",
       "      <th>...</th>\n",
       "      <td>...</td>\n",
       "      <td>...</td>\n",
       "      <td>...</td>\n",
       "    </tr>\n",
       "    <tr>\n",
       "      <th>68</th>\n",
       "      <td>2</td>\n",
       "      <td>2</td>\n",
       "      <td>51.00</td>\n",
       "    </tr>\n",
       "    <tr>\n",
       "      <th>69</th>\n",
       "      <td>2</td>\n",
       "      <td>2</td>\n",
       "      <td>35.25</td>\n",
       "    </tr>\n",
       "    <tr>\n",
       "      <th>70</th>\n",
       "      <td>1</td>\n",
       "      <td>2</td>\n",
       "      <td>40.50</td>\n",
       "    </tr>\n",
       "    <tr>\n",
       "      <th>71</th>\n",
       "      <td>2</td>\n",
       "      <td>2</td>\n",
       "      <td>39.50</td>\n",
       "    </tr>\n",
       "    <tr>\n",
       "      <th>72</th>\n",
       "      <td>3</td>\n",
       "      <td>2</td>\n",
       "      <td>36.00</td>\n",
       "    </tr>\n",
       "  </tbody>\n",
       "</table>\n",
       "<p>73 rows × 3 columns</p>\n",
       "</div>"
      ],
      "text/plain": [
       "    Survival  Region  ToxicLevel\n",
       "0          1       1       62.00\n",
       "1          1       2       46.00\n",
       "2          2       1       48.50\n",
       "3          3       2       32.00\n",
       "4          2       1       63.50\n",
       "..       ...     ...         ...\n",
       "68         2       2       51.00\n",
       "69         2       2       35.25\n",
       "70         1       2       40.50\n",
       "71         2       2       39.50\n",
       "72         3       2       36.00\n",
       "\n",
       "[73 rows x 3 columns]"
      ]
     },
     "execution_count": 3,
     "metadata": {},
     "output_type": "execute_result"
    }
   ],
   "source": [
    "df=pd.read_excel('CDAC_DataBook.xlsx',sheet_name='ordinal')\n",
    "df"
   ]
  },
  {
   "cell_type": "code",
   "execution_count": 4,
   "id": "3292a2bf-dc49-4560-801a-deff14c5f908",
   "metadata": {},
   "outputs": [],
   "source": [
    "reg_dum=pd.get_dummies(df.Region,drop_first=True,prefix='region',dtype=int)"
   ]
  },
  {
   "cell_type": "code",
   "execution_count": 5,
   "id": "b3ab92f2-ef69-4ce5-80ad-70505381e4ed",
   "metadata": {},
   "outputs": [],
   "source": [
    "df=df.drop('Region',axis=1)\n"
   ]
  },
  {
   "cell_type": "code",
   "execution_count": 6,
   "id": "ea9ec558-c55b-47e8-99df-de8f2313a595",
   "metadata": {},
   "outputs": [],
   "source": [
    "df=pd.concat([df,reg_dum],axis=1)"
   ]
  },
  {
   "cell_type": "code",
   "execution_count": 7,
   "id": "92497519-eeb1-43b0-847a-66506d52a43b",
   "metadata": {},
   "outputs": [],
   "source": [
    "x_train,x_test,y_train,y_test=train_test_split(df.drop('Survival',axis=1),df.Survival,test_size=.2,random_state=20)"
   ]
  },
  {
   "cell_type": "code",
   "execution_count": 8,
   "id": "da6a1594-404b-447c-ad0b-d064a5f94ef3",
   "metadata": {},
   "outputs": [
    {
     "name": "stdout",
     "output_type": "stream",
     "text": [
      "Optimization terminated successfully.\n",
      "         Current function value: 0.844881\n",
      "         Iterations: 190\n",
      "         Function evaluations: 326\n"
     ]
    }
   ],
   "source": [
    "mod_ord=OrderedModel(y_train,x_train).fit()"
   ]
  },
  {
   "cell_type": "code",
   "execution_count": 9,
   "id": "027fd474-d7e8-47b7-91a8-ccb8918c5b9d",
   "metadata": {},
   "outputs": [
    {
     "name": "stdout",
     "output_type": "stream",
     "text": [
      "                             OrderedModel Results                             \n",
      "==============================================================================\n",
      "Dep. Variable:               Survival   Log-Likelihood:                -49.003\n",
      "Model:                   OrderedModel   AIC:                             106.0\n",
      "Method:            Maximum Likelihood   BIC:                             114.2\n",
      "Date:                Sat, 21 Dec 2024                                         \n",
      "Time:                        17:18:00                                         \n",
      "No. Observations:                  58                                         \n",
      "Df Residuals:                      54                                         \n",
      "Df Model:                           2                                         \n",
      "==============================================================================\n",
      "                 coef    std err          z      P>|z|      [0.025      0.975]\n",
      "------------------------------------------------------------------------------\n",
      "ToxicLevel    -0.0697      0.020     -3.534      0.000      -0.108      -0.031\n",
      "region_2      -0.4037      0.314     -1.285      0.199      -1.020       0.212\n",
      "1/2           -4.2309      0.983     -4.303      0.000      -6.158      -2.304\n",
      "2/3            0.6615      0.146      4.545      0.000       0.376       0.947\n",
      "==============================================================================\n"
     ]
    }
   ],
   "source": [
    "print(mod_ord.summary())"
   ]
  },
  {
   "cell_type": "code",
   "execution_count": 10,
   "id": "6a052b6b-0d79-45d6-a17e-ffd57fa0cfaa",
   "metadata": {},
   "outputs": [],
   "source": [
    "# Ho: toxic level does not inluence survival rate\n",
    "# It is rejected since p<.05\n",
    "\n",
    "#Ho: change in region from 1 to 2 has no effect on the survival rating\n",
    "\n"
   ]
  },
  {
   "cell_type": "code",
   "execution_count": null,
   "id": "90d452f1-a4f8-4099-973e-80f4dba136f2",
   "metadata": {},
   "outputs": [],
   "source": []
  },
  {
   "cell_type": "code",
   "execution_count": null,
   "id": "bdc71b74-3a30-4e68-b733-7844185a3b48",
   "metadata": {},
   "outputs": [],
   "source": []
  },
  {
   "cell_type": "markdown",
   "id": "37bdd972-f35a-4889-b660-ecfdc69cdfc3",
   "metadata": {},
   "source": [
    "# Poisson regression\n",
    "- when the variation in the counts is less."
   ]
  },
  {
   "cell_type": "markdown",
   "id": "1274a167-8592-4457-aa73-62b202d704b5",
   "metadata": {},
   "source": [
    "# Negative Binomial\n",
    "- when the variation in the counts is more"
   ]
  },
  {
   "cell_type": "markdown",
   "id": "6f944c04-9ccc-4eb1-9335-e4c60b9b3110",
   "metadata": {},
   "source": [
    "# Poisson regression-"
   ]
  },
  {
   "cell_type": "code",
   "execution_count": 30,
   "id": "25c1c933-f871-421c-8e69-57b15b8d120f",
   "metadata": {},
   "outputs": [],
   "source": [
    "#poisson regression\n",
    "\n",
    "import statsmodels.formula.api as smf\n",
    "from statsmodels.discrete.discrete_model import Poisson as psn"
   ]
  },
  {
   "cell_type": "code",
   "execution_count": 14,
   "id": "5ece5942-245a-41ec-998c-8a476bfa3df3",
   "metadata": {},
   "outputs": [],
   "source": [
    "df=pd.read_excel('CDAC_DataBook.xlsx',sheet_name='poisson') #numbers are whole numbers"
   ]
  },
  {
   "cell_type": "code",
   "execution_count": 15,
   "id": "f8d2fdd1-c03e-4071-aff2-cc33c4cd5c9c",
   "metadata": {},
   "outputs": [
    {
     "data": {
      "text/html": [
       "<div>\n",
       "<style scoped>\n",
       "    .dataframe tbody tr th:only-of-type {\n",
       "        vertical-align: middle;\n",
       "    }\n",
       "\n",
       "    .dataframe tbody tr th {\n",
       "        vertical-align: top;\n",
       "    }\n",
       "\n",
       "    .dataframe thead th {\n",
       "        text-align: right;\n",
       "    }\n",
       "</style>\n",
       "<table border=\"1\" class=\"dataframe\">\n",
       "  <thead>\n",
       "    <tr style=\"text-align: right;\">\n",
       "      <th></th>\n",
       "      <th>num_awards</th>\n",
       "      <th>prog</th>\n",
       "      <th>math</th>\n",
       "    </tr>\n",
       "  </thead>\n",
       "  <tbody>\n",
       "    <tr>\n",
       "      <th>0</th>\n",
       "      <td>0</td>\n",
       "      <td>3</td>\n",
       "      <td>41</td>\n",
       "    </tr>\n",
       "    <tr>\n",
       "      <th>1</th>\n",
       "      <td>0</td>\n",
       "      <td>1</td>\n",
       "      <td>41</td>\n",
       "    </tr>\n",
       "    <tr>\n",
       "      <th>2</th>\n",
       "      <td>0</td>\n",
       "      <td>3</td>\n",
       "      <td>44</td>\n",
       "    </tr>\n",
       "    <tr>\n",
       "      <th>3</th>\n",
       "      <td>0</td>\n",
       "      <td>3</td>\n",
       "      <td>42</td>\n",
       "    </tr>\n",
       "    <tr>\n",
       "      <th>4</th>\n",
       "      <td>0</td>\n",
       "      <td>3</td>\n",
       "      <td>40</td>\n",
       "    </tr>\n",
       "  </tbody>\n",
       "</table>\n",
       "</div>"
      ],
      "text/plain": [
       "   num_awards  prog  math\n",
       "0           0     3    41\n",
       "1           0     1    41\n",
       "2           0     3    44\n",
       "3           0     3    42\n",
       "4           0     3    40"
      ]
     },
     "execution_count": 15,
     "metadata": {},
     "output_type": "execute_result"
    }
   ],
   "source": [
    "df.head()"
   ]
  },
  {
   "cell_type": "code",
   "execution_count": 16,
   "id": "bc8f2e62-ef10-4bad-9ee4-3fba358d3305",
   "metadata": {},
   "outputs": [],
   "source": [
    "prog_dummy=pd.get_dummies(df['prog'],drop_first=True,dtype=int,prefix='prog')"
   ]
  },
  {
   "cell_type": "code",
   "execution_count": 17,
   "id": "160365d4-123f-4a1c-b5b6-0e011f246b73",
   "metadata": {},
   "outputs": [
    {
     "data": {
      "text/html": [
       "<div>\n",
       "<style scoped>\n",
       "    .dataframe tbody tr th:only-of-type {\n",
       "        vertical-align: middle;\n",
       "    }\n",
       "\n",
       "    .dataframe tbody tr th {\n",
       "        vertical-align: top;\n",
       "    }\n",
       "\n",
       "    .dataframe thead th {\n",
       "        text-align: right;\n",
       "    }\n",
       "</style>\n",
       "<table border=\"1\" class=\"dataframe\">\n",
       "  <thead>\n",
       "    <tr style=\"text-align: right;\">\n",
       "      <th></th>\n",
       "      <th>num_awards</th>\n",
       "      <th>math</th>\n",
       "      <th>prog_2</th>\n",
       "      <th>prog_3</th>\n",
       "    </tr>\n",
       "  </thead>\n",
       "  <tbody>\n",
       "    <tr>\n",
       "      <th>0</th>\n",
       "      <td>0</td>\n",
       "      <td>41</td>\n",
       "      <td>0</td>\n",
       "      <td>1</td>\n",
       "    </tr>\n",
       "    <tr>\n",
       "      <th>1</th>\n",
       "      <td>0</td>\n",
       "      <td>41</td>\n",
       "      <td>0</td>\n",
       "      <td>0</td>\n",
       "    </tr>\n",
       "    <tr>\n",
       "      <th>2</th>\n",
       "      <td>0</td>\n",
       "      <td>44</td>\n",
       "      <td>0</td>\n",
       "      <td>1</td>\n",
       "    </tr>\n",
       "    <tr>\n",
       "      <th>3</th>\n",
       "      <td>0</td>\n",
       "      <td>42</td>\n",
       "      <td>0</td>\n",
       "      <td>1</td>\n",
       "    </tr>\n",
       "    <tr>\n",
       "      <th>4</th>\n",
       "      <td>0</td>\n",
       "      <td>40</td>\n",
       "      <td>0</td>\n",
       "      <td>1</td>\n",
       "    </tr>\n",
       "  </tbody>\n",
       "</table>\n",
       "</div>"
      ],
      "text/plain": [
       "   num_awards  math  prog_2  prog_3\n",
       "0           0    41       0       1\n",
       "1           0    41       0       0\n",
       "2           0    44       0       1\n",
       "3           0    42       0       1\n",
       "4           0    40       0       1"
      ]
     },
     "execution_count": 17,
     "metadata": {},
     "output_type": "execute_result"
    }
   ],
   "source": [
    "df=df.drop('prog',axis=1)\n",
    "df=pd.concat([df,prog_dummy],axis=1)\n",
    "df.head()"
   ]
  },
  {
   "cell_type": "code",
   "execution_count": 18,
   "id": "6789e40d-48be-4622-b35f-5e7997123475",
   "metadata": {},
   "outputs": [],
   "source": [
    "x_train,x_test,y_train,y_test=train_test_split(df.drop('num_awards',axis=1),df.num_awards,test_size=0.2,random_state=20)"
   ]
  },
  {
   "cell_type": "code",
   "execution_count": 19,
   "id": "09f7d0d3-4d39-4a09-9bda-dc2f8f66fbce",
   "metadata": {},
   "outputs": [],
   "source": [
    "x_train=sm.add_constant(x_train,prepend=False)"
   ]
  },
  {
   "cell_type": "code",
   "execution_count": 20,
   "id": "673e21cd-6699-412f-b5c5-755b8439e0da",
   "metadata": {},
   "outputs": [],
   "source": [
    "df_train=pd.concat([x_train,y_train],axis=1)"
   ]
  },
  {
   "cell_type": "code",
   "execution_count": 23,
   "id": "f8767d83-3111-42c2-9635-9e10f5ea6d5c",
   "metadata": {},
   "outputs": [
    {
     "name": "stdout",
     "output_type": "stream",
     "text": [
      "Optimization terminated successfully.\n",
      "         Current function value: 0.871654\n",
      "         Iterations 6\n"
     ]
    }
   ],
   "source": [
    "mod1=psn.from_formula('num_awards ~ math+prog_2+prog_3',data=df_train).fit()"
   ]
  },
  {
   "cell_type": "code",
   "execution_count": 25,
   "id": "7490e995-dffe-4b0c-b12c-8ee4ed9817e9",
   "metadata": {},
   "outputs": [
    {
     "name": "stdout",
     "output_type": "stream",
     "text": [
      "                          Poisson Regression Results                          \n",
      "==============================================================================\n",
      "Dep. Variable:             num_awards   No. Observations:                  160\n",
      "Model:                        Poisson   Df Residuals:                      156\n",
      "Method:                           MLE   Df Model:                            3\n",
      "Date:                Sat, 21 Dec 2024   Pseudo R-squ.:                  0.1865\n",
      "Time:                        17:43:36   Log-Likelihood:                -139.46\n",
      "converged:                       True   LL-Null:                       -171.44\n",
      "Covariance Type:            nonrobust   LLR p-value:                 8.447e-14\n",
      "==============================================================================\n",
      "                 coef    std err          z      P>|z|      [0.025      0.975]\n",
      "------------------------------------------------------------------------------\n",
      "Intercept     -5.0741      0.780     -6.503      0.000      -6.603      -3.545\n",
      "math           0.0661      0.013      5.154      0.000       0.041       0.091\n",
      "prog_2         1.1048      0.407      2.711      0.007       0.306       1.903\n",
      "prog_3         0.3667      0.506      0.724      0.469      -0.626       1.359\n",
      "==============================================================================\n"
     ]
    }
   ],
   "source": [
    "print(mod1.summary())"
   ]
  },
  {
   "cell_type": "markdown",
   "id": "c66742e0-ae9e-4726-804a-3fde108bc9d1",
   "metadata": {},
   "source": [
    "Ho: math score does not influence number of awards<br>\n",
    "p-value<.05 so we reject the null hypothesis<br>\n",
    "as math score increases, the number of awards increases.\n",
    "\n"
   ]
  },
  {
   "cell_type": "code",
   "execution_count": null,
   "id": "5f3de8de-0101-4500-a967-61dd7bfbe848",
   "metadata": {},
   "outputs": [],
   "source": []
  },
  {
   "cell_type": "markdown",
   "id": "b3961adc-108e-48bb-9326-3a1e0f27d956",
   "metadata": {},
   "source": [
    "for prog_2- <br>\n",
    "1. Ho: as the program changes from 1 to 2 it has no influence on the number of awards.<br>\n",
    "2. p-value<0.05 - so we reject the null hypothesis.<br>\n",
    "3. As the program type changes from prog1 to prog2, the number of awards increases."
   ]
  },
  {
   "cell_type": "code",
   "execution_count": null,
   "id": "e34d5b20-56f5-4c48-b5ad-5225477ad73d",
   "metadata": {},
   "outputs": [],
   "source": []
  },
  {
   "cell_type": "markdown",
   "id": "e45e882b-8572-4e63-a069-cd87fae3f4dd",
   "metadata": {},
   "source": [
    "#Exercise \n",
    "name of test and exaplanation(slight) | example  |  program(just last part)  on an excel sheet or paper table type."
   ]
  },
  {
   "cell_type": "markdown",
   "id": "1d2f39ad-4d63-4895-b5a8-9b72965b640a",
   "metadata": {},
   "source": [
    "Left tail | right tail |  Two tail test for each of the above exercise"
   ]
  },
  {
   "cell_type": "markdown",
   "id": "190740e2-05aa-4422-8579-ad4c0dfb0aa9",
   "metadata": {},
   "source": [
    "SLR,MLR,BINOMIAL, NOMINAL, ORDINAL,POISSON,negative binomial"
   ]
  },
  {
   "cell_type": "markdown",
   "id": "b59fe302-688d-49c4-8086-c9d738d3e046",
   "metadata": {},
   "source": [
    "1. negative binomial\n",
    "2. Standardization/scaling of values\n",
    "3. feature selection\n",
    "4. Lasso and ridge regression."
   ]
  },
  {
   "cell_type": "code",
   "execution_count": null,
   "id": "ef6216a5-312c-4e93-b905-0ab1fab3b6ed",
   "metadata": {},
   "outputs": [],
   "source": []
  }
 ],
 "metadata": {
  "kernelspec": {
   "display_name": "Python 3 (ipykernel)",
   "language": "python",
   "name": "python3"
  },
  "language_info": {
   "codemirror_mode": {
    "name": "ipython",
    "version": 3
   },
   "file_extension": ".py",
   "mimetype": "text/x-python",
   "name": "python",
   "nbconvert_exporter": "python",
   "pygments_lexer": "ipython3",
   "version": "3.12.7"
  }
 },
 "nbformat": 4,
 "nbformat_minor": 5
}
