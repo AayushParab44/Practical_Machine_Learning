{
 "cells": [
  {
   "cell_type": "code",
   "execution_count": 95,
   "id": "6d243a7a-b525-4a23-9db8-970e9486bfcf",
   "metadata": {},
   "outputs": [],
   "source": [
    "import numpy as np\n",
    "import pandas as pd\n",
    "\n",
    "import pandas as pd\n",
    "\n",
    "from statsmodels.discrete import discrete_model\n",
    "import statsmodels.formula.api as smf\n",
    "from statsmodels.discrete.discrete_model import Poisson as psn,NegativeBinomial as ngb,MNLogit\n",
    "\n",
    "\n",
    "import numpy as np\n",
    "import pandas as pd\n",
    "import matplotlib.pyplot as plt\n",
    "import seaborn as sns\n",
    "\n",
    "from numpy import random\n",
    "\n",
    "import scipy\n",
    "from scipy import stats\n",
    "from scipy.stats import binom,poisson,norm,t\n",
    "\n",
    "import pylab\n",
    "from pylab import legend, plot, show ,title, xlabel, ylabel\n",
    "\n",
    "import statsmodels\n",
    "from statsmodels import stats\n",
    "from statsmodels.stats import weightstats as ssw\n",
    "\n",
    "import statsmodels.api as sm\n",
    "from statsmodels.formula.api import ols\n",
    "import statsmodels.stats.multicomp\n",
    "\n",
    "from statsmodels.stats.outliers_influence import variance_inflation_factor\n",
    "\n",
    "from statsmodels.stats import proportion as ssp\n",
    "\n",
    "from scipy.stats import chisquare, chi2_contingency\n",
    "\n",
    "from sklearn.model_selection import train_test_split\n",
    "\n",
    "from sklearn.metrics import confusion_matrix,classification_report\n",
    "\n",
    "from statsmodels import discrete\n",
    "from statsmodels.discrete import discrete_model\n",
    "from statsmodels.discrete.discrete_model import MNLogit\n",
    "\n",
    "from statsmodels.miscmodels.ordinal_model import OrderedModel\n",
    "\n",
    "from sklearn.preprocessing import MinMaxScaler,StandardScaler\n",
    "\n",
    "from sklearn.feature_selection import mutual_info_classif,SelectKBest\n",
    "\n",
    "from sklearn.ensemble import ExtraTreesClassifier\n",
    "    "
   ]
  },
  {
   "cell_type": "code",
   "execution_count": null,
   "id": "5edbace1-cc96-4edd-bd8f-ea662f92043c",
   "metadata": {},
   "outputs": [],
   "source": []
  },
  {
   "cell_type": "markdown",
   "id": "48a8d32f-54bd-47e5-95eb-01a644bb12d0",
   "metadata": {},
   "source": [
    "# Feature scaling-\n",
    "- Feature scaling - scaling of variables is required specifically in those models where the calculations are based on the distance between the different points.\n",
    "- It is mainly done when we need to compare between two quantities(which have different scales) for example a cmparison between weight(kgs) and money(price).\n",
    "- Generally to be done before splitting the dataset."
   ]
  },
  {
   "cell_type": "markdown",
   "id": "02a2efbe-ff87-4fd4-9253-5ea9ff86ddd7",
   "metadata": {},
   "source": [
    "- Scaling is a necessity for these algorithms-\n",
    "1. KNN - K-Nearest Neighbours\n",
    "2. K-means clustering\n",
    "3. Principal Component Analysis(PCA)\n",
    "4. Support Vector Machines(SVM)"
   ]
  },
  {
   "cell_type": "markdown",
   "id": "4138fb91-f9a2-482f-95f3-6efd3b8b90b5",
   "metadata": {},
   "source": [
    "- Scaling is not required -Decision Trees, random forest and the boosting algorithms(XGBoost,GradientBoosting)."
   ]
  },
  {
   "cell_type": "markdown",
   "id": "e0a63c35-b3bb-40fe-850f-9052545bfcd3",
   "metadata": {},
   "source": [
    "- Decision Trees and Random Forest are not affected by outliers"
   ]
  },
  {
   "cell_type": "markdown",
   "id": "07f40bec-f984-40cf-b4ae-15333e516bb2",
   "metadata": {},
   "source": [
    "- As compared to that, regression models are more affected by outliers."
   ]
  },
  {
   "cell_type": "markdown",
   "id": "38c8f93b-3f1b-4940-81b1-be9f13c52cc1",
   "metadata": {},
   "source": [
    "- So generally wherever scaling is not required, those models are not affected by outliers"
   ]
  },
  {
   "cell_type": "code",
   "execution_count": null,
   "id": "11e5dabc-7bad-419e-a235-16fec4d2b061",
   "metadata": {},
   "outputs": [],
   "source": []
  },
  {
   "cell_type": "code",
   "execution_count": null,
   "id": "60ba7f89-8e7a-49d6-a917-a8c9c3e21964",
   "metadata": {},
   "outputs": [],
   "source": []
  },
  {
   "cell_type": "markdown",
   "id": "8d779bd5-a937-4f3e-8a2a-1f9206361abf",
   "metadata": {},
   "source": [
    "# Scaling of variables-"
   ]
  },
  {
   "cell_type": "code",
   "execution_count": 39,
   "id": "8cdaf885-2ec5-40cb-9f54-b9dc5fef5028",
   "metadata": {},
   "outputs": [],
   "source": [
    "df=pd.read_excel('CDAC_DataBook.xlsx',sheet_name='clusters')"
   ]
  },
  {
   "cell_type": "code",
   "execution_count": 40,
   "id": "48e87b54-f735-418b-9fe3-7db1f5945591",
   "metadata": {},
   "outputs": [
    {
     "data": {
      "text/html": [
       "<div>\n",
       "<style scoped>\n",
       "    .dataframe tbody tr th:only-of-type {\n",
       "        vertical-align: middle;\n",
       "    }\n",
       "\n",
       "    .dataframe tbody tr th {\n",
       "        vertical-align: top;\n",
       "    }\n",
       "\n",
       "    .dataframe thead th {\n",
       "        text-align: right;\n",
       "    }\n",
       "</style>\n",
       "<table border=\"1\" class=\"dataframe\">\n",
       "  <thead>\n",
       "    <tr style=\"text-align: right;\">\n",
       "      <th></th>\n",
       "      <th>Var1</th>\n",
       "      <th>Var2</th>\n",
       "    </tr>\n",
       "  </thead>\n",
       "  <tbody>\n",
       "    <tr>\n",
       "      <th>0</th>\n",
       "      <td>25</td>\n",
       "      <td>79</td>\n",
       "    </tr>\n",
       "    <tr>\n",
       "      <th>1</th>\n",
       "      <td>34</td>\n",
       "      <td>51</td>\n",
       "    </tr>\n",
       "    <tr>\n",
       "      <th>2</th>\n",
       "      <td>22</td>\n",
       "      <td>53</td>\n",
       "    </tr>\n",
       "    <tr>\n",
       "      <th>3</th>\n",
       "      <td>27</td>\n",
       "      <td>78</td>\n",
       "    </tr>\n",
       "    <tr>\n",
       "      <th>4</th>\n",
       "      <td>33</td>\n",
       "      <td>59</td>\n",
       "    </tr>\n",
       "  </tbody>\n",
       "</table>\n",
       "</div>"
      ],
      "text/plain": [
       "   Var1  Var2\n",
       "0    25    79\n",
       "1    34    51\n",
       "2    22    53\n",
       "3    27    78\n",
       "4    33    59"
      ]
     },
     "execution_count": 40,
     "metadata": {},
     "output_type": "execute_result"
    }
   ],
   "source": [
    "df.head()"
   ]
  },
  {
   "cell_type": "code",
   "execution_count": 41,
   "id": "1c672005-2176-4e44-8d23-5482b82d41fb",
   "metadata": {},
   "outputs": [
    {
     "data": {
      "text/html": [
       "<div>\n",
       "<style scoped>\n",
       "    .dataframe tbody tr th:only-of-type {\n",
       "        vertical-align: middle;\n",
       "    }\n",
       "\n",
       "    .dataframe tbody tr th {\n",
       "        vertical-align: top;\n",
       "    }\n",
       "\n",
       "    .dataframe thead th {\n",
       "        text-align: right;\n",
       "    }\n",
       "</style>\n",
       "<table border=\"1\" class=\"dataframe\">\n",
       "  <thead>\n",
       "    <tr style=\"text-align: right;\">\n",
       "      <th></th>\n",
       "      <th>Var1</th>\n",
       "      <th>Var2</th>\n",
       "    </tr>\n",
       "  </thead>\n",
       "  <tbody>\n",
       "    <tr>\n",
       "      <th>count</th>\n",
       "      <td>30.000000</td>\n",
       "      <td>30.000000</td>\n",
       "    </tr>\n",
       "    <tr>\n",
       "      <th>mean</th>\n",
       "      <td>42.633333</td>\n",
       "      <td>43.200000</td>\n",
       "    </tr>\n",
       "    <tr>\n",
       "      <th>std</th>\n",
       "      <td>12.220625</td>\n",
       "      <td>22.932284</td>\n",
       "    </tr>\n",
       "    <tr>\n",
       "      <th>min</th>\n",
       "      <td>22.000000</td>\n",
       "      <td>5.000000</td>\n",
       "    </tr>\n",
       "    <tr>\n",
       "      <th>25%</th>\n",
       "      <td>33.250000</td>\n",
       "      <td>25.500000</td>\n",
       "    </tr>\n",
       "    <tr>\n",
       "      <th>50%</th>\n",
       "      <td>43.500000</td>\n",
       "      <td>48.500000</td>\n",
       "    </tr>\n",
       "    <tr>\n",
       "      <th>75%</th>\n",
       "      <td>50.750000</td>\n",
       "      <td>58.750000</td>\n",
       "    </tr>\n",
       "    <tr>\n",
       "      <th>max</th>\n",
       "      <td>67.000000</td>\n",
       "      <td>79.000000</td>\n",
       "    </tr>\n",
       "  </tbody>\n",
       "</table>\n",
       "</div>"
      ],
      "text/plain": [
       "            Var1       Var2\n",
       "count  30.000000  30.000000\n",
       "mean   42.633333  43.200000\n",
       "std    12.220625  22.932284\n",
       "min    22.000000   5.000000\n",
       "25%    33.250000  25.500000\n",
       "50%    43.500000  48.500000\n",
       "75%    50.750000  58.750000\n",
       "max    67.000000  79.000000"
      ]
     },
     "execution_count": 41,
     "metadata": {},
     "output_type": "execute_result"
    }
   ],
   "source": [
    "df.describe()"
   ]
  },
  {
   "cell_type": "code",
   "execution_count": null,
   "id": "a848aec0-7c3d-4a3c-aa3f-6187e7a4d67b",
   "metadata": {},
   "outputs": [],
   "source": []
  },
  {
   "cell_type": "markdown",
   "id": "5a53af27-74e5-47de-a1ee-3a07fcda8473",
   "metadata": {},
   "source": [
    "# Min Max Scaler-\n",
    "\n",
    "Formula - (x-min)/(max-min)\n",
    "\n",
    "x -> every value of the dataset<br>\n",
    "min -> min value of the dataset<br>\n",
    "max -> max value of the dataset<br>"
   ]
  },
  {
   "cell_type": "code",
   "execution_count": null,
   "id": "59c0885f-0b1e-4bce-a90c-ff2c82080b55",
   "metadata": {},
   "outputs": [],
   "source": []
  },
  {
   "cell_type": "code",
   "execution_count": 42,
   "id": "37141686-a6e0-4ecb-84ed-db4a43a09ef1",
   "metadata": {},
   "outputs": [],
   "source": [
    "sc1=MinMaxScaler()"
   ]
  },
  {
   "cell_type": "code",
   "execution_count": 43,
   "id": "26a4df67-36e8-4cec-af6e-ec7c6f07dda7",
   "metadata": {},
   "outputs": [
    {
     "data": {
      "text/plain": [
       "array([[0.06666667, 1.        ],\n",
       "       [0.26666667, 0.62162162],\n",
       "       [0.        , 0.64864865],\n",
       "       [0.11111111, 0.98648649],\n",
       "       [0.24444444, 0.72972973],\n",
       "       [0.24444444, 0.93243243],\n",
       "       [0.2       , 0.91891892],\n",
       "       [0.        , 0.7027027 ],\n",
       "       [0.28888889, 0.86486486],\n",
       "       [0.26666667, 0.94594595],\n",
       "       [1.        , 0.62162162],\n",
       "       [0.71111111, 0.36486486],\n",
       "       [0.77777778, 0.47297297],\n",
       "       [0.46666667, 0.56756757],\n",
       "       [0.62222222, 0.64864865],\n",
       "       [0.77777778, 0.41891892],\n",
       "       [0.82222222, 0.40540541],\n",
       "       [0.66666667, 0.71621622],\n",
       "       [0.95555556, 0.72972973],\n",
       "       [0.55555556, 0.60810811],\n",
       "       [0.6       , 0.27027027],\n",
       "       [0.57777778, 0.2027027 ],\n",
       "       [0.28888889, 0.12162162],\n",
       "       [0.24444444, 0.09459459],\n",
       "       [0.48888889, 0.2027027 ],\n",
       "       [0.51111111, 0.        ],\n",
       "       [0.35555556, 0.32432432],\n",
       "       [0.46666667, 0.2972973 ],\n",
       "       [0.64444444, 0.04054054],\n",
       "       [0.53333333, 0.02702703]])"
      ]
     },
     "execution_count": 43,
     "metadata": {},
     "output_type": "execute_result"
    }
   ],
   "source": [
    "scaled_df=sc1.fit_transform(df)\n",
    "scaled_df"
   ]
  },
  {
   "cell_type": "code",
   "execution_count": 44,
   "id": "6a0a2234-c9db-4150-99e7-4eaf12eb3eda",
   "metadata": {},
   "outputs": [
    {
     "data": {
      "text/html": [
       "<div>\n",
       "<style scoped>\n",
       "    .dataframe tbody tr th:only-of-type {\n",
       "        vertical-align: middle;\n",
       "    }\n",
       "\n",
       "    .dataframe tbody tr th {\n",
       "        vertical-align: top;\n",
       "    }\n",
       "\n",
       "    .dataframe thead th {\n",
       "        text-align: right;\n",
       "    }\n",
       "</style>\n",
       "<table border=\"1\" class=\"dataframe\">\n",
       "  <thead>\n",
       "    <tr style=\"text-align: right;\">\n",
       "      <th></th>\n",
       "      <th>0</th>\n",
       "      <th>1</th>\n",
       "    </tr>\n",
       "  </thead>\n",
       "  <tbody>\n",
       "    <tr>\n",
       "      <th>0</th>\n",
       "      <td>0.066667</td>\n",
       "      <td>1.000000</td>\n",
       "    </tr>\n",
       "    <tr>\n",
       "      <th>1</th>\n",
       "      <td>0.266667</td>\n",
       "      <td>0.621622</td>\n",
       "    </tr>\n",
       "    <tr>\n",
       "      <th>2</th>\n",
       "      <td>0.000000</td>\n",
       "      <td>0.648649</td>\n",
       "    </tr>\n",
       "    <tr>\n",
       "      <th>3</th>\n",
       "      <td>0.111111</td>\n",
       "      <td>0.986486</td>\n",
       "    </tr>\n",
       "    <tr>\n",
       "      <th>4</th>\n",
       "      <td>0.244444</td>\n",
       "      <td>0.729730</td>\n",
       "    </tr>\n",
       "  </tbody>\n",
       "</table>\n",
       "</div>"
      ],
      "text/plain": [
       "          0         1\n",
       "0  0.066667  1.000000\n",
       "1  0.266667  0.621622\n",
       "2  0.000000  0.648649\n",
       "3  0.111111  0.986486\n",
       "4  0.244444  0.729730"
      ]
     },
     "execution_count": 44,
     "metadata": {},
     "output_type": "execute_result"
    }
   ],
   "source": [
    "scaled_df=pd.DataFrame(scaled_df)\n",
    "scaled_df.head()"
   ]
  },
  {
   "cell_type": "code",
   "execution_count": 45,
   "id": "51d8cc5f-b6f7-443a-855b-c9282dfeea68",
   "metadata": {},
   "outputs": [
    {
     "data": {
      "text/html": [
       "<div>\n",
       "<style scoped>\n",
       "    .dataframe tbody tr th:only-of-type {\n",
       "        vertical-align: middle;\n",
       "    }\n",
       "\n",
       "    .dataframe tbody tr th {\n",
       "        vertical-align: top;\n",
       "    }\n",
       "\n",
       "    .dataframe thead th {\n",
       "        text-align: right;\n",
       "    }\n",
       "</style>\n",
       "<table border=\"1\" class=\"dataframe\">\n",
       "  <thead>\n",
       "    <tr style=\"text-align: right;\">\n",
       "      <th></th>\n",
       "      <th>0</th>\n",
       "      <th>1</th>\n",
       "    </tr>\n",
       "  </thead>\n",
       "  <tbody>\n",
       "    <tr>\n",
       "      <th>count</th>\n",
       "      <td>30.000000</td>\n",
       "      <td>30.000000</td>\n",
       "    </tr>\n",
       "    <tr>\n",
       "      <th>mean</th>\n",
       "      <td>0.458519</td>\n",
       "      <td>0.516216</td>\n",
       "    </tr>\n",
       "    <tr>\n",
       "      <th>std</th>\n",
       "      <td>0.271569</td>\n",
       "      <td>0.309896</td>\n",
       "    </tr>\n",
       "    <tr>\n",
       "      <th>min</th>\n",
       "      <td>0.000000</td>\n",
       "      <td>0.000000</td>\n",
       "    </tr>\n",
       "    <tr>\n",
       "      <th>25%</th>\n",
       "      <td>0.250000</td>\n",
       "      <td>0.277027</td>\n",
       "    </tr>\n",
       "    <tr>\n",
       "      <th>50%</th>\n",
       "      <td>0.477778</td>\n",
       "      <td>0.587838</td>\n",
       "    </tr>\n",
       "    <tr>\n",
       "      <th>75%</th>\n",
       "      <td>0.638889</td>\n",
       "      <td>0.726351</td>\n",
       "    </tr>\n",
       "    <tr>\n",
       "      <th>max</th>\n",
       "      <td>1.000000</td>\n",
       "      <td>1.000000</td>\n",
       "    </tr>\n",
       "  </tbody>\n",
       "</table>\n",
       "</div>"
      ],
      "text/plain": [
       "               0          1\n",
       "count  30.000000  30.000000\n",
       "mean    0.458519   0.516216\n",
       "std     0.271569   0.309896\n",
       "min     0.000000   0.000000\n",
       "25%     0.250000   0.277027\n",
       "50%     0.477778   0.587838\n",
       "75%     0.638889   0.726351\n",
       "max     1.000000   1.000000"
      ]
     },
     "execution_count": 45,
     "metadata": {},
     "output_type": "execute_result"
    }
   ],
   "source": [
    "scaled_df.describe()"
   ]
  },
  {
   "cell_type": "code",
   "execution_count": null,
   "id": "aaebd6f1-cdb0-4f21-87fc-d6c3e19948ca",
   "metadata": {},
   "outputs": [],
   "source": []
  },
  {
   "cell_type": "markdown",
   "id": "386d2e6c-f2e7-4a58-9e29-2ee9087dd776",
   "metadata": {},
   "source": [
    "# Standard Scaler-\n",
    "Formula - Z=(x-µ)/σ\n",
    "\n",
    "x -> every value of the dataset<br>"
   ]
  },
  {
   "cell_type": "code",
   "execution_count": 46,
   "id": "8df91aa8-892d-49ca-b793-582902eed1b3",
   "metadata": {},
   "outputs": [],
   "source": [
    "sc2=StandardScaler()"
   ]
  },
  {
   "cell_type": "code",
   "execution_count": 47,
   "id": "0653c8cb-2813-4196-9a95-a7b9b8da0f27",
   "metadata": {},
   "outputs": [],
   "source": [
    "scaled_df=pd.DataFrame(sc2.fit_transform(df))"
   ]
  },
  {
   "cell_type": "code",
   "execution_count": 48,
   "id": "0a1d7047-66e4-43e7-9913-237e805be08a",
   "metadata": {},
   "outputs": [
    {
     "data": {
      "text/html": [
       "<div>\n",
       "<style scoped>\n",
       "    .dataframe tbody tr th:only-of-type {\n",
       "        vertical-align: middle;\n",
       "    }\n",
       "\n",
       "    .dataframe tbody tr th {\n",
       "        vertical-align: top;\n",
       "    }\n",
       "\n",
       "    .dataframe thead th {\n",
       "        text-align: right;\n",
       "    }\n",
       "</style>\n",
       "<table border=\"1\" class=\"dataframe\">\n",
       "  <thead>\n",
       "    <tr style=\"text-align: right;\">\n",
       "      <th></th>\n",
       "      <th>0</th>\n",
       "      <th>1</th>\n",
       "    </tr>\n",
       "  </thead>\n",
       "  <tbody>\n",
       "    <tr>\n",
       "      <th>0</th>\n",
       "      <td>-1.467583</td>\n",
       "      <td>1.587806</td>\n",
       "    </tr>\n",
       "    <tr>\n",
       "      <th>1</th>\n",
       "      <td>-0.718533</td>\n",
       "      <td>0.345946</td>\n",
       "    </tr>\n",
       "    <tr>\n",
       "      <th>2</th>\n",
       "      <td>-1.717266</td>\n",
       "      <td>0.434651</td>\n",
       "    </tr>\n",
       "    <tr>\n",
       "      <th>3</th>\n",
       "      <td>-1.301127</td>\n",
       "      <td>1.543454</td>\n",
       "    </tr>\n",
       "    <tr>\n",
       "      <th>4</th>\n",
       "      <td>-0.801761</td>\n",
       "      <td>0.700763</td>\n",
       "    </tr>\n",
       "  </tbody>\n",
       "</table>\n",
       "</div>"
      ],
      "text/plain": [
       "          0         1\n",
       "0 -1.467583  1.587806\n",
       "1 -0.718533  0.345946\n",
       "2 -1.717266  0.434651\n",
       "3 -1.301127  1.543454\n",
       "4 -0.801761  0.700763"
      ]
     },
     "execution_count": 48,
     "metadata": {},
     "output_type": "execute_result"
    }
   ],
   "source": [
    "scaled_df.head()"
   ]
  },
  {
   "cell_type": "code",
   "execution_count": null,
   "id": "555b3793-3cfd-470e-bed6-a3c8650221e3",
   "metadata": {},
   "outputs": [],
   "source": []
  },
  {
   "cell_type": "code",
   "execution_count": 49,
   "id": "f304ba28-049a-41d5-aac5-e48ab0b0d1bd",
   "metadata": {},
   "outputs": [
    {
     "data": {
      "text/html": [
       "<div>\n",
       "<style scoped>\n",
       "    .dataframe tbody tr th:only-of-type {\n",
       "        vertical-align: middle;\n",
       "    }\n",
       "\n",
       "    .dataframe tbody tr th {\n",
       "        vertical-align: top;\n",
       "    }\n",
       "\n",
       "    .dataframe thead th {\n",
       "        text-align: right;\n",
       "    }\n",
       "</style>\n",
       "<table border=\"1\" class=\"dataframe\">\n",
       "  <thead>\n",
       "    <tr style=\"text-align: right;\">\n",
       "      <th></th>\n",
       "      <th>Var1</th>\n",
       "      <th>Var2</th>\n",
       "    </tr>\n",
       "  </thead>\n",
       "  <tbody>\n",
       "    <tr>\n",
       "      <th>0</th>\n",
       "      <td>25</td>\n",
       "      <td>79</td>\n",
       "    </tr>\n",
       "    <tr>\n",
       "      <th>1</th>\n",
       "      <td>34</td>\n",
       "      <td>51</td>\n",
       "    </tr>\n",
       "    <tr>\n",
       "      <th>2</th>\n",
       "      <td>22</td>\n",
       "      <td>53</td>\n",
       "    </tr>\n",
       "    <tr>\n",
       "      <th>3</th>\n",
       "      <td>27</td>\n",
       "      <td>78</td>\n",
       "    </tr>\n",
       "    <tr>\n",
       "      <th>4</th>\n",
       "      <td>33</td>\n",
       "      <td>59</td>\n",
       "    </tr>\n",
       "  </tbody>\n",
       "</table>\n",
       "</div>"
      ],
      "text/plain": [
       "   Var1  Var2\n",
       "0    25    79\n",
       "1    34    51\n",
       "2    22    53\n",
       "3    27    78\n",
       "4    33    59"
      ]
     },
     "execution_count": 49,
     "metadata": {},
     "output_type": "execute_result"
    }
   ],
   "source": [
    "df.head()"
   ]
  },
  {
   "cell_type": "code",
   "execution_count": 50,
   "id": "003617c2-c7c5-4d33-bfbc-f1a050381c99",
   "metadata": {},
   "outputs": [],
   "source": [
    "var1=df['Var1']\n"
   ]
  },
  {
   "cell_type": "code",
   "execution_count": 51,
   "id": "c0ba04d1-01e5-4894-8444-93a803145e04",
   "metadata": {},
   "outputs": [
    {
     "data": {
      "text/plain": [
       "np.float64(-1.4675828367556647)"
      ]
     },
     "execution_count": 51,
     "metadata": {},
     "output_type": "execute_result"
    }
   ],
   "source": [
    "(25-np.mean(var1))/np.std(var1)  #should give -1.46"
   ]
  },
  {
   "cell_type": "code",
   "execution_count": 52,
   "id": "9e2e3097-c502-4f5d-a5b8-3c0e4ef0040a",
   "metadata": {},
   "outputs": [
    {
     "data": {
      "text/html": [
       "<div>\n",
       "<style scoped>\n",
       "    .dataframe tbody tr th:only-of-type {\n",
       "        vertical-align: middle;\n",
       "    }\n",
       "\n",
       "    .dataframe tbody tr th {\n",
       "        vertical-align: top;\n",
       "    }\n",
       "\n",
       "    .dataframe thead th {\n",
       "        text-align: right;\n",
       "    }\n",
       "</style>\n",
       "<table border=\"1\" class=\"dataframe\">\n",
       "  <thead>\n",
       "    <tr style=\"text-align: right;\">\n",
       "      <th></th>\n",
       "      <th>Var1</th>\n",
       "      <th>Var2</th>\n",
       "    </tr>\n",
       "  </thead>\n",
       "  <tbody>\n",
       "    <tr>\n",
       "      <th>count</th>\n",
       "      <td>30.000000</td>\n",
       "      <td>30.000000</td>\n",
       "    </tr>\n",
       "    <tr>\n",
       "      <th>mean</th>\n",
       "      <td>42.633333</td>\n",
       "      <td>43.200000</td>\n",
       "    </tr>\n",
       "    <tr>\n",
       "      <th>std</th>\n",
       "      <td>12.220625</td>\n",
       "      <td>22.932284</td>\n",
       "    </tr>\n",
       "    <tr>\n",
       "      <th>min</th>\n",
       "      <td>22.000000</td>\n",
       "      <td>5.000000</td>\n",
       "    </tr>\n",
       "    <tr>\n",
       "      <th>25%</th>\n",
       "      <td>33.250000</td>\n",
       "      <td>25.500000</td>\n",
       "    </tr>\n",
       "    <tr>\n",
       "      <th>50%</th>\n",
       "      <td>43.500000</td>\n",
       "      <td>48.500000</td>\n",
       "    </tr>\n",
       "    <tr>\n",
       "      <th>75%</th>\n",
       "      <td>50.750000</td>\n",
       "      <td>58.750000</td>\n",
       "    </tr>\n",
       "    <tr>\n",
       "      <th>max</th>\n",
       "      <td>67.000000</td>\n",
       "      <td>79.000000</td>\n",
       "    </tr>\n",
       "  </tbody>\n",
       "</table>\n",
       "</div>"
      ],
      "text/plain": [
       "            Var1       Var2\n",
       "count  30.000000  30.000000\n",
       "mean   42.633333  43.200000\n",
       "std    12.220625  22.932284\n",
       "min    22.000000   5.000000\n",
       "25%    33.250000  25.500000\n",
       "50%    43.500000  48.500000\n",
       "75%    50.750000  58.750000\n",
       "max    67.000000  79.000000"
      ]
     },
     "execution_count": 52,
     "metadata": {},
     "output_type": "execute_result"
    }
   ],
   "source": [
    "df.describe()"
   ]
  },
  {
   "cell_type": "code",
   "execution_count": null,
   "id": "209cf28a-3939-427b-afb9-1352d8f1df09",
   "metadata": {},
   "outputs": [],
   "source": []
  },
  {
   "cell_type": "code",
   "execution_count": null,
   "id": "d1075d2c-84a1-4e64-b416-8b12c19432d9",
   "metadata": {},
   "outputs": [],
   "source": []
  },
  {
   "cell_type": "code",
   "execution_count": 53,
   "id": "7351fb71-bd5d-4c0e-948a-49d0a908b116",
   "metadata": {},
   "outputs": [
    {
     "data": {
      "text/plain": [
       "np.float64(1.850371707708594e-17)"
      ]
     },
     "execution_count": 53,
     "metadata": {},
     "output_type": "execute_result"
    }
   ],
   "source": [
    "np.mean(scaled_df[0])"
   ]
  },
  {
   "cell_type": "code",
   "execution_count": 54,
   "id": "437bace5-125d-47f0-b596-55503c6cae76",
   "metadata": {},
   "outputs": [
    {
     "data": {
      "text/plain": [
       "np.float64(1.0)"
      ]
     },
     "execution_count": 54,
     "metadata": {},
     "output_type": "execute_result"
    }
   ],
   "source": [
    "np.std(scaled_df[0])"
   ]
  },
  {
   "cell_type": "code",
   "execution_count": 55,
   "id": "96c1c179-e844-4f43-9233-5c0dee68f0c3",
   "metadata": {},
   "outputs": [
    {
     "data": {
      "text/plain": [
       "np.float64(-1.7172661171110708)"
      ]
     },
     "execution_count": 55,
     "metadata": {},
     "output_type": "execute_result"
    }
   ],
   "source": [
    "np.min(scaled_df[0])"
   ]
  },
  {
   "cell_type": "code",
   "execution_count": 56,
   "id": "a4e839b7-4652-4bdb-aac2-420e210b7f56",
   "metadata": {},
   "outputs": [
    {
     "data": {
      "text/plain": [
       "np.float64(2.027983088220021)"
      ]
     },
     "execution_count": 56,
     "metadata": {},
     "output_type": "execute_result"
    }
   ],
   "source": [
    "np.max(scaled_df[0])"
   ]
  },
  {
   "cell_type": "code",
   "execution_count": null,
   "id": "645d8606-db83-4316-8e76-9d375145741e",
   "metadata": {},
   "outputs": [],
   "source": []
  },
  {
   "cell_type": "code",
   "execution_count": null,
   "id": "ed683123-0064-4b70-8ecb-36ad2ada2fc9",
   "metadata": {},
   "outputs": [],
   "source": []
  },
  {
   "cell_type": "code",
   "execution_count": null,
   "id": "97c81dcc-47e3-4a29-ac3d-bb00d94f5b25",
   "metadata": {},
   "outputs": [],
   "source": []
  },
  {
   "cell_type": "code",
   "execution_count": 57,
   "id": "c8d7296e-90c1-4c9c-8c20-8c286a6cb405",
   "metadata": {},
   "outputs": [],
   "source": [
    "df=pd.read_excel('CDAC_DataBook.xlsx',sheet_name='diabetes')\n"
   ]
  },
  {
   "cell_type": "code",
   "execution_count": 58,
   "id": "c7aa9d77-49b1-4554-98f2-b80d94dad563",
   "metadata": {},
   "outputs": [],
   "source": [
    "diet_dum=pd.get_dummies(df.DietType,prefix='diet',drop_first=True,dtype=int)"
   ]
  },
  {
   "cell_type": "code",
   "execution_count": 59,
   "id": "70684ac3-4158-4f90-a2f8-59f125a0cb24",
   "metadata": {},
   "outputs": [],
   "source": [
    "df=df.drop('DietType',axis=1)"
   ]
  },
  {
   "cell_type": "code",
   "execution_count": 60,
   "id": "aff73046-6fc0-472b-a129-d21ce80c1bb9",
   "metadata": {},
   "outputs": [],
   "source": [
    "df=pd.concat([df,diet_dum],axis=1)"
   ]
  },
  {
   "cell_type": "code",
   "execution_count": 61,
   "id": "60b14316-dee7-4c7b-b0b3-8e0164cb3c98",
   "metadata": {},
   "outputs": [
    {
     "data": {
      "text/html": [
       "<div>\n",
       "<style scoped>\n",
       "    .dataframe tbody tr th:only-of-type {\n",
       "        vertical-align: middle;\n",
       "    }\n",
       "\n",
       "    .dataframe tbody tr th {\n",
       "        vertical-align: top;\n",
       "    }\n",
       "\n",
       "    .dataframe thead th {\n",
       "        text-align: right;\n",
       "    }\n",
       "</style>\n",
       "<table border=\"1\" class=\"dataframe\">\n",
       "  <thead>\n",
       "    <tr style=\"text-align: right;\">\n",
       "      <th></th>\n",
       "      <th>Glucose</th>\n",
       "      <th>BloodPressure</th>\n",
       "      <th>SkinThickness</th>\n",
       "      <th>Insulin</th>\n",
       "      <th>BMI</th>\n",
       "      <th>DiabetesPedigreeFunction</th>\n",
       "      <th>Age</th>\n",
       "      <th>Outcome</th>\n",
       "      <th>diet_2</th>\n",
       "      <th>diet_3</th>\n",
       "    </tr>\n",
       "  </thead>\n",
       "  <tbody>\n",
       "    <tr>\n",
       "      <th>0</th>\n",
       "      <td>148</td>\n",
       "      <td>72</td>\n",
       "      <td>35</td>\n",
       "      <td>0</td>\n",
       "      <td>33.6</td>\n",
       "      <td>0.63</td>\n",
       "      <td>50</td>\n",
       "      <td>1</td>\n",
       "      <td>0</td>\n",
       "      <td>0</td>\n",
       "    </tr>\n",
       "    <tr>\n",
       "      <th>1</th>\n",
       "      <td>85</td>\n",
       "      <td>66</td>\n",
       "      <td>29</td>\n",
       "      <td>0</td>\n",
       "      <td>26.6</td>\n",
       "      <td>0.35</td>\n",
       "      <td>31</td>\n",
       "      <td>0</td>\n",
       "      <td>1</td>\n",
       "      <td>0</td>\n",
       "    </tr>\n",
       "    <tr>\n",
       "      <th>2</th>\n",
       "      <td>183</td>\n",
       "      <td>64</td>\n",
       "      <td>0</td>\n",
       "      <td>0</td>\n",
       "      <td>23.3</td>\n",
       "      <td>0.67</td>\n",
       "      <td>32</td>\n",
       "      <td>1</td>\n",
       "      <td>0</td>\n",
       "      <td>0</td>\n",
       "    </tr>\n",
       "    <tr>\n",
       "      <th>3</th>\n",
       "      <td>89</td>\n",
       "      <td>66</td>\n",
       "      <td>23</td>\n",
       "      <td>94</td>\n",
       "      <td>28.1</td>\n",
       "      <td>0.17</td>\n",
       "      <td>21</td>\n",
       "      <td>0</td>\n",
       "      <td>0</td>\n",
       "      <td>0</td>\n",
       "    </tr>\n",
       "    <tr>\n",
       "      <th>4</th>\n",
       "      <td>137</td>\n",
       "      <td>40</td>\n",
       "      <td>35</td>\n",
       "      <td>168</td>\n",
       "      <td>43.1</td>\n",
       "      <td>2.29</td>\n",
       "      <td>33</td>\n",
       "      <td>1</td>\n",
       "      <td>0</td>\n",
       "      <td>0</td>\n",
       "    </tr>\n",
       "  </tbody>\n",
       "</table>\n",
       "</div>"
      ],
      "text/plain": [
       "   Glucose  BloodPressure  SkinThickness  Insulin   BMI  \\\n",
       "0      148             72             35        0  33.6   \n",
       "1       85             66             29        0  26.6   \n",
       "2      183             64              0        0  23.3   \n",
       "3       89             66             23       94  28.1   \n",
       "4      137             40             35      168  43.1   \n",
       "\n",
       "   DiabetesPedigreeFunction  Age  Outcome  diet_2  diet_3  \n",
       "0                      0.63   50        1       0       0  \n",
       "1                      0.35   31        0       1       0  \n",
       "2                      0.67   32        1       0       0  \n",
       "3                      0.17   21        0       0       0  \n",
       "4                      2.29   33        1       0       0  "
      ]
     },
     "execution_count": 61,
     "metadata": {},
     "output_type": "execute_result"
    }
   ],
   "source": [
    "df.head()"
   ]
  },
  {
   "cell_type": "code",
   "execution_count": null,
   "id": "74f1525d-cfe3-4132-ac88-d9733bd266bb",
   "metadata": {},
   "outputs": [],
   "source": []
  },
  {
   "cell_type": "code",
   "execution_count": null,
   "id": "601f8eb0-30d7-4b40-a3a7-577acc6cd9fe",
   "metadata": {},
   "outputs": [],
   "source": []
  },
  {
   "cell_type": "code",
   "execution_count": 63,
   "id": "eec88a3b-1795-4f9a-b8b8-412c3be75c80",
   "metadata": {},
   "outputs": [],
   "source": [
    "df=pd.read_excel('CDAC_DataBook.xlsx',sheet_name='diabetes')"
   ]
  },
  {
   "cell_type": "code",
   "execution_count": 64,
   "id": "33f8d0d8-1a2a-4a24-a217-1df414bf6323",
   "metadata": {},
   "outputs": [],
   "source": [
    "diet_dum=pd.get_dummies(df.DietType,prefix='Diet',dtype=int,drop_first=True)"
   ]
  },
  {
   "cell_type": "code",
   "execution_count": 65,
   "id": "80628fe9-24b6-4b0f-ba45-8d3c36e84a60",
   "metadata": {},
   "outputs": [],
   "source": [
    "df.drop('DietType',axis=1)\n",
    "df=pd.concat([df,diet_dum],axis=1)"
   ]
  },
  {
   "cell_type": "code",
   "execution_count": 66,
   "id": "eed6ec62-156f-4088-b08d-8ce2f9a88c3b",
   "metadata": {},
   "outputs": [],
   "source": [
    "x=df.drop('Outcome',axis=1)\n",
    "y=df.Outcome"
   ]
  },
  {
   "cell_type": "code",
   "execution_count": 67,
   "id": "be09d937-fc35-44bb-88a8-6be75207ab83",
   "metadata": {},
   "outputs": [],
   "source": [
    "info_gain= mutual_info_classif(x,y)"
   ]
  },
  {
   "cell_type": "code",
   "execution_count": 68,
   "id": "b6c83593-03bb-4d2c-872a-14d4ecb000d7",
   "metadata": {},
   "outputs": [],
   "source": [
    "ig_vals=np.array(info_gain)"
   ]
  },
  {
   "cell_type": "code",
   "execution_count": 69,
   "id": "3098e366-8350-4e1d-9155-859dc7b9e01e",
   "metadata": {},
   "outputs": [],
   "source": [
    "col_names=np.array(x.columns)"
   ]
  },
  {
   "cell_type": "code",
   "execution_count": 70,
   "id": "cfcf3517-ad27-4cb3-863b-a318368d5fc7",
   "metadata": {},
   "outputs": [],
   "source": [
    "ind=np.flip(np.argsort(ig_vals))"
   ]
  },
  {
   "cell_type": "code",
   "execution_count": 71,
   "id": "306c4adf-d4b8-4618-bdd6-c17dd80ff2e7",
   "metadata": {},
   "outputs": [],
   "source": [
    "ig_vals=ig_vals[ind]\n",
    "col_names=col_names[ind]"
   ]
  },
  {
   "cell_type": "code",
   "execution_count": 86,
   "id": "99d471e9-644c-4eb6-94f7-1b6d7232b949",
   "metadata": {},
   "outputs": [
    {
     "data": {
      "text/plain": [
       "<BarContainer object of 10 artists>"
      ]
     },
     "execution_count": 86,
     "metadata": {},
     "output_type": "execute_result"
    },
    {
     "data": {
      "image/png": "[encoded data removed]",
      "text/plain": [
       "<Figure size 900x400 with 1 Axes>"
      ]
     },
     "metadata": {},
     "output_type": "display_data"
    }
   ],
   "source": [
    "plt.figure(figsize=(9,4))\n",
    "plt.xticks(rotation=70)\n",
    "plt.bar(col_names,ig_vals)"
   ]
  },
  {
   "cell_type": "code",
   "execution_count": null,
   "id": "c81adc71-9414-4524-8092-5b1172da2bf6",
   "metadata": {},
   "outputs": [],
   "source": []
  },
  {
   "cell_type": "code",
   "execution_count": null,
   "id": "e5fbf26d-fe29-46b9-9b04-8aefab68f788",
   "metadata": {},
   "outputs": [],
   "source": []
  },
  {
   "cell_type": "markdown",
   "id": "db7dbbd3-0217-473b-b036-155b003df84c",
   "metadata": {},
   "source": [
    "Coefficient of variation(dimesionless)= σ/µ \n",
    "- in some cases where this variation value is less than a certain threshold we can infer that there is not a lot of variatio and hence such a column can be ignored."
   ]
  },
  {
   "cell_type": "code",
   "execution_count": null,
   "id": "922695d6-b21d-4ada-909c-2bb7cf225770",
   "metadata": {},
   "outputs": [],
   "source": []
  },
  {
   "cell_type": "code",
   "execution_count": 87,
   "id": "4b0a1240-1619-4270-9042-133a831db371",
   "metadata": {},
   "outputs": [],
   "source": [
    "# in stock market scenarios, higher standard deviation does mean higher risk."
   ]
  },
  {
   "cell_type": "code",
   "execution_count": null,
   "id": "ca4c216b-6c1c-4405-aacc-ecf55916442b",
   "metadata": {},
   "outputs": [],
   "source": []
  },
  {
   "cell_type": "code",
   "execution_count": 93,
   "id": "f9122f3b-183b-49a6-a346-5c75661b8dd5",
   "metadata": {},
   "outputs": [
    {
     "data": {
      "text/html": [
       "<div>\n",
       "<style scoped>\n",
       "    .dataframe tbody tr th:only-of-type {\n",
       "        vertical-align: middle;\n",
       "    }\n",
       "\n",
       "    .dataframe tbody tr th {\n",
       "        vertical-align: top;\n",
       "    }\n",
       "\n",
       "    .dataframe thead th {\n",
       "        text-align: right;\n",
       "    }\n",
       "</style>\n",
       "<table border=\"1\" class=\"dataframe\">\n",
       "  <thead>\n",
       "    <tr style=\"text-align: right;\">\n",
       "      <th></th>\n",
       "      <th>Factors</th>\n",
       "      <th>Scores</th>\n",
       "    </tr>\n",
       "  </thead>\n",
       "  <tbody>\n",
       "    <tr>\n",
       "      <th>8</th>\n",
       "      <td>Diet_2</td>\n",
       "      <td>319.605967</td>\n",
       "    </tr>\n",
       "    <tr>\n",
       "      <th>7</th>\n",
       "      <td>DietType</td>\n",
       "      <td>232.390194</td>\n",
       "    </tr>\n",
       "    <tr>\n",
       "      <th>0</th>\n",
       "      <td>Glucose</td>\n",
       "      <td>213.161752</td>\n",
       "    </tr>\n",
       "    <tr>\n",
       "      <th>4</th>\n",
       "      <td>BMI</td>\n",
       "      <td>71.772072</td>\n",
       "    </tr>\n",
       "    <tr>\n",
       "      <th>6</th>\n",
       "      <td>Age</td>\n",
       "      <td>46.140611</td>\n",
       "    </tr>\n",
       "    <tr>\n",
       "      <th>5</th>\n",
       "      <td>DiabetesPedigreeFunction</td>\n",
       "      <td>23.853309</td>\n",
       "    </tr>\n",
       "    <tr>\n",
       "      <th>3</th>\n",
       "      <td>Insulin</td>\n",
       "      <td>13.281108</td>\n",
       "    </tr>\n",
       "    <tr>\n",
       "      <th>9</th>\n",
       "      <td>Diet_3</td>\n",
       "      <td>4.476066</td>\n",
       "    </tr>\n",
       "    <tr>\n",
       "      <th>2</th>\n",
       "      <td>SkinThickness</td>\n",
       "      <td>4.304381</td>\n",
       "    </tr>\n",
       "    <tr>\n",
       "      <th>1</th>\n",
       "      <td>BloodPressure</td>\n",
       "      <td>3.256950</td>\n",
       "    </tr>\n",
       "  </tbody>\n",
       "</table>\n",
       "</div>"
      ],
      "text/plain": [
       "                    Factors      Scores\n",
       "8                    Diet_2  319.605967\n",
       "7                  DietType  232.390194\n",
       "0                   Glucose  213.161752\n",
       "4                       BMI   71.772072\n",
       "6                       Age   46.140611\n",
       "5  DiabetesPedigreeFunction   23.853309\n",
       "3                   Insulin   13.281108\n",
       "9                    Diet_3    4.476066\n",
       "2             SkinThickness    4.304381\n",
       "1             BloodPressure    3.256950"
      ]
     },
     "execution_count": 93,
     "metadata": {},
     "output_type": "execute_result"
    }
   ],
   "source": [
    "#to select k-best features which have the maximum impact on the target variable-\n",
    "res=SelectKBest(k=4).fit(x,y)\n",
    "d1={'Factors':x.columns,'Scores':res.scores_}\n",
    "pd.DataFrame(d1).sort_values(by='Scores',ascending=False)"
   ]
  },
  {
   "cell_type": "code",
   "execution_count": 94,
   "id": "109540d3-f695-4fcc-894c-b30e759b7f6f",
   "metadata": {},
   "outputs": [],
   "source": [
    "#These above methods are just indicators that certain features are important to the target variable."
   ]
  },
  {
   "cell_type": "code",
   "execution_count": null,
   "id": "87876c11-2b8e-4b8f-8735-76f09ec588f4",
   "metadata": {},
   "outputs": [],
   "source": []
  },
  {
   "cell_type": "code",
   "execution_count": 104,
   "id": "225a2d57-695b-4257-b5a2-de2207f4d05b",
   "metadata": {},
   "outputs": [
    {
     "data": {
      "text/html": [
       "<div>\n",
       "<style scoped>\n",
       "    .dataframe tbody tr th:only-of-type {\n",
       "        vertical-align: middle;\n",
       "    }\n",
       "\n",
       "    .dataframe tbody tr th {\n",
       "        vertical-align: top;\n",
       "    }\n",
       "\n",
       "    .dataframe thead th {\n",
       "        text-align: right;\n",
       "    }\n",
       "</style>\n",
       "<table border=\"1\" class=\"dataframe\">\n",
       "  <thead>\n",
       "    <tr style=\"text-align: right;\">\n",
       "      <th></th>\n",
       "      <th>Features</th>\n",
       "      <th>Scores</th>\n",
       "    </tr>\n",
       "  </thead>\n",
       "  <tbody>\n",
       "    <tr>\n",
       "      <th>8</th>\n",
       "      <td>Diet_2</td>\n",
       "      <td>0.202031</td>\n",
       "    </tr>\n",
       "    <tr>\n",
       "      <th>7</th>\n",
       "      <td>DietType</td>\n",
       "      <td>0.176183</td>\n",
       "    </tr>\n",
       "    <tr>\n",
       "      <th>0</th>\n",
       "      <td>Glucose</td>\n",
       "      <td>0.147034</td>\n",
       "    </tr>\n",
       "    <tr>\n",
       "      <th>6</th>\n",
       "      <td>Age</td>\n",
       "      <td>0.090910</td>\n",
       "    </tr>\n",
       "    <tr>\n",
       "      <th>4</th>\n",
       "      <td>BMI</td>\n",
       "      <td>0.080543</td>\n",
       "    </tr>\n",
       "    <tr>\n",
       "      <th>5</th>\n",
       "      <td>DiabetesPedigreeFunction</td>\n",
       "      <td>0.071973</td>\n",
       "    </tr>\n",
       "    <tr>\n",
       "      <th>1</th>\n",
       "      <td>BloodPressure</td>\n",
       "      <td>0.063632</td>\n",
       "    </tr>\n",
       "    <tr>\n",
       "      <th>9</th>\n",
       "      <td>Diet_3</td>\n",
       "      <td>0.059083</td>\n",
       "    </tr>\n",
       "    <tr>\n",
       "      <th>2</th>\n",
       "      <td>SkinThickness</td>\n",
       "      <td>0.056902</td>\n",
       "    </tr>\n",
       "    <tr>\n",
       "      <th>3</th>\n",
       "      <td>Insulin</td>\n",
       "      <td>0.051710</td>\n",
       "    </tr>\n",
       "  </tbody>\n",
       "</table>\n",
       "</div>"
      ],
      "text/plain": [
       "                   Features    Scores\n",
       "8                    Diet_2  0.202031\n",
       "7                  DietType  0.176183\n",
       "0                   Glucose  0.147034\n",
       "6                       Age  0.090910\n",
       "4                       BMI  0.080543\n",
       "5  DiabetesPedigreeFunction  0.071973\n",
       "1             BloodPressure  0.063632\n",
       "9                    Diet_3  0.059083\n",
       "2             SkinThickness  0.056902\n",
       "3                   Insulin  0.051710"
      ]
     },
     "execution_count": 104,
     "metadata": {},
     "output_type": "execute_result"
    }
   ],
   "source": [
    "etc=ExtraTreesClassifier()\n",
    "etc.fit(x,y)\n",
    "etc.feature_importances_\n",
    "feat_imp=pd.DataFrame({'Features':x.columns,'Scores':etc.feature_importances_})\n",
    "feat_imp.sort_values(by = 'Scores',ascending=False)"
   ]
  },
  {
   "cell_type": "code",
   "execution_count": 96,
   "id": "d07cd101-e01a-4681-a944-8037144259ad",
   "metadata": {},
   "outputs": [],
   "source": [
    "#Most conclusive is p-value based on different tests - which are in inferential statistics."
   ]
  },
  {
   "cell_type": "code",
   "execution_count": null,
   "id": "b7618473-ac11-4266-8aec-a5945de3b494",
   "metadata": {},
   "outputs": [],
   "source": []
  }
 ],
 "metadata": {
  "kernelspec": {
   "display_name": "Python 3 (ipykernel)",
   "language": "python",
   "name": "python3"
  },
  "language_info": {
   "codemirror_mode": {
    "name": "ipython",
    "version": 3
   },
   "file_extension": ".py",
   "mimetype": "text/x-python",
   "name": "python",
   "nbconvert_exporter": "python",
   "pygments_lexer": "ipython3",
   "version": "3.12.7"
  }
 },
 "nbformat": 4,
 "nbformat_minor": 5
}
