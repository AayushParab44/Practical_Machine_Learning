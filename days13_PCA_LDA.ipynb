{
 "cells": [
  {
   "cell_type": "markdown",
   "id": "51eefdf0-6f64-4e3b-bd1f-57f28a2fe841",
   "metadata": {},
   "source": [
    "# PCA and LDA\n",
    "- Used for dimensionality reduction\n",
    "- "
   ]
  },
  {
   "cell_type": "markdown",
   "id": "014387f3-eaf7-4725-916e-276ab4ae5386",
   "metadata": {},
   "source": [
    "# PCA-\n",
    "- unsupervised learning algorithm.\n",
    "- PCA is used for marked and unmarked dataa\n",
    "- in general, 2-3 dimensions can explain 80 percent of the variation in our data.\n",
    "\n",
    "\n",
    "# LDA- Linear \n",
    "- supervised learning algorithm\n",
    "\n",
    "\n",
    "-**PCA and LDA require scaling**"
   ]
  },
  {
   "cell_type": "code",
   "execution_count": null,
   "id": "daa0a6ef-b58c-41c6-b288-19eaca9acbcc",
   "metadata": {},
   "outputs": [],
   "source": []
  },
  {
   "cell_type": "code",
   "execution_count": 41,
   "id": "0b0ecb09-29f7-4bcb-bfc7-1a48a52ef83e",
   "metadata": {},
   "outputs": [],
   "source": [
    "import numpy as np\n",
    "import pandas as pd\n",
    "\n",
    "import pandas as pd\n",
    "\n",
    "from statsmodels.discrete import discrete_model\n",
    "import statsmodels.formula.api as smf\n",
    "from statsmodels.discrete.discrete_model import Poisson as psn,NegativeBinomial as ngb,MNLogit\n",
    "\n",
    "\n",
    "import numpy as np\n",
    "import pandas as pd\n",
    "import matplotlib.pyplot as plt\n",
    "import seaborn as sns\n",
    "\n",
    "from numpy import random\n",
    "\n",
    "import scipy\n",
    "from scipy import stats\n",
    "from scipy.stats import binom,poisson,norm,t\n",
    "\n",
    "import pylab\n",
    "from pylab import legend, plot, show ,title, xlabel, ylabel\n",
    "\n",
    "import statsmodels\n",
    "from statsmodels import stats\n",
    "from statsmodels.stats import weightstats as ssw\n",
    "\n",
    "import statsmodels.api as sm\n",
    "from statsmodels.formula.api import ols\n",
    "import statsmodels.stats.multicomp\n",
    "\n",
    "from statsmodels.stats.outliers_influence import variance_inflation_factor\n",
    "\n",
    "from statsmodels.stats import proportion as ssp\n",
    "\n",
    "from scipy.stats import chisquare, chi2_contingency\n",
    "\n",
    "from sklearn.model_selection import train_test_split\n",
    "\n",
    "from sklearn.metrics import confusion_matrix,classification_report\n",
    "\n",
    "from statsmodels import discrete\n",
    "from statsmodels.discrete import discrete_model\n",
    "from statsmodels.discrete.discrete_model import MNLogit\n",
    "\n",
    "from statsmodels.miscmodels.ordinal_model import OrderedModel\n",
    "\n",
    "from sklearn.preprocessing import MinMaxScaler,StandardScaler\n",
    "\n",
    "from sklearn.feature_selection import mutual_info_classif,SelectKBest\n",
    "\n",
    "from sklearn.ensemble import ExtraTreesClassifier\n",
    "\n",
    "from sklearn.feature_selection import SequentialFeatureSelector\n",
    "\n",
    "from sklearn.linear_model import LinearRegression\n",
    "\n",
    "from sklearn.tree import DecisionTreeClassifier\n",
    "\n",
    "from sklearn.model_selection import GridSearchCV\n",
    "\n",
    "from sklearn.preprocessing import StandardScaler\n",
    "\n",
    "from sklearn.decomposition import PCA\n",
    "\n",
    "from sklearn.discriminant_analysis import LinearDiscriminantAnalysis"
   ]
  },
  {
   "cell_type": "code",
   "execution_count": 19,
   "id": "b06e8eb1-2426-4cc5-81b9-09e283c193b3",
   "metadata": {},
   "outputs": [],
   "source": [
    "df=pd.read_excel('CDAC_DataBook.xlsx',sheet_name='iris')"
   ]
  },
  {
   "cell_type": "code",
   "execution_count": 20,
   "id": "b4067ea4-a4bc-461e-acb6-4423473ceecb",
   "metadata": {},
   "outputs": [],
   "source": [
    "x=df.drop('Species',axis=1)\n",
    "y=df.Species"
   ]
  },
  {
   "cell_type": "code",
   "execution_count": 33,
   "id": "ea7122ca-807d-4630-b4f5-67198a7d10ab",
   "metadata": {},
   "outputs": [],
   "source": [
    "x_train,x_test,y_train,y_test=train_test_split(x,y,test_size=0.25,random_state=20)"
   ]
  },
  {
   "cell_type": "code",
   "execution_count": 34,
   "id": "387b5bcb-c401-40a0-b584-e5a49f594612",
   "metadata": {},
   "outputs": [],
   "source": [
    "sc=StandardScaler()\n",
    "x_train=sc.fit_transform(x_train)\n",
    "x_test=sc.transform(x_test)"
   ]
  },
  {
   "cell_type": "code",
   "execution_count": 35,
   "id": "2d88a476-d9f2-4b32-b7cd-faffef9dc6fd",
   "metadata": {},
   "outputs": [],
   "source": [
    "# scaling can be avoiding in xgbboost,gradboost,random forest ,etc \n",
    "# It is preferred in other models pca,lda,kmeans,hierachical clustering scaling is necessary\n",
    "# Can be used in linear regresession"
   ]
  },
  {
   "cell_type": "code",
   "execution_count": 36,
   "id": "e88b3a40-925d-4925-a3ba-6a2ee3080a79",
   "metadata": {},
   "outputs": [],
   "source": [
    "pc_mod=PCA(n_components=2)   #2 OuT OF 4 COMPONENTS will be taken\n",
    "x_train=pc_mod.fit_transform(x_train)\n",
    "x_test=pc_mod.transform(x_test)"
   ]
  },
  {
   "cell_type": "code",
   "execution_count": 37,
   "id": "965e3939-ec0c-4032-b345-0128bd7af313",
   "metadata": {},
   "outputs": [
    {
     "data": {
      "text/plain": [
       "array([0.72756536, 0.23418645])"
      ]
     },
     "execution_count": 37,
     "metadata": {},
     "output_type": "execute_result"
    }
   ],
   "source": [
    "exp_var=pc_mod.explained_variance_ratio_\n",
    "exp_var  #hence using pca which condenses the model to just 2 axes(2 features), can explain 96%(0.72+0.23=0.96 approx) of variation in the data"
   ]
  },
  {
   "cell_type": "code",
   "execution_count": null,
   "id": "3efbcb11-971f-4da5-8ebd-753d932a3029",
   "metadata": {},
   "outputs": [],
   "source": []
  },
  {
   "cell_type": "code",
   "execution_count": null,
   "id": "69b53313-e3af-4342-ad56-62087094017f",
   "metadata": {},
   "outputs": [],
   "source": []
  },
  {
   "cell_type": "code",
   "execution_count": 38,
   "id": "2fce8e1a-8a96-4ac1-8a9d-b82b08b1187e",
   "metadata": {},
   "outputs": [],
   "source": [
    "# usING DTREE-\n",
    "\n",
    "mod1= DecisionTreeClassifier(max_depth=3)\n",
    "mod1.fit(x_train,y_train)\n",
    "y_pred=mod1.predict(x_test)"
   ]
  },
  {
   "cell_type": "code",
   "execution_count": 39,
   "id": "2fd3d4ab-e98b-45f6-aa91-74e5b58cc4d6",
   "metadata": {},
   "outputs": [
    {
     "name": "stdout",
     "output_type": "stream",
     "text": [
      "[[12  0  0]\n",
      " [ 0 11  3]\n",
      " [ 0  3  9]]\n"
     ]
    }
   ],
   "source": [
    "print(confusion_matrix(y_test,y_pred))"
   ]
  },
  {
   "cell_type": "code",
   "execution_count": 40,
   "id": "c6855d15-9f5e-402d-8fdf-d5574b40e075",
   "metadata": {},
   "outputs": [
    {
     "name": "stdout",
     "output_type": "stream",
     "text": [
      "                 precision    recall  f1-score   support\n",
      "\n",
      "    Iris-setosa       1.00      1.00      1.00        12\n",
      "Iris-versicolor       0.79      0.79      0.79        14\n",
      " Iris-virginica       0.75      0.75      0.75        12\n",
      "\n",
      "       accuracy                           0.84        38\n",
      "      macro avg       0.85      0.85      0.85        38\n",
      "   weighted avg       0.84      0.84      0.84        38\n",
      "\n"
     ]
    }
   ],
   "source": [
    "print(classification_report(y_test,y_pred))"
   ]
  },
  {
   "cell_type": "code",
   "execution_count": null,
   "id": "f7d2988f-7b3e-4399-8f21-faf34fa5c16d",
   "metadata": {},
   "outputs": [],
   "source": []
  },
  {
   "cell_type": "markdown",
   "id": "7f11c653-1baa-4e18-a271-66ab9fe6c7a6",
   "metadata": {},
   "source": [
    "- Each principal component which has been extracted is a linear combination of multiple variables.\n",
    "- These 2 variables are **not** 2 individual variables out of 4 but a combination of variables of all the features.\n",
    "- For example if salary has features like age, experience,etc then new variables var 1 and var2 which will be a combination of all the \n",
    "original variables"
   ]
  },
  {
   "cell_type": "code",
   "execution_count": null,
   "id": "51881984-e736-4e66-a459-8d4056aa8680",
   "metadata": {},
   "outputs": [],
   "source": []
  },
  {
   "cell_type": "code",
   "execution_count": null,
   "id": "5319454b-599a-4984-9ab5-103cdc18f4d5",
   "metadata": {},
   "outputs": [],
   "source": []
  },
  {
   "cell_type": "markdown",
   "id": "96673070-bae0-4aff-a842-2be6ef3e51c3",
   "metadata": {},
   "source": [
    "# LDA"
   ]
  },
  {
   "cell_type": "markdown",
   "id": "54b7ae35-9afb-4669-a499-6d57ce22b498",
   "metadata": {},
   "source": [
    "#Assumptions-\n",
    "- The input dataset has a gaussian or normal distribution.\n",
    "- The dataset is linearly seperable(can draw a line or plane to seperate the datapoints).\n",
    "\n",
    "#Considerations-\n",
    "\n",
    "The axes are chosen in such a way-\n",
    "- that the difference between means(avg) of different classes are maximized.\n",
    "- that the variance within a class should be minimized"
   ]
  },
  {
   "cell_type": "code",
   "execution_count": null,
   "id": "1cd2199c-c134-462d-8163-ddf09335d1b2",
   "metadata": {},
   "outputs": [],
   "source": []
  },
  {
   "cell_type": "code",
   "execution_count": null,
   "id": "2ed109be-18bc-4503-bd30-747897266aa3",
   "metadata": {},
   "outputs": [],
   "source": []
  },
  {
   "cell_type": "code",
   "execution_count": null,
   "id": "3f32dafa-07f5-4373-bf39-44e422ba0ba4",
   "metadata": {},
   "outputs": [],
   "source": []
  },
  {
   "cell_type": "code",
   "execution_count": 51,
   "id": "90abef78-0558-49e0-aaa8-f70669742315",
   "metadata": {},
   "outputs": [],
   "source": [
    "df=pd.read_excel('CDAC_DataBook.xlsx',sheet_name='iris')"
   ]
  },
  {
   "cell_type": "code",
   "execution_count": 52,
   "id": "468b8aaf-57c4-41c5-9d75-1f50c93d550e",
   "metadata": {},
   "outputs": [],
   "source": [
    "x=df.drop('Species',axis=1)\n",
    "y=df.Species"
   ]
  },
  {
   "cell_type": "code",
   "execution_count": 53,
   "id": "31097d46-b1c5-44a7-adea-b3cab05764d2",
   "metadata": {},
   "outputs": [],
   "source": [
    "x_train,x_test,y_train,y_test=train_test_split(x,y,test_size=0.25,random_state=20)"
   ]
  },
  {
   "cell_type": "code",
   "execution_count": 54,
   "id": "ab2fd635-2d85-4070-98c5-404149590250",
   "metadata": {},
   "outputs": [],
   "source": [
    "sc=StandardScaler()\n",
    "x_train=sc.fit_transform(x_train)\n",
    "x_test=sc.transform(x_test)"
   ]
  },
  {
   "cell_type": "code",
   "execution_count": 55,
   "id": "682d71ea-9266-4b2d-837e-8c050039f582",
   "metadata": {},
   "outputs": [],
   "source": [
    "lda_mod=LinearDiscriminantAnalysis()\n",
    "x_train=lda_mod.fit_transform(x_train,y_train)\n",
    "x_test=lda_mod.transform(x_test)"
   ]
  },
  {
   "cell_type": "code",
   "execution_count": null,
   "id": "f8286a9a-ced6-4164-8994-0d68eef7cb38",
   "metadata": {},
   "outputs": [],
   "source": []
  },
  {
   "cell_type": "code",
   "execution_count": 56,
   "id": "09cfa29e-a9b9-4f26-ab2d-c65ad86d0ebe",
   "metadata": {},
   "outputs": [],
   "source": [
    "mod2=DecisionTreeClassifier(max_depth=3)\n",
    "mod2.fit(x_train,y_train)\n",
    "y_pred=mod2.predict(x_test)"
   ]
  },
  {
   "cell_type": "code",
   "execution_count": 57,
   "id": "b3dabe07-618b-4ed7-803c-8cb6bafd5f5e",
   "metadata": {},
   "outputs": [
    {
     "name": "stdout",
     "output_type": "stream",
     "text": [
      "[[12  0  0]\n",
      " [ 0 14  0]\n",
      " [ 0  1 11]]\n"
     ]
    }
   ],
   "source": [
    "print(confusion_matrix(y_test,y_pred))"
   ]
  },
  {
   "cell_type": "code",
   "execution_count": 58,
   "id": "69ce2721-dbbb-4acb-b2de-e7f38e079568",
   "metadata": {},
   "outputs": [
    {
     "name": "stdout",
     "output_type": "stream",
     "text": [
      "                 precision    recall  f1-score   support\n",
      "\n",
      "    Iris-setosa       1.00      1.00      1.00        12\n",
      "Iris-versicolor       0.93      1.00      0.97        14\n",
      " Iris-virginica       1.00      0.92      0.96        12\n",
      "\n",
      "       accuracy                           0.97        38\n",
      "      macro avg       0.98      0.97      0.97        38\n",
      "   weighted avg       0.98      0.97      0.97        38\n",
      "\n"
     ]
    }
   ],
   "source": [
    "print(classification_report(y_test,y_pred))"
   ]
  },
  {
   "cell_type": "code",
   "execution_count": null,
   "id": "ae431fb9-49f8-4b81-81f9-723f5342e942",
   "metadata": {},
   "outputs": [],
   "source": []
  },
  {
   "cell_type": "code",
   "execution_count": null,
   "id": "a3966478-fc11-4ecd-b7ad-d4b52a0155d4",
   "metadata": {},
   "outputs": [],
   "source": []
  },
  {
   "cell_type": "markdown",
   "id": "9478b18d-3ee5-4674-b390-cba9518579d8",
   "metadata": {},
   "source": [
    "The new axes we prepare are called eigenvectors. The importance of the axes is determined by eigen values. "
   ]
  },
  {
   "cell_type": "markdown",
   "id": "e4a0730a-2689-4ea1-9923-638c089401f3",
   "metadata": {},
   "source": [
    "The n-best axes are determined by eigen values. The n-best with highest eigen values are chosen.\n",
    "\n"
   ]
  },
  {
   "cell_type": "markdown",
   "id": "7a91e4d9-4d52-49e5-8378-229a6b9dc151",
   "metadata": {},
   "source": [
    "vector value   %age<br>\n",
    "e1      17.3    .41<br>\n",
    "e2      8.5        <br> \n",
    "e3      9.8     .23<br>\n",
    "e4      6.2\n",
    "\n",
    "\n",
    "Total =41.8\n",
    "\n",
    "\n",
    "if n=2 then- e1 and e3 are chosen and can explain about .64 of the variation in the dataset.\n",
    "\n",
    "The direction of the axes are determined by the best eigen vectors, their magnitude by eigen values.\n"
   ]
  },
  {
   "cell_type": "code",
   "execution_count": null,
   "id": "9e4ef45f-6ecf-4733-adb9-de3ddac5d210",
   "metadata": {},
   "outputs": [],
   "source": []
  },
  {
   "cell_type": "code",
   "execution_count": null,
   "id": "1aac5736-ad41-4880-8748-18b06895eba9",
   "metadata": {},
   "outputs": [],
   "source": []
  },
  {
   "cell_type": "code",
   "execution_count": null,
   "id": "dc3ff105-975e-4ee7-b722-baeb98c5be57",
   "metadata": {},
   "outputs": [],
   "source": []
  },
  {
   "cell_type": "code",
   "execution_count": 60,
   "id": "972f0974-a854-4939-a7d5-09f9fd033af6",
   "metadata": {},
   "outputs": [],
   "source": [
    "a=np.array([4,6,5,7,8])\n",
    "b=np.array([3,4,2,6,9])"
   ]
  },
  {
   "cell_type": "code",
   "execution_count": 62,
   "id": "f3887618-1154-4328-ab7d-4eef1f4b2699",
   "metadata": {},
   "outputs": [
    {
     "data": {
      "text/plain": [
       "array([[2.5, 4. ],\n",
       "       [4. , 7.7]])"
      ]
     },
     "execution_count": 62,
     "metadata": {},
     "output_type": "execute_result"
    }
   ],
   "source": [
    "np.cov(a,b)"
   ]
  },
  {
   "cell_type": "code",
   "execution_count": null,
   "id": "42bfd7d2-3f2c-4875-af8c-451ef84c61b4",
   "metadata": {},
   "outputs": [],
   "source": []
  },
  {
   "cell_type": "markdown",
   "id": "48c79554-bc83-4279-92e6-293fe7cd43ca",
   "metadata": {},
   "source": [
    "**Covarience matrix will always be a square matrix**\n"
   ]
  },
  {
   "cell_type": "code",
   "execution_count": 64,
   "id": "b2d3d612-ef0e-4d99-8007-8f4b9b8d0dec",
   "metadata": {},
   "outputs": [
    {
     "data": {
      "text/plain": [
       "np.float64(2.5)"
      ]
     },
     "execution_count": 64,
     "metadata": {},
     "output_type": "execute_result"
    }
   ],
   "source": [
    "np.var(a,ddof=1)"
   ]
  },
  {
   "cell_type": "code",
   "execution_count": 65,
   "id": "95a10a18-992e-4584-8ec2-58c75a6ecaed",
   "metadata": {},
   "outputs": [
    {
     "data": {
      "text/plain": [
       "np.float64(7.7)"
      ]
     },
     "execution_count": 65,
     "metadata": {},
     "output_type": "execute_result"
    }
   ],
   "source": [
    "np.var(b,ddof=1)\n"
   ]
  },
  {
   "cell_type": "markdown",
   "id": "73653524-f9fd-4c5c-82aa-4a4d8a340cb0",
   "metadata": {},
   "source": [
    "**Covarience matrix will always be a square matrix**\n"
   ]
  },
  {
   "cell_type": "code",
   "execution_count": null,
   "id": "1135add5-7018-460e-bb30-e09e69c8bf4a",
   "metadata": {},
   "outputs": [],
   "source": []
  },
  {
   "cell_type": "code",
   "execution_count": null,
   "id": "4bfd2de5-edf7-45c2-8b64-278ef03eaa27",
   "metadata": {},
   "outputs": [],
   "source": []
  },
  {
   "cell_type": "code",
   "execution_count": null,
   "id": "05539a92-cc23-482b-8170-d78890a26a0d",
   "metadata": {},
   "outputs": [],
   "source": []
  },
  {
   "cell_type": "code",
   "execution_count": null,
   "id": "014faf19-1ffe-4b8e-96ee-8d3e4d8a6215",
   "metadata": {},
   "outputs": [],
   "source": []
  },
  {
   "cell_type": "code",
   "execution_count": null,
   "id": "a715c617-1672-4e79-b49c-c469a0baad0e",
   "metadata": {},
   "outputs": [],
   "source": []
  }
 ],
 "metadata": {
  "kernelspec": {
   "display_name": "Python 3 (ipykernel)",
   "language": "python",
   "name": "python3"
  },
  "language_info": {
   "codemirror_mode": {
    "name": "ipython",
    "version": 3
   },
   "file_extension": ".py",
   "mimetype": "text/x-python",
   "name": "python",
   "nbconvert_exporter": "python",
   "pygments_lexer": "ipython3",
   "version": "3.12.7"
  }
 },
 "nbformat": 4,
 "nbformat_minor": 5
}
