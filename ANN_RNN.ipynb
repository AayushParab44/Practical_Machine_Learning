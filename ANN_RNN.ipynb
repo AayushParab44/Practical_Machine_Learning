{
 "cells": [
  {
   "cell_type": "markdown",
   "id": "c21d03e7-b90c-475f-8820-0c3a19da9042",
   "metadata": {},
   "source": [
    "In ANN, the input(rows) was given as a whole. But in RNN, the input is given \n",
    "in the form of timestamps.\n",
    "\n",
    "ANN is a feed forward network, RNN works on state.\n",
    "\n",
    "The hidden layer gives back the feedback.\n",
    "\n",
    "# Working of RNN-\n",
    "- The training data(sequence) is split into time based sequences, which are then\n",
    "converted into vectors and passed into RNNs as input.\n",
    "\n",
    "- The RNN is initialised with random weights and biases which remain\n",
    "the same through all the timestamps. The words are vector encoded and passed into RNN as inputs\n",
    "\n",
    "- If sentence has 4 word then there are 4 timesteps\n",
    "\n",
    "- The network iterates over the sequence to compute the output for\n",
    "each timestamp. The current hidden state is computed by passing the inputs for the current timestep(xt), the\n",
    "previous hidden state(xt-1) and the weights and biases for the sequence into a layer with an activation function of\n",
    "choice.\n",
    "\n",
    "- The hidden state is then returned as an output and passed to the next timestep \n",
    "\n",
    "- The 2 last steps are repeated again till we reach the last time step.\n",
    "\n",
    "- The final ouput can be a single vector(sentimental analysis) or a combination of output vectors returned in each time step.\n",
    "\n",
    "- \n",
    "\n",
    "\n",
    "\n"
   ]
  },
  {
   "cell_type": "code",
   "execution_count": null,
   "id": "43c7f454-e644-4e89-ab9a-98e783bfb684",
   "metadata": {},
   "outputs": [],
   "source": []
  }
 ],
 "metadata": {
  "kernelspec": {
   "display_name": "Python 3 (ipykernel)",
   "language": "python",
   "name": "python3"
  },
  "language_info": {
   "codemirror_mode": {
    "name": "ipython",
    "version": 3
   },
   "file_extension": ".py",
   "mimetype": "text/x-python",
   "name": "python",
   "nbconvert_exporter": "python",
   "pygments_lexer": "ipython3",
   "version": "3.12.7"
  }
 },
 "nbformat": 4,
 "nbformat_minor": 5
}
