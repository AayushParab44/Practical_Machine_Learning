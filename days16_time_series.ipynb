{
 "cells": [
  {
   "cell_type": "code",
   "execution_count": null,
   "id": "87f3fff2-9195-42b3-95d2-d6b3c382cdc9",
   "metadata": {},
   "outputs": [],
   "source": []
  },
  {
   "cell_type": "code",
   "execution_count": null,
   "id": "bd38d740-ef33-47c7-a592-d22e7c8c25ae",
   "metadata": {},
   "outputs": [],
   "source": []
  },
  {
   "cell_type": "code",
   "execution_count": null,
   "id": "c6d9a272-3fa8-41ae-93ba-ce7d42c6f4b5",
   "metadata": {},
   "outputs": [],
   "source": []
  },
  {
   "cell_type": "markdown",
   "id": "150a87c2-010a-4a28-8333-07a4a2493ba7",
   "metadata": {},
   "source": [
    "- A sequence of numbers in a time series should not be changed. (else we lose the pattern)"
   ]
  },
  {
   "cell_type": "markdown",
   "id": "3037e3f1-7a3a-4e75-a5a9-2292ff2c693e",
   "metadata": {},
   "source": [
    "- In time series, we cannot eliminate null values, if removed, the pattern gets missed out. Imputing those values may not be done properly by\n",
    "the mean/median ,etc.\n"
   ]
  },
  {
   "cell_type": "markdown",
   "id": "3dd4e280-4d94-48ac-b0e0-b3ff379309be",
   "metadata": {},
   "source": [
    "Stationary time series(like a sine curve)- mean and variance is constant"
   ]
  },
  {
   "cell_type": "markdown",
   "id": "5faeca02-99da-4e79-bfeb-2a26f667b0e7",
   "metadata": {},
   "source": [
    "time series has a trend but no seasonal variation"
   ]
  },
  {
   "cell_type": "code",
   "execution_count": null,
   "id": "16bf6d4a-35ae-4bda-a9e7-6f7431e1f3eb",
   "metadata": {},
   "outputs": [],
   "source": []
  }
 ],
 "metadata": {
  "kernelspec": {
   "display_name": "Python 3 (ipykernel)",
   "language": "python",
   "name": "python3"
  },
  "language_info": {
   "codemirror_mode": {
    "name": "ipython",
    "version": 3
   },
   "file_extension": ".py",
   "mimetype": "text/x-python",
   "name": "python",
   "nbconvert_exporter": "python",
   "pygments_lexer": "ipython3",
   "version": "3.12.7"
  }
 },
 "nbformat": 4,
 "nbformat_minor": 5
}
