{
 "cells": [
  {
   "cell_type": "code",
   "execution_count": 197,
   "id": "99d5fda6-6893-4c37-b647-0053439feb6d",
   "metadata": {},
   "outputs": [],
   "source": [
    "import numpy as np\n",
    "import pandas as pd\n",
    "import matplotlib.pyplot as plt\n",
    "import seaborn as sns\n",
    "\n",
    "from numpy import random\n",
    "\n",
    "import scipy\n",
    "from scipy import stats\n",
    "from scipy.stats import binom,poisson,norm,t\n",
    "\n",
    "import pylab\n",
    "from pylab import legend, plot, show ,title, xlabel, ylabel\n",
    "\n",
    "import statsmodels\n",
    "from statsmodels import stats\n",
    "from statsmodels.stats import weightstats as ssw\n",
    "\n",
    "import statsmodels.api as sm\n",
    "from statsmodels.formula.api import ols\n",
    "import statsmodels.stats.multicomp\n",
    "\n",
    "from statsmodels.stats import proportion as ssp\n",
    "\n",
    "from scipy.stats import chisquare, chi2_contingency\n",
    "\n",
    "from sklearn.model_selection import train_test_split"
   ]
  },
  {
   "cell_type": "code",
   "execution_count": null,
   "id": "5d04efb6-5899-48df-ad8c-2bbe42c86966",
   "metadata": {},
   "outputs": [],
   "source": []
  },
  {
   "cell_type": "code",
   "execution_count": 198,
   "id": "3aabeb4f-7de5-44c0-9973-b9f37d145b6f",
   "metadata": {},
   "outputs": [],
   "source": [
    "df=pd.read_excel('CDAC_DataBook.xlsx',sheet_name='faithful')"
   ]
  },
  {
   "cell_type": "code",
   "execution_count": 199,
   "id": "11aab7a3-e630-4944-a125-059389e50e81",
   "metadata": {},
   "outputs": [],
   "source": [
    "x_train,x_test,y_train,y_test=train_test_split(df.waiting,df.eruptions,test_size=0.2,random_state=20)"
   ]
  },
  {
   "cell_type": "code",
   "execution_count": 200,
   "id": "cdb38967-5fe6-45eb-99c0-dbd05fac8278",
   "metadata": {},
   "outputs": [],
   "source": [
    "x_train=sm.add_constant(x_train,prepend=False)"
   ]
  },
  {
   "cell_type": "code",
   "execution_count": 201,
   "id": "78be6e21-a9f4-40a7-bb5f-ae9ae13bf7a6",
   "metadata": {},
   "outputs": [],
   "source": [
    "mod1=sm.OLS(y_train,x_train).fit()"
   ]
  },
  {
   "cell_type": "code",
   "execution_count": 202,
   "id": "3825f0a3-c21b-42fd-a92c-896cee3919ab",
   "metadata": {},
   "outputs": [
    {
     "name": "stdout",
     "output_type": "stream",
     "text": [
      "                            OLS Regression Results                            \n",
      "==============================================================================\n",
      "Dep. Variable:              eruptions   R-squared:                       0.802\n",
      "Model:                            OLS   Adj. R-squared:                  0.801\n",
      "Method:                 Least Squares   F-statistic:                     871.7\n",
      "Date:                Wed, 18 Dec 2024   Prob (F-statistic):           1.37e-77\n",
      "Time:                        15:43:09   Log-Likelihood:                -160.39\n",
      "No. Observations:                 217   AIC:                             324.8\n",
      "Df Residuals:                     215   BIC:                             331.5\n",
      "Df Model:                           1                                         \n",
      "Covariance Type:            nonrobust                                         \n",
      "==============================================================================\n",
      "                 coef    std err          t      P>|t|      [0.025      0.975]\n",
      "------------------------------------------------------------------------------\n",
      "waiting        0.0759      0.003     29.525      0.000       0.071       0.081\n",
      "const         -1.9119      0.185    -10.326      0.000      -2.277      -1.547\n",
      "==============================================================================\n",
      "Omnibus:                        4.570   Durbin-Watson:                   1.937\n",
      "Prob(Omnibus):                  0.102   Jarque-Bera (JB):                2.855\n",
      "Skew:                          -0.053   Prob(JB):                        0.240\n",
      "Kurtosis:                       2.448   Cond. No.                         386.\n",
      "==============================================================================\n",
      "\n",
      "Notes:\n",
      "[1] Standard Errors assume that the covariance matrix of the errors is correctly specified.\n"
     ]
    }
   ],
   "source": [
    "print(mod1.summary())"
   ]
  },
  {
   "cell_type": "code",
   "execution_count": null,
   "id": "3ceadd77-3263-479a-ac2a-95063561ab25",
   "metadata": {},
   "outputs": [],
   "source": []
  },
  {
   "cell_type": "code",
   "execution_count": 158,
   "id": "90e7ebaf-9f72-4385-9ab5-726715e06bbd",
   "metadata": {},
   "outputs": [],
   "source": [
    "x_test=sm.add_constant(x_test,prepend=False)"
   ]
  },
  {
   "cell_type": "code",
   "execution_count": 159,
   "id": "81fbfd29-7173-4180-ac06-02ea8e31d914",
   "metadata": {},
   "outputs": [],
   "source": [
    "y_pred=mod1.predict(x_test)"
   ]
  },
  {
   "cell_type": "code",
   "execution_count": 160,
   "id": "eaca7d72-e681-440f-a197-f432fab21da3",
   "metadata": {},
   "outputs": [
    {
     "data": {
      "text/plain": [
       "72     4.500\n",
       "132    2.800\n",
       "129    4.650\n",
       "29     4.433\n",
       "87     4.517\n",
       "Name: eruptions, dtype: float64"
      ]
     },
     "execution_count": 160,
     "metadata": {},
     "output_type": "execute_result"
    }
   ],
   "source": [
    "y_test.head()"
   ]
  },
  {
   "cell_type": "code",
   "execution_count": 161,
   "id": "8d340166-b014-4630-b444-ba8f0c9a908f",
   "metadata": {},
   "outputs": [
    {
     "data": {
      "text/plain": [
       "72     4.083201\n",
       "132    2.337782\n",
       "129    4.917967\n",
       "29     4.083201\n",
       "87     4.159089\n",
       "dtype: float64"
      ]
     },
     "execution_count": 161,
     "metadata": {},
     "output_type": "execute_result"
    }
   ],
   "source": [
    "y_pred.head()"
   ]
  },
  {
   "cell_type": "code",
   "execution_count": null,
   "id": "705613ef-dc53-4b87-b377-e5e6a7a561cb",
   "metadata": {},
   "outputs": [],
   "source": []
  },
  {
   "cell_type": "code",
   "execution_count": null,
   "id": "d5495bd9-b0c6-415d-8c02-cc65dbe5be1f",
   "metadata": {},
   "outputs": [],
   "source": []
  },
  {
   "cell_type": "markdown",
   "id": "969c8dc4-13af-4098-8439-d220b56d2957",
   "metadata": {},
   "source": [
    "# Multiple Linear Regression"
   ]
  },
  {
   "cell_type": "code",
   "execution_count": 162,
   "id": "cb4e1408-62cf-4f0b-b09c-fe71ed648999",
   "metadata": {},
   "outputs": [],
   "source": [
    "df=pd.read_excel('CDAC_DataBook.xlsx',sheet_name='stackloss')"
   ]
  },
  {
   "cell_type": "code",
   "execution_count": 163,
   "id": "17d26081-7d5b-4b6d-a8fb-65513186d8a1",
   "metadata": {},
   "outputs": [
    {
     "data": {
      "text/html": [
       "<div>\n",
       "<style scoped>\n",
       "    .dataframe tbody tr th:only-of-type {\n",
       "        vertical-align: middle;\n",
       "    }\n",
       "\n",
       "    .dataframe tbody tr th {\n",
       "        vertical-align: top;\n",
       "    }\n",
       "\n",
       "    .dataframe thead th {\n",
       "        text-align: right;\n",
       "    }\n",
       "</style>\n",
       "<table border=\"1\" class=\"dataframe\">\n",
       "  <thead>\n",
       "    <tr style=\"text-align: right;\">\n",
       "      <th></th>\n",
       "      <th>AirFlow</th>\n",
       "      <th>WaterTemp</th>\n",
       "      <th>AcidConc</th>\n",
       "      <th>StackLoss</th>\n",
       "    </tr>\n",
       "  </thead>\n",
       "  <tbody>\n",
       "    <tr>\n",
       "      <th>0</th>\n",
       "      <td>80</td>\n",
       "      <td>27</td>\n",
       "      <td>89</td>\n",
       "      <td>42</td>\n",
       "    </tr>\n",
       "    <tr>\n",
       "      <th>1</th>\n",
       "      <td>80</td>\n",
       "      <td>27</td>\n",
       "      <td>88</td>\n",
       "      <td>37</td>\n",
       "    </tr>\n",
       "    <tr>\n",
       "      <th>2</th>\n",
       "      <td>75</td>\n",
       "      <td>25</td>\n",
       "      <td>90</td>\n",
       "      <td>37</td>\n",
       "    </tr>\n",
       "    <tr>\n",
       "      <th>3</th>\n",
       "      <td>62</td>\n",
       "      <td>24</td>\n",
       "      <td>87</td>\n",
       "      <td>28</td>\n",
       "    </tr>\n",
       "    <tr>\n",
       "      <th>4</th>\n",
       "      <td>62</td>\n",
       "      <td>22</td>\n",
       "      <td>87</td>\n",
       "      <td>18</td>\n",
       "    </tr>\n",
       "  </tbody>\n",
       "</table>\n",
       "</div>"
      ],
      "text/plain": [
       "   AirFlow  WaterTemp  AcidConc  StackLoss\n",
       "0       80         27        89         42\n",
       "1       80         27        88         37\n",
       "2       75         25        90         37\n",
       "3       62         24        87         28\n",
       "4       62         22        87         18"
      ]
     },
     "execution_count": 163,
     "metadata": {},
     "output_type": "execute_result"
    }
   ],
   "source": [
    "df.head()"
   ]
  },
  {
   "cell_type": "code",
   "execution_count": 164,
   "id": "ff530dd8-799c-4c0c-88c1-8efba6da84f2",
   "metadata": {},
   "outputs": [],
   "source": [
    "x_train,x_test,y_train,y_test=train_test_split(df.drop('StackLoss',axis=1),df.StackLoss,test_size=0.2,random_state=20)"
   ]
  },
  {
   "cell_type": "code",
   "execution_count": 165,
   "id": "84d7c0e7-069f-404d-97b7-bc52f70fd182",
   "metadata": {},
   "outputs": [],
   "source": [
    "x_train=sm.add_constant(x_train,prepend=False)\n",
    "x_test=sm.add_constant(x_test,prepend=False)"
   ]
  },
  {
   "cell_type": "code",
   "execution_count": 166,
   "id": "35a68ea2-61d4-49cb-a667-8fbbfbe85b80",
   "metadata": {},
   "outputs": [],
   "source": [
    "mod2=sm.OLS(y_train,x_train).fit()"
   ]
  },
  {
   "cell_type": "code",
   "execution_count": 167,
   "id": "884559ed-69a2-4d0f-8b24-aa8efd554abc",
   "metadata": {},
   "outputs": [
    {
     "name": "stdout",
     "output_type": "stream",
     "text": [
      "                            OLS Regression Results                            \n",
      "==============================================================================\n",
      "Dep. Variable:              StackLoss   R-squared:                       0.893\n",
      "Model:                            OLS   Adj. R-squared:                  0.867\n",
      "Method:                 Least Squares   F-statistic:                     33.46\n",
      "Date:                Wed, 18 Dec 2024   Prob (F-statistic):           4.14e-06\n",
      "Time:                        14:43:19   Log-Likelihood:                -41.238\n",
      "No. Observations:                  16   AIC:                             90.48\n",
      "Df Residuals:                      12   BIC:                             93.57\n",
      "Df Model:                           3                                         \n",
      "Covariance Type:            nonrobust                                         \n",
      "==============================================================================\n",
      "                 coef    std err          t      P>|t|      [0.025      0.975]\n",
      "------------------------------------------------------------------------------\n",
      "AirFlow        0.7337      0.169      4.346      0.001       0.366       1.102\n",
      "WaterTemp      1.3969      0.438      3.188      0.008       0.442       2.352\n",
      "AcidConc      -0.2726      0.245     -1.114      0.287      -0.806       0.261\n",
      "const        -32.3094     19.465     -1.660      0.123     -74.720      10.101\n",
      "==============================================================================\n",
      "Omnibus:                        0.802   Durbin-Watson:                   2.243\n",
      "Prob(Omnibus):                  0.670   Jarque-Bera (JB):                0.663\n",
      "Skew:                          -0.437   Prob(JB):                        0.718\n",
      "Kurtosis:                       2.520   Cond. No.                     2.31e+03\n",
      "==============================================================================\n",
      "\n",
      "Notes:\n",
      "[1] Standard Errors assume that the covariance matrix of the errors is correctly specified.\n",
      "[2] The condition number is large, 2.31e+03. This might indicate that there are\n",
      "strong multicollinearity or other numerical problems.\n"
     ]
    },
    {
     "name": "stderr",
     "output_type": "stream",
     "text": [
      "C:\\Users\\AAYUSH\\AppData\\Local\\Programs\\Python\\Python312\\Lib\\site-packages\\scipy\\stats\\_axis_nan_policy.py:418: UserWarning: `kurtosistest` p-value may be inaccurate with fewer than 20 observations; only n=16 observations were given.\n",
      "  return hypotest_fun_in(*args, **kwds)\n"
     ]
    }
   ],
   "source": [
    "print(mod2.summary())"
   ]
  },
  {
   "cell_type": "code",
   "execution_count": 168,
   "id": "5ce85016-539c-4026-aef7-38d674251d59",
   "metadata": {},
   "outputs": [],
   "source": [
    "y_pred=mod2.predict(x_test)"
   ]
  },
  {
   "cell_type": "code",
   "execution_count": 169,
   "id": "76046efc-bf21-4e30-8238-3ebe7cf00755",
   "metadata": {},
   "outputs": [
    {
     "data": {
      "text/plain": [
       "(16, 4)"
      ]
     },
     "execution_count": 169,
     "metadata": {},
     "output_type": "execute_result"
    }
   ],
   "source": [
    "\n",
    "x_train.shape"
   ]
  },
  {
   "cell_type": "code",
   "execution_count": null,
   "id": "34c373b1-f1d6-4bb9-a34f-336c1bc0f9d6",
   "metadata": {},
   "outputs": [],
   "source": []
  },
  {
   "cell_type": "code",
   "execution_count": null,
   "id": "553d5600-2171-4cc4-b094-aff78a0f133a",
   "metadata": {},
   "outputs": [],
   "source": []
  },
  {
   "cell_type": "code",
   "execution_count": 170,
   "id": "c5441968-f80d-4917-a7b3-75f75aa73ddd",
   "metadata": {},
   "outputs": [],
   "source": [
    "sal=pd.read_excel('CDAC_DataBook.xlsx',sheet_name='salaries')"
   ]
  },
  {
   "cell_type": "code",
   "execution_count": 171,
   "id": "5bee8767-7b6a-460b-bf9b-9304117270f9",
   "metadata": {},
   "outputs": [
    {
     "data": {
      "text/html": [
       "<div>\n",
       "<style scoped>\n",
       "    .dataframe tbody tr th:only-of-type {\n",
       "        vertical-align: middle;\n",
       "    }\n",
       "\n",
       "    .dataframe tbody tr th {\n",
       "        vertical-align: top;\n",
       "    }\n",
       "\n",
       "    .dataframe thead th {\n",
       "        text-align: right;\n",
       "    }\n",
       "</style>\n",
       "<table border=\"1\" class=\"dataframe\">\n",
       "  <thead>\n",
       "    <tr style=\"text-align: right;\">\n",
       "      <th></th>\n",
       "      <th>rank</th>\n",
       "      <th>discipline</th>\n",
       "      <th>yrs_phd</th>\n",
       "      <th>yrs_service</th>\n",
       "      <th>gender</th>\n",
       "      <th>salary</th>\n",
       "    </tr>\n",
       "  </thead>\n",
       "  <tbody>\n",
       "    <tr>\n",
       "      <th>0</th>\n",
       "      <td>Prof</td>\n",
       "      <td>B</td>\n",
       "      <td>19</td>\n",
       "      <td>18</td>\n",
       "      <td>Male</td>\n",
       "      <td>139750</td>\n",
       "    </tr>\n",
       "    <tr>\n",
       "      <th>1</th>\n",
       "      <td>Prof</td>\n",
       "      <td>B</td>\n",
       "      <td>20</td>\n",
       "      <td>16</td>\n",
       "      <td>Male</td>\n",
       "      <td>173200</td>\n",
       "    </tr>\n",
       "    <tr>\n",
       "      <th>2</th>\n",
       "      <td>AsstProf</td>\n",
       "      <td>B</td>\n",
       "      <td>4</td>\n",
       "      <td>3</td>\n",
       "      <td>Male</td>\n",
       "      <td>79750</td>\n",
       "    </tr>\n",
       "    <tr>\n",
       "      <th>3</th>\n",
       "      <td>Prof</td>\n",
       "      <td>B</td>\n",
       "      <td>45</td>\n",
       "      <td>39</td>\n",
       "      <td>Male</td>\n",
       "      <td>115000</td>\n",
       "    </tr>\n",
       "    <tr>\n",
       "      <th>4</th>\n",
       "      <td>Prof</td>\n",
       "      <td>B</td>\n",
       "      <td>40</td>\n",
       "      <td>41</td>\n",
       "      <td>Male</td>\n",
       "      <td>141500</td>\n",
       "    </tr>\n",
       "  </tbody>\n",
       "</table>\n",
       "</div>"
      ],
      "text/plain": [
       "       rank discipline  yrs_phd  yrs_service gender  salary\n",
       "0      Prof          B       19           18   Male  139750\n",
       "1      Prof          B       20           16   Male  173200\n",
       "2  AsstProf          B        4            3   Male   79750\n",
       "3      Prof          B       45           39   Male  115000\n",
       "4      Prof          B       40           41   Male  141500"
      ]
     },
     "execution_count": 171,
     "metadata": {},
     "output_type": "execute_result"
    }
   ],
   "source": [
    "sal.head()"
   ]
  },
  {
   "cell_type": "code",
   "execution_count": 172,
   "id": "765f5457-f3e8-4e74-9519-e4c6e22ee019",
   "metadata": {},
   "outputs": [],
   "source": [
    "sal=sal[['gender','yrs_service','salary']]\n"
   ]
  },
  {
   "cell_type": "code",
   "execution_count": 173,
   "id": "e5a88304-0528-4f3e-9db1-a1b9df7e1121",
   "metadata": {},
   "outputs": [
    {
     "data": {
      "text/html": [
       "<div>\n",
       "<style scoped>\n",
       "    .dataframe tbody tr th:only-of-type {\n",
       "        vertical-align: middle;\n",
       "    }\n",
       "\n",
       "    .dataframe tbody tr th {\n",
       "        vertical-align: top;\n",
       "    }\n",
       "\n",
       "    .dataframe thead th {\n",
       "        text-align: right;\n",
       "    }\n",
       "</style>\n",
       "<table border=\"1\" class=\"dataframe\">\n",
       "  <thead>\n",
       "    <tr style=\"text-align: right;\">\n",
       "      <th></th>\n",
       "      <th>gender</th>\n",
       "      <th>yrs_service</th>\n",
       "      <th>salary</th>\n",
       "    </tr>\n",
       "  </thead>\n",
       "  <tbody>\n",
       "    <tr>\n",
       "      <th>0</th>\n",
       "      <td>Male</td>\n",
       "      <td>18</td>\n",
       "      <td>139750</td>\n",
       "    </tr>\n",
       "    <tr>\n",
       "      <th>1</th>\n",
       "      <td>Male</td>\n",
       "      <td>16</td>\n",
       "      <td>173200</td>\n",
       "    </tr>\n",
       "    <tr>\n",
       "      <th>2</th>\n",
       "      <td>Male</td>\n",
       "      <td>3</td>\n",
       "      <td>79750</td>\n",
       "    </tr>\n",
       "    <tr>\n",
       "      <th>3</th>\n",
       "      <td>Male</td>\n",
       "      <td>39</td>\n",
       "      <td>115000</td>\n",
       "    </tr>\n",
       "    <tr>\n",
       "      <th>4</th>\n",
       "      <td>Male</td>\n",
       "      <td>41</td>\n",
       "      <td>141500</td>\n",
       "    </tr>\n",
       "  </tbody>\n",
       "</table>\n",
       "</div>"
      ],
      "text/plain": [
       "  gender  yrs_service  salary\n",
       "0   Male           18  139750\n",
       "1   Male           16  173200\n",
       "2   Male            3   79750\n",
       "3   Male           39  115000\n",
       "4   Male           41  141500"
      ]
     },
     "execution_count": 173,
     "metadata": {},
     "output_type": "execute_result"
    }
   ],
   "source": [
    "sal.head()"
   ]
  },
  {
   "cell_type": "code",
   "execution_count": 174,
   "id": "633f6878-6a06-4057-9f41-b8694dc156fe",
   "metadata": {},
   "outputs": [
    {
     "name": "stdout",
     "output_type": "stream",
     "text": [
      "<class 'pandas.core.frame.DataFrame'>\n",
      "RangeIndex: 397 entries, 0 to 396\n",
      "Data columns (total 3 columns):\n",
      " #   Column       Non-Null Count  Dtype \n",
      "---  ------       --------------  ----- \n",
      " 0   gender       397 non-null    object\n",
      " 1   yrs_service  397 non-null    int64 \n",
      " 2   salary       397 non-null    int64 \n",
      "dtypes: int64(2), object(1)\n",
      "memory usage: 9.4+ KB\n"
     ]
    }
   ],
   "source": [
    "sal.info()"
   ]
  },
  {
   "cell_type": "code",
   "execution_count": 175,
   "id": "37b00d67-723a-4438-8149-3ef3725960a5",
   "metadata": {},
   "outputs": [],
   "source": [
    "dum_gen=pd.get_dummies(sal.gender,drop_first=True,dtype=int)   #One-hot encoding"
   ]
  },
  {
   "cell_type": "code",
   "execution_count": 176,
   "id": "bbf74586-14af-48f6-8ffd-f668d866f312",
   "metadata": {},
   "outputs": [
    {
     "data": {
      "text/html": [
       "<div>\n",
       "<style scoped>\n",
       "    .dataframe tbody tr th:only-of-type {\n",
       "        vertical-align: middle;\n",
       "    }\n",
       "\n",
       "    .dataframe tbody tr th {\n",
       "        vertical-align: top;\n",
       "    }\n",
       "\n",
       "    .dataframe thead th {\n",
       "        text-align: right;\n",
       "    }\n",
       "</style>\n",
       "<table border=\"1\" class=\"dataframe\">\n",
       "  <thead>\n",
       "    <tr style=\"text-align: right;\">\n",
       "      <th></th>\n",
       "      <th>Male</th>\n",
       "    </tr>\n",
       "  </thead>\n",
       "  <tbody>\n",
       "    <tr>\n",
       "      <th>0</th>\n",
       "      <td>1</td>\n",
       "    </tr>\n",
       "    <tr>\n",
       "      <th>1</th>\n",
       "      <td>1</td>\n",
       "    </tr>\n",
       "    <tr>\n",
       "      <th>2</th>\n",
       "      <td>1</td>\n",
       "    </tr>\n",
       "    <tr>\n",
       "      <th>3</th>\n",
       "      <td>1</td>\n",
       "    </tr>\n",
       "    <tr>\n",
       "      <th>4</th>\n",
       "      <td>1</td>\n",
       "    </tr>\n",
       "    <tr>\n",
       "      <th>...</th>\n",
       "      <td>...</td>\n",
       "    </tr>\n",
       "    <tr>\n",
       "      <th>392</th>\n",
       "      <td>1</td>\n",
       "    </tr>\n",
       "    <tr>\n",
       "      <th>393</th>\n",
       "      <td>1</td>\n",
       "    </tr>\n",
       "    <tr>\n",
       "      <th>394</th>\n",
       "      <td>1</td>\n",
       "    </tr>\n",
       "    <tr>\n",
       "      <th>395</th>\n",
       "      <td>1</td>\n",
       "    </tr>\n",
       "    <tr>\n",
       "      <th>396</th>\n",
       "      <td>1</td>\n",
       "    </tr>\n",
       "  </tbody>\n",
       "</table>\n",
       "<p>397 rows × 1 columns</p>\n",
       "</div>"
      ],
      "text/plain": [
       "     Male\n",
       "0       1\n",
       "1       1\n",
       "2       1\n",
       "3       1\n",
       "4       1\n",
       "..    ...\n",
       "392     1\n",
       "393     1\n",
       "394     1\n",
       "395     1\n",
       "396     1\n",
       "\n",
       "[397 rows x 1 columns]"
      ]
     },
     "execution_count": 176,
     "metadata": {},
     "output_type": "execute_result"
    }
   ],
   "source": [
    "dum_gen"
   ]
  },
  {
   "cell_type": "code",
   "execution_count": 177,
   "id": "652b9fa1-0d22-4ea0-9194-348a91b2e428",
   "metadata": {},
   "outputs": [],
   "source": [
    "sal=sal.drop('gender',axis=1)"
   ]
  },
  {
   "cell_type": "code",
   "execution_count": 178,
   "id": "df8b8def-a195-496b-b8f9-aecfa33b5bda",
   "metadata": {},
   "outputs": [],
   "source": [
    "sal=pd.concat([sal,dum_gen],axis=1)"
   ]
  },
  {
   "cell_type": "code",
   "execution_count": 179,
   "id": "aba84c0e-f355-484c-9a0c-2bdf26157462",
   "metadata": {},
   "outputs": [
    {
     "data": {
      "text/html": [
       "<div>\n",
       "<style scoped>\n",
       "    .dataframe tbody tr th:only-of-type {\n",
       "        vertical-align: middle;\n",
       "    }\n",
       "\n",
       "    .dataframe tbody tr th {\n",
       "        vertical-align: top;\n",
       "    }\n",
       "\n",
       "    .dataframe thead th {\n",
       "        text-align: right;\n",
       "    }\n",
       "</style>\n",
       "<table border=\"1\" class=\"dataframe\">\n",
       "  <thead>\n",
       "    <tr style=\"text-align: right;\">\n",
       "      <th></th>\n",
       "      <th>yrs_service</th>\n",
       "      <th>salary</th>\n",
       "      <th>Male</th>\n",
       "    </tr>\n",
       "  </thead>\n",
       "  <tbody>\n",
       "    <tr>\n",
       "      <th>0</th>\n",
       "      <td>18</td>\n",
       "      <td>139750</td>\n",
       "      <td>1</td>\n",
       "    </tr>\n",
       "    <tr>\n",
       "      <th>1</th>\n",
       "      <td>16</td>\n",
       "      <td>173200</td>\n",
       "      <td>1</td>\n",
       "    </tr>\n",
       "    <tr>\n",
       "      <th>2</th>\n",
       "      <td>3</td>\n",
       "      <td>79750</td>\n",
       "      <td>1</td>\n",
       "    </tr>\n",
       "    <tr>\n",
       "      <th>3</th>\n",
       "      <td>39</td>\n",
       "      <td>115000</td>\n",
       "      <td>1</td>\n",
       "    </tr>\n",
       "    <tr>\n",
       "      <th>4</th>\n",
       "      <td>41</td>\n",
       "      <td>141500</td>\n",
       "      <td>1</td>\n",
       "    </tr>\n",
       "    <tr>\n",
       "      <th>...</th>\n",
       "      <td>...</td>\n",
       "      <td>...</td>\n",
       "      <td>...</td>\n",
       "    </tr>\n",
       "    <tr>\n",
       "      <th>392</th>\n",
       "      <td>30</td>\n",
       "      <td>103106</td>\n",
       "      <td>1</td>\n",
       "    </tr>\n",
       "    <tr>\n",
       "      <th>393</th>\n",
       "      <td>19</td>\n",
       "      <td>150564</td>\n",
       "      <td>1</td>\n",
       "    </tr>\n",
       "    <tr>\n",
       "      <th>394</th>\n",
       "      <td>25</td>\n",
       "      <td>101738</td>\n",
       "      <td>1</td>\n",
       "    </tr>\n",
       "    <tr>\n",
       "      <th>395</th>\n",
       "      <td>15</td>\n",
       "      <td>95329</td>\n",
       "      <td>1</td>\n",
       "    </tr>\n",
       "    <tr>\n",
       "      <th>396</th>\n",
       "      <td>4</td>\n",
       "      <td>81035</td>\n",
       "      <td>1</td>\n",
       "    </tr>\n",
       "  </tbody>\n",
       "</table>\n",
       "<p>397 rows × 3 columns</p>\n",
       "</div>"
      ],
      "text/plain": [
       "     yrs_service  salary  Male\n",
       "0             18  139750     1\n",
       "1             16  173200     1\n",
       "2              3   79750     1\n",
       "3             39  115000     1\n",
       "4             41  141500     1\n",
       "..           ...     ...   ...\n",
       "392           30  103106     1\n",
       "393           19  150564     1\n",
       "394           25  101738     1\n",
       "395           15   95329     1\n",
       "396            4   81035     1\n",
       "\n",
       "[397 rows x 3 columns]"
      ]
     },
     "execution_count": 179,
     "metadata": {},
     "output_type": "execute_result"
    }
   ],
   "source": [
    "sal"
   ]
  },
  {
   "cell_type": "code",
   "execution_count": 180,
   "id": "ea742278-963b-4340-b3e7-4deb79651b8a",
   "metadata": {},
   "outputs": [],
   "source": [
    "x_train,x_test,y_train,y_test=train_test_split(sal.drop('salary',axis=1),sal.salary,test_size=0.2,random_state=20)"
   ]
  },
  {
   "cell_type": "code",
   "execution_count": 181,
   "id": "6cdd3b11-56f9-4469-abaf-9bfc3caf34f0",
   "metadata": {},
   "outputs": [],
   "source": [
    "x_train=sm.add_constant(x_train,prepend=False)"
   ]
  },
  {
   "cell_type": "code",
   "execution_count": 182,
   "id": "0c74a287-dbfc-41be-aaff-aef1d4d11864",
   "metadata": {},
   "outputs": [],
   "source": [
    "mod3=sm.OLS(y_train,x_train).fit()"
   ]
  },
  {
   "cell_type": "code",
   "execution_count": 183,
   "id": "492765e1-162d-4b2e-a004-60367fcbf89f",
   "metadata": {},
   "outputs": [
    {
     "name": "stdout",
     "output_type": "stream",
     "text": [
      "                            OLS Regression Results                            \n",
      "==============================================================================\n",
      "Dep. Variable:                 salary   R-squared:                       0.121\n",
      "Model:                            OLS   Adj. R-squared:                  0.115\n",
      "Method:                 Least Squares   F-statistic:                     21.52\n",
      "Date:                Wed, 18 Dec 2024   Prob (F-statistic):           1.75e-09\n",
      "Time:                        14:43:19   Log-Likelihood:                -3698.4\n",
      "No. Observations:                 317   AIC:                             7403.\n",
      "Df Residuals:                     314   BIC:                             7414.\n",
      "Df Model:                           2                                         \n",
      "Covariance Type:            nonrobust                                         \n",
      "===============================================================================\n",
      "                  coef    std err          t      P>|t|      [0.025      0.975]\n",
      "-------------------------------------------------------------------------------\n",
      "yrs_service   701.6382    125.946      5.571      0.000     453.834     949.442\n",
      "Male         1.368e+04   5434.664      2.517      0.012    2985.362    2.44e+04\n",
      "const        8.857e+04   5285.500     16.757      0.000    7.82e+04     9.9e+04\n",
      "==============================================================================\n",
      "Omnibus:                       28.103   Durbin-Watson:                   1.940\n",
      "Prob(Omnibus):                  0.000   Jarque-Bera (JB):               34.160\n",
      "Skew:                           0.696   Prob(JB):                     3.82e-08\n",
      "Kurtosis:                       3.804   Cond. No.                         99.7\n",
      "==============================================================================\n",
      "\n",
      "Notes:\n",
      "[1] Standard Errors assume that the covariance matrix of the errors is correctly specified.\n"
     ]
    }
   ],
   "source": [
    "print(mod3.summary())"
   ]
  },
  {
   "cell_type": "markdown",
   "id": "f72354aa-d2ba-489b-80f3-7673de471e1d",
   "metadata": {},
   "source": []
  },
  {
   "cell_type": "markdown",
   "id": "87a2731c-26eb-462e-833d-903d97c9a8ef",
   "metadata": {},
   "source": [
    "***\n",
    "Ho: coefficient of yrs_service=0<br>\n",
    "Ho: change in salary when gender changes from female to male = 0<br>\n",
    "Ho(const): c=0<br>\n",
    "***"
   ]
  },
  {
   "cell_type": "code",
   "execution_count": null,
   "id": "e896b915-db3d-4d5d-8039-ba8a07a7a142",
   "metadata": {},
   "outputs": [],
   "source": []
  },
  {
   "cell_type": "markdown",
   "id": "62644e0b-8292-42b4-bed5-d007edd9eeca",
   "metadata": {},
   "source": [
    "# change in the response when the factor/variable changes from reference event to the target event = 0"
   ]
  },
  {
   "cell_type": "code",
   "execution_count": null,
   "id": "584e1365-5805-4d56-9cdf-b891166a8f1e",
   "metadata": {},
   "outputs": [],
   "source": []
  },
  {
   "cell_type": "code",
   "execution_count": null,
   "id": "d7d8ebd4-490b-4875-8bc3-92de4d35bcd7",
   "metadata": {},
   "outputs": [],
   "source": []
  },
  {
   "cell_type": "code",
   "execution_count": null,
   "id": "dc2dbf7e-8bac-43ca-adc8-e4c2f7c5c0c1",
   "metadata": {},
   "outputs": [],
   "source": []
  },
  {
   "cell_type": "code",
   "execution_count": 184,
   "id": "d1e8b3c6-a14d-4797-8ed1-cf04724564f8",
   "metadata": {},
   "outputs": [],
   "source": [
    "sal=pd.read_excel('CDAC_DataBook.xlsx',sheet_name='salaries')"
   ]
  },
  {
   "cell_type": "code",
   "execution_count": 185,
   "id": "61db6f61-d91c-4e97-966c-a242ffe8e808",
   "metadata": {},
   "outputs": [],
   "source": [
    "sal=sal[['gender','rank','yrs_service','salary']]\n"
   ]
  },
  {
   "cell_type": "code",
   "execution_count": 186,
   "id": "30371ab0-de90-4bc0-8f51-51f69223be14",
   "metadata": {},
   "outputs": [
    {
     "data": {
      "text/html": [
       "<div>\n",
       "<style scoped>\n",
       "    .dataframe tbody tr th:only-of-type {\n",
       "        vertical-align: middle;\n",
       "    }\n",
       "\n",
       "    .dataframe tbody tr th {\n",
       "        vertical-align: top;\n",
       "    }\n",
       "\n",
       "    .dataframe thead th {\n",
       "        text-align: right;\n",
       "    }\n",
       "</style>\n",
       "<table border=\"1\" class=\"dataframe\">\n",
       "  <thead>\n",
       "    <tr style=\"text-align: right;\">\n",
       "      <th></th>\n",
       "      <th>gender</th>\n",
       "      <th>rank</th>\n",
       "      <th>yrs_service</th>\n",
       "      <th>salary</th>\n",
       "    </tr>\n",
       "  </thead>\n",
       "  <tbody>\n",
       "    <tr>\n",
       "      <th>0</th>\n",
       "      <td>Male</td>\n",
       "      <td>Prof</td>\n",
       "      <td>18</td>\n",
       "      <td>139750</td>\n",
       "    </tr>\n",
       "    <tr>\n",
       "      <th>1</th>\n",
       "      <td>Male</td>\n",
       "      <td>Prof</td>\n",
       "      <td>16</td>\n",
       "      <td>173200</td>\n",
       "    </tr>\n",
       "    <tr>\n",
       "      <th>2</th>\n",
       "      <td>Male</td>\n",
       "      <td>AsstProf</td>\n",
       "      <td>3</td>\n",
       "      <td>79750</td>\n",
       "    </tr>\n",
       "    <tr>\n",
       "      <th>3</th>\n",
       "      <td>Male</td>\n",
       "      <td>Prof</td>\n",
       "      <td>39</td>\n",
       "      <td>115000</td>\n",
       "    </tr>\n",
       "    <tr>\n",
       "      <th>4</th>\n",
       "      <td>Male</td>\n",
       "      <td>Prof</td>\n",
       "      <td>41</td>\n",
       "      <td>141500</td>\n",
       "    </tr>\n",
       "  </tbody>\n",
       "</table>\n",
       "</div>"
      ],
      "text/plain": [
       "  gender      rank  yrs_service  salary\n",
       "0   Male      Prof           18  139750\n",
       "1   Male      Prof           16  173200\n",
       "2   Male  AsstProf            3   79750\n",
       "3   Male      Prof           39  115000\n",
       "4   Male      Prof           41  141500"
      ]
     },
     "execution_count": 186,
     "metadata": {},
     "output_type": "execute_result"
    }
   ],
   "source": [
    "sal.head()"
   ]
  },
  {
   "cell_type": "code",
   "execution_count": 187,
   "id": "2a8e6977-7b4e-4a91-a22b-9336295f0b9f",
   "metadata": {},
   "outputs": [
    {
     "name": "stdout",
     "output_type": "stream",
     "text": [
      "<class 'pandas.core.frame.DataFrame'>\n",
      "RangeIndex: 397 entries, 0 to 396\n",
      "Data columns (total 4 columns):\n",
      " #   Column       Non-Null Count  Dtype \n",
      "---  ------       --------------  ----- \n",
      " 0   gender       397 non-null    object\n",
      " 1   rank         397 non-null    object\n",
      " 2   yrs_service  397 non-null    int64 \n",
      " 3   salary       397 non-null    int64 \n",
      "dtypes: int64(2), object(2)\n",
      "memory usage: 12.5+ KB\n"
     ]
    }
   ],
   "source": [
    "sal.info()"
   ]
  },
  {
   "cell_type": "code",
   "execution_count": 188,
   "id": "c8961978-ba64-4c35-aa56-ac3d1c4b7468",
   "metadata": {},
   "outputs": [],
   "source": [
    "dum_gen=pd.get_dummies(sal.gender,drop_first=True,dtype=int)   #One-hot encoding\n",
    "dum_rank=pd.get_dummies(sal['rank'],drop_first=True,dtype=int)   #One-hot encoding\n",
    "# sal['rank']\n"
   ]
  },
  {
   "cell_type": "code",
   "execution_count": 189,
   "id": "9167170a-e777-425e-918f-f92b7ced20ca",
   "metadata": {},
   "outputs": [
    {
     "data": {
      "text/html": [
       "<div>\n",
       "<style scoped>\n",
       "    .dataframe tbody tr th:only-of-type {\n",
       "        vertical-align: middle;\n",
       "    }\n",
       "\n",
       "    .dataframe tbody tr th {\n",
       "        vertical-align: top;\n",
       "    }\n",
       "\n",
       "    .dataframe thead th {\n",
       "        text-align: right;\n",
       "    }\n",
       "</style>\n",
       "<table border=\"1\" class=\"dataframe\">\n",
       "  <thead>\n",
       "    <tr style=\"text-align: right;\">\n",
       "      <th></th>\n",
       "      <th>Male</th>\n",
       "    </tr>\n",
       "  </thead>\n",
       "  <tbody>\n",
       "    <tr>\n",
       "      <th>0</th>\n",
       "      <td>1</td>\n",
       "    </tr>\n",
       "    <tr>\n",
       "      <th>1</th>\n",
       "      <td>1</td>\n",
       "    </tr>\n",
       "    <tr>\n",
       "      <th>2</th>\n",
       "      <td>1</td>\n",
       "    </tr>\n",
       "    <tr>\n",
       "      <th>3</th>\n",
       "      <td>1</td>\n",
       "    </tr>\n",
       "    <tr>\n",
       "      <th>4</th>\n",
       "      <td>1</td>\n",
       "    </tr>\n",
       "    <tr>\n",
       "      <th>...</th>\n",
       "      <td>...</td>\n",
       "    </tr>\n",
       "    <tr>\n",
       "      <th>392</th>\n",
       "      <td>1</td>\n",
       "    </tr>\n",
       "    <tr>\n",
       "      <th>393</th>\n",
       "      <td>1</td>\n",
       "    </tr>\n",
       "    <tr>\n",
       "      <th>394</th>\n",
       "      <td>1</td>\n",
       "    </tr>\n",
       "    <tr>\n",
       "      <th>395</th>\n",
       "      <td>1</td>\n",
       "    </tr>\n",
       "    <tr>\n",
       "      <th>396</th>\n",
       "      <td>1</td>\n",
       "    </tr>\n",
       "  </tbody>\n",
       "</table>\n",
       "<p>397 rows × 1 columns</p>\n",
       "</div>"
      ],
      "text/plain": [
       "     Male\n",
       "0       1\n",
       "1       1\n",
       "2       1\n",
       "3       1\n",
       "4       1\n",
       "..    ...\n",
       "392     1\n",
       "393     1\n",
       "394     1\n",
       "395     1\n",
       "396     1\n",
       "\n",
       "[397 rows x 1 columns]"
      ]
     },
     "execution_count": 189,
     "metadata": {},
     "output_type": "execute_result"
    }
   ],
   "source": [
    "dum_gen"
   ]
  },
  {
   "cell_type": "code",
   "execution_count": 190,
   "id": "cbbbfc43-02e2-4c99-b5ba-1595f7d37e29",
   "metadata": {},
   "outputs": [],
   "source": [
    "sal=sal.drop(['gender','rank'],axis=1)"
   ]
  },
  {
   "cell_type": "code",
   "execution_count": 191,
   "id": "7bee336c-be63-4d4c-b375-d348008c99f6",
   "metadata": {},
   "outputs": [],
   "source": [
    "sal=pd.concat([sal,dum_gen,dum_rank],axis=1)"
   ]
  },
  {
   "cell_type": "code",
   "execution_count": 192,
   "id": "5d9ae564-8f47-4fd0-8fd5-4520ff205749",
   "metadata": {},
   "outputs": [
    {
     "data": {
      "text/html": [
       "<div>\n",
       "<style scoped>\n",
       "    .dataframe tbody tr th:only-of-type {\n",
       "        vertical-align: middle;\n",
       "    }\n",
       "\n",
       "    .dataframe tbody tr th {\n",
       "        vertical-align: top;\n",
       "    }\n",
       "\n",
       "    .dataframe thead th {\n",
       "        text-align: right;\n",
       "    }\n",
       "</style>\n",
       "<table border=\"1\" class=\"dataframe\">\n",
       "  <thead>\n",
       "    <tr style=\"text-align: right;\">\n",
       "      <th></th>\n",
       "      <th>yrs_service</th>\n",
       "      <th>salary</th>\n",
       "      <th>Male</th>\n",
       "      <th>AsstProf</th>\n",
       "      <th>Prof</th>\n",
       "    </tr>\n",
       "  </thead>\n",
       "  <tbody>\n",
       "    <tr>\n",
       "      <th>0</th>\n",
       "      <td>18</td>\n",
       "      <td>139750</td>\n",
       "      <td>1</td>\n",
       "      <td>0</td>\n",
       "      <td>1</td>\n",
       "    </tr>\n",
       "    <tr>\n",
       "      <th>1</th>\n",
       "      <td>16</td>\n",
       "      <td>173200</td>\n",
       "      <td>1</td>\n",
       "      <td>0</td>\n",
       "      <td>1</td>\n",
       "    </tr>\n",
       "    <tr>\n",
       "      <th>2</th>\n",
       "      <td>3</td>\n",
       "      <td>79750</td>\n",
       "      <td>1</td>\n",
       "      <td>1</td>\n",
       "      <td>0</td>\n",
       "    </tr>\n",
       "    <tr>\n",
       "      <th>3</th>\n",
       "      <td>39</td>\n",
       "      <td>115000</td>\n",
       "      <td>1</td>\n",
       "      <td>0</td>\n",
       "      <td>1</td>\n",
       "    </tr>\n",
       "    <tr>\n",
       "      <th>4</th>\n",
       "      <td>41</td>\n",
       "      <td>141500</td>\n",
       "      <td>1</td>\n",
       "      <td>0</td>\n",
       "      <td>1</td>\n",
       "    </tr>\n",
       "    <tr>\n",
       "      <th>...</th>\n",
       "      <td>...</td>\n",
       "      <td>...</td>\n",
       "      <td>...</td>\n",
       "      <td>...</td>\n",
       "      <td>...</td>\n",
       "    </tr>\n",
       "    <tr>\n",
       "      <th>392</th>\n",
       "      <td>30</td>\n",
       "      <td>103106</td>\n",
       "      <td>1</td>\n",
       "      <td>0</td>\n",
       "      <td>1</td>\n",
       "    </tr>\n",
       "    <tr>\n",
       "      <th>393</th>\n",
       "      <td>19</td>\n",
       "      <td>150564</td>\n",
       "      <td>1</td>\n",
       "      <td>0</td>\n",
       "      <td>1</td>\n",
       "    </tr>\n",
       "    <tr>\n",
       "      <th>394</th>\n",
       "      <td>25</td>\n",
       "      <td>101738</td>\n",
       "      <td>1</td>\n",
       "      <td>0</td>\n",
       "      <td>1</td>\n",
       "    </tr>\n",
       "    <tr>\n",
       "      <th>395</th>\n",
       "      <td>15</td>\n",
       "      <td>95329</td>\n",
       "      <td>1</td>\n",
       "      <td>0</td>\n",
       "      <td>1</td>\n",
       "    </tr>\n",
       "    <tr>\n",
       "      <th>396</th>\n",
       "      <td>4</td>\n",
       "      <td>81035</td>\n",
       "      <td>1</td>\n",
       "      <td>1</td>\n",
       "      <td>0</td>\n",
       "    </tr>\n",
       "  </tbody>\n",
       "</table>\n",
       "<p>397 rows × 5 columns</p>\n",
       "</div>"
      ],
      "text/plain": [
       "     yrs_service  salary  Male  AsstProf  Prof\n",
       "0             18  139750     1         0     1\n",
       "1             16  173200     1         0     1\n",
       "2              3   79750     1         1     0\n",
       "3             39  115000     1         0     1\n",
       "4             41  141500     1         0     1\n",
       "..           ...     ...   ...       ...   ...\n",
       "392           30  103106     1         0     1\n",
       "393           19  150564     1         0     1\n",
       "394           25  101738     1         0     1\n",
       "395           15   95329     1         0     1\n",
       "396            4   81035     1         1     0\n",
       "\n",
       "[397 rows x 5 columns]"
      ]
     },
     "execution_count": 192,
     "metadata": {},
     "output_type": "execute_result"
    }
   ],
   "source": [
    "sal"
   ]
  },
  {
   "cell_type": "code",
   "execution_count": 193,
   "id": "fbd98371-eb63-46e2-b3d0-da884ba9b3cc",
   "metadata": {},
   "outputs": [],
   "source": [
    "x_train,x_test,y_train,y_test=train_test_split(sal.drop('salary',axis=1),sal.salary,test_size=0.2,random_state=20)"
   ]
  },
  {
   "cell_type": "code",
   "execution_count": 194,
   "id": "6b8714a0-6894-439e-b069-882f05a25dcc",
   "metadata": {},
   "outputs": [],
   "source": [
    "x_train=sm.add_constant(x_train,prepend=False)"
   ]
  },
  {
   "cell_type": "code",
   "execution_count": 195,
   "id": "d5bb76cb-4eef-46f4-ac65-0dcece1efcf6",
   "metadata": {},
   "outputs": [],
   "source": [
    "mod3=sm.OLS(y_train,x_train).fit()"
   ]
  },
  {
   "cell_type": "code",
   "execution_count": 196,
   "id": "b9860946-6d42-4751-9e77-5acbd958604b",
   "metadata": {},
   "outputs": [
    {
     "name": "stdout",
     "output_type": "stream",
     "text": [
      "                            OLS Regression Results                            \n",
      "==============================================================================\n",
      "Dep. Variable:                 salary   R-squared:                       0.386\n",
      "Model:                            OLS   Adj. R-squared:                  0.378\n",
      "Method:                 Least Squares   F-statistic:                     49.00\n",
      "Date:                Wed, 18 Dec 2024   Prob (F-statistic):           5.74e-32\n",
      "Time:                        14:43:24   Log-Likelihood:                -3641.5\n",
      "No. Observations:                 317   AIC:                             7293.\n",
      "Df Residuals:                     312   BIC:                             7312.\n",
      "Df Model:                           4                                         \n",
      "Covariance Type:            nonrobust                                         \n",
      "===============================================================================\n",
      "                  coef    std err          t      P>|t|      [0.025      0.975]\n",
      "-------------------------------------------------------------------------------\n",
      "yrs_service  -180.2334    130.962     -1.376      0.170    -437.913      77.447\n",
      "Male         8462.3611   4579.930      1.848      0.066    -549.092    1.75e+04\n",
      "AsstProf    -1.315e+04   4799.080     -2.739      0.007   -2.26e+04   -3704.257\n",
      "Prof         3.416e+04   3892.681      8.775      0.000    2.65e+04    4.18e+04\n",
      "const        8.793e+04   5134.418     17.126      0.000    7.78e+04     9.8e+04\n",
      "==============================================================================\n",
      "Omnibus:                       45.853   Durbin-Watson:                   1.935\n",
      "Prob(Omnibus):                  0.000   Jarque-Bera (JB):               78.695\n",
      "Skew:                           0.831   Prob(JB):                     8.16e-18\n",
      "Kurtosis:                       4.787   Cond. No.                         112.\n",
      "==============================================================================\n",
      "\n",
      "Notes:\n",
      "[1] Standard Errors assume that the covariance matrix of the errors is correctly specified.\n"
     ]
    }
   ],
   "source": [
    "print(mod3.summary())"
   ]
  },
  {
   "cell_type": "markdown",
   "id": "80208fc5-8e69-45a4-86c5-e83ae9b54a2a",
   "metadata": {},
   "source": []
  },
  {
   "cell_type": "markdown",
   "id": "345b4571-2b14-4d28-ba02-e056a0c47e33",
   "metadata": {},
   "source": [
    "***\n",
    "Ho: coefficient of yrs_service=0<br>\n",
    "Ho: change in salary when gender changes from female to male = 0<br>\n",
    "Ho(const): c=0<br>\n",
    "***"
   ]
  },
  {
   "cell_type": "code",
   "execution_count": null,
   "id": "9a74bc55-d585-4693-b785-7b34bcd6e00f",
   "metadata": {},
   "outputs": [],
   "source": []
  },
  {
   "cell_type": "markdown",
   "id": "ad70acd2-63d3-4408-94fc-cd7b24791079",
   "metadata": {},
   "source": [
    "# change in the response when the factor/variable changes from reference event to the target event = 0"
   ]
  },
  {
   "cell_type": "code",
   "execution_count": null,
   "id": "4678cc2e-5b26-4e19-a18d-c9acc59f11ff",
   "metadata": {},
   "outputs": [],
   "source": []
  },
  {
   "cell_type": "code",
   "execution_count": null,
   "id": "6e623b96-13af-4d14-a6f1-75e095b3044b",
   "metadata": {},
   "outputs": [],
   "source": []
  },
  {
   "cell_type": "code",
   "execution_count": null,
   "id": "cf1d1aa0-1a4b-4808-af2d-8af5ff2a9153",
   "metadata": {},
   "outputs": [],
   "source": []
  },
  {
   "cell_type": "code",
   "execution_count": 1,
   "id": "0d705310-0e8b-4a1f-a7b9-a98532874c59",
   "metadata": {},
   "outputs": [
    {
     "name": "stdout",
     "output_type": "stream",
     "text": [
      "Collecting kagglehub\n",
      "  Downloading kagglehub-0.3.5-py3-none-any.whl.metadata (22 kB)\n",
      "Requirement already satisfied: packaging in c:\\users\\aayush\\appdata\\local\\programs\\python\\python312\\lib\\site-packages (from kagglehub) (24.1)\n",
      "Requirement already satisfied: requests in c:\\users\\aayush\\appdata\\local\\programs\\python\\python312\\lib\\site-packages (from kagglehub) (2.32.3)\n",
      "Collecting tqdm (from kagglehub)\n",
      "  Downloading tqdm-4.67.1-py3-none-any.whl.metadata (57 kB)\n",
      "Requirement already satisfied: charset-normalizer<4,>=2 in c:\\users\\aayush\\appdata\\local\\programs\\python\\python312\\lib\\site-packages (from requests->kagglehub) (3.3.2)\n",
      "Requirement already satisfied: idna<4,>=2.5 in c:\\users\\aayush\\appdata\\local\\programs\\python\\python312\\lib\\site-packages (from requests->kagglehub) (3.7)\n",
      "Requirement already satisfied: urllib3<3,>=1.21.1 in c:\\users\\aayush\\appdata\\local\\programs\\python\\python312\\lib\\site-packages (from requests->kagglehub) (2.2.2)\n",
      "Requirement already satisfied: certifi>=2017.4.17 in c:\\users\\aayush\\appdata\\local\\programs\\python\\python312\\lib\\site-packages (from requests->kagglehub) (2024.7.4)\n",
      "Requirement already satisfied: colorama in c:\\users\\aayush\\appdata\\local\\programs\\python\\python312\\lib\\site-packages (from tqdm->kagglehub) (0.4.6)\n",
      "Downloading kagglehub-0.3.5-py3-none-any.whl (44 kB)\n",
      "Downloading tqdm-4.67.1-py3-none-any.whl (78 kB)\n",
      "Installing collected packages: tqdm, kagglehub\n",
      "Successfully installed kagglehub-0.3.5 tqdm-4.67.1\n",
      "Note: you may need to restart the kernel to use updated packages.\n"
     ]
    },
    {
     "name": "stderr",
     "output_type": "stream",
     "text": [
      "\n",
      "[notice] A new release of pip is available: 24.2 -> 24.3.1\n",
      "[notice] To update, run: python.exe -m pip install --upgrade pip\n"
     ]
    }
   ],
   "source": [
    "pip install kagglehub"
   ]
  },
  {
   "cell_type": "code",
   "execution_count": 2,
   "id": "4d24a0b1-a661-41a2-8d54-451b17291f64",
   "metadata": {},
   "outputs": [
    {
     "name": "stderr",
     "output_type": "stream",
     "text": [
      "C:\\Users\\AAYUSH\\AppData\\Local\\Programs\\Python\\Python312\\Lib\\site-packages\\tqdm\\auto.py:21: TqdmWarning: IProgress not found. Please update jupyter and ipywidgets. See https://ipywidgets.readthedocs.io/en/stable/user_install.html\n",
      "  from .autonotebook import tqdm as notebook_tqdm\n"
     ]
    },
    {
     "name": "stdout",
     "output_type": "stream",
     "text": [
      "Downloading from https://www.kaggle.com/api/v1/datasets/download/mkechinov/ecommerce-behavior-data-from-multi-category-store?dataset_version_number=8...\n"
     ]
    },
    {
     "name": "stderr",
     "output_type": "stream",
     "text": [
      "100%|█████████████████████████████████████████████████████████████████████████████| 4.29G/4.29G [07:18<00:00, 10.5MB/s]"
     ]
    },
    {
     "name": "stdout",
     "output_type": "stream",
     "text": [
      "Extracting files...\n"
     ]
    },
    {
     "name": "stderr",
     "output_type": "stream",
     "text": [
      "\n"
     ]
    },
    {
     "name": "stdout",
     "output_type": "stream",
     "text": [
      "Path to dataset files: C:\\Users\\AAYUSH\\.cache\\kagglehub\\datasets\\mkechinov\\ecommerce-behavior-data-from-multi-category-store\\versions\\8\n"
     ]
    }
   ],
   "source": [
    "import kagglehub\n",
    "\n",
    "# Download latest version\n",
    "path = kagglehub.dataset_download(\"mkechinov/ecommerce-behavior-data-from-multi-category-store\")\n",
    "\n",
    "print(\"Path to dataset files:\", path)"
   ]
  },
  {
   "cell_type": "code",
   "execution_count": null,
   "id": "be8e585a-237f-4922-b8eb-a0a293a9fd21",
   "metadata": {},
   "outputs": [],
   "source": []
  }
 ],
 "metadata": {
  "kernelspec": {
   "display_name": "Python 3 (ipykernel)",
   "language": "python",
   "name": "python3"
  },
  "language_info": {
   "codemirror_mode": {
    "name": "ipython",
    "version": 3
   },
   "file_extension": ".py",
   "mimetype": "text/x-python",
   "name": "python",
   "nbconvert_exporter": "python",
   "pygments_lexer": "ipython3",
   "version": "3.12.5"
  }
 },
 "nbformat": 4,
 "nbformat_minor": 5
}
