{
 "cells": [
  {
   "cell_type": "code",
   "execution_count": null,
   "id": "070eb9f3-364c-414d-9d56-5ed8b113c5e4",
   "metadata": {},
   "outputs": [],
   "source": []
  },
  {
   "cell_type": "markdown",
   "id": "88e3a804-ec9e-478f-b7b0-0174f97d1829",
   "metadata": {},
   "source": [
    "# Bagging and Boosting-"
   ]
  },
  {
   "cell_type": "markdown",
   "id": "9493823b-869a-46ad-86e1-7ca6dfcc183c",
   "metadata": {},
   "source": [
    "Bagging- Decision trees are run in parallel order where multiple decision trees are run parallely.<br>\n",
    "ex- Random Forest\n",
    "\n",
    "Boosting - \n",
    "- It is a technique to improve the performance of the model where in each model learns from the errors made by the previous model in the sequence.\n",
    "- Each subsequent model would be an improved version of the previous one.\n",
    "- Decision trees are run in series order where in at each step the decision tree formed improves in performance.<br>\n",
    "\n",
    "ex- GradientBoost, XGBoost"
   ]
  },
  {
   "cell_type": "code",
   "execution_count": null,
   "id": "f25bf0c3-1639-4d6f-9544-f78ee1046629",
   "metadata": {},
   "outputs": [],
   "source": []
  },
  {
   "cell_type": "code",
   "execution_count": null,
   "id": "d099ede2-868d-4a55-9f29-e75af3a48683",
   "metadata": {},
   "outputs": [],
   "source": []
  },
  {
   "cell_type": "code",
   "execution_count": 2,
   "id": "0a25be1c-151a-4615-ae6b-7053fb116baf",
   "metadata": {},
   "outputs": [],
   "source": [
    "import numpy as np\n",
    "import pandas as pd\n",
    "\n",
    "import pandas as pd\n",
    "\n",
    "from statsmodels.discrete import discrete_model\n",
    "import statsmodels.formula.api as smf\n",
    "from statsmodels.discrete.discrete_model import Poisson as psn,NegativeBinomial as ngb,MNLogit\n",
    "\n",
    "\n",
    "import numpy as np\n",
    "import pandas as pd\n",
    "import matplotlib.pyplot as plt\n",
    "import seaborn as sns\n",
    "\n",
    "from numpy import random\n",
    "\n",
    "import scipy\n",
    "from scipy import stats\n",
    "from scipy.stats import binom,poisson,norm,t\n",
    "\n",
    "import pylab\n",
    "from pylab import legend, plot, show ,title, xlabel, ylabel\n",
    "\n",
    "import statsmodels\n",
    "from statsmodels import stats\n",
    "from statsmodels.stats import weightstats as ssw\n",
    "\n",
    "import statsmodels.api as sm\n",
    "from statsmodels.formula.api import ols\n",
    "import statsmodels.stats.multicomp\n",
    "\n",
    "from statsmodels.stats.outliers_influence import variance_inflation_factor\n",
    "\n",
    "from statsmodels.stats import proportion as ssp\n",
    "\n",
    "from scipy.stats import chisquare, chi2_contingency\n",
    "\n",
    "from sklearn.model_selection import train_test_split\n",
    "\n",
    "from sklearn.metrics import confusion_matrix,classification_report\n",
    "\n",
    "from statsmodels import discrete\n",
    "from statsmodels.discrete import discrete_model\n",
    "from statsmodels.discrete.discrete_model import MNLogit\n",
    "\n",
    "from statsmodels.miscmodels.ordinal_model import OrderedModel\n",
    "\n",
    "from sklearn.preprocessing import MinMaxScaler,StandardScaler\n",
    "\n",
    "from sklearn.feature_selection import mutual_info_classif,SelectKBest\n",
    "\n",
    "from sklearn.ensemble import ExtraTreesClassifier\n",
    "\n",
    "from sklearn.feature_selection import SequentialFeatureSelector\n",
    "\n",
    "from sklearn.linear_model import LinearRegression\n",
    "\n",
    "from sklearn.tree import DecisionTreeClassifier\n",
    "\n",
    "from sklearn.model_selection import GridSearchCV\n",
    "\n",
    "from sklearn.ensemble import RandomForestClassifier"
   ]
  },
  {
   "cell_type": "code",
   "execution_count": 5,
   "id": "e3959144-bb61-489c-af16-0b969c9930a5",
   "metadata": {},
   "outputs": [],
   "source": [
    "df=pd.read_csv('Titanic.csv')\n",
    "df.head()\n",
    "\n",
    "df=df.drop(['PassengerId','Name','Ticket','Cabin'],axis=1)\n",
    "df.Age=df.Age.fillna(df.Age.median())\n",
    "df.Embarked=df.Embarked.fillna('S')"
   ]
  },
  {
   "cell_type": "code",
   "execution_count": 6,
   "id": "a271374b-92c9-44b0-a58f-d8090fac65b3",
   "metadata": {},
   "outputs": [],
   "source": [
    "pclass_dum=pd.get_dummies(df.Pclass,drop_first=True,prefix='Pclass',dtype=int)\n",
    "sex_dum=pd.get_dummies(df.Sex,drop_first=True,prefix='Sex',dtype=int)\n",
    "sibsp_dum=pd.get_dummies(df.SibSp,drop_first=True,prefix='Sibsp',dtype=int)\n",
    "parch_dum=pd.get_dummies(df.Parch,drop_first=True,prefix='Parch',dtype=int)\n",
    "emb_dum=pd.get_dummies(df.Embarked,drop_first=True,prefix='Embarked',dtype=int)\n",
    "\n",
    "df=df.drop(['Pclass','Sex','SibSp','Parch','Embarked'],axis=1)\n",
    "\n",
    "df=pd.concat([df,pclass_dum,sex_dum,sibsp_dum,parch_dum,emb_dum],axis=1)\n",
    "\n",
    "x=df.drop('Survived',axis=1)\n",
    "y=df.Survived"
   ]
  },
  {
   "cell_type": "code",
   "execution_count": 7,
   "id": "bdc16b46-56d0-4f41-b334-2d82d16b33dc",
   "metadata": {},
   "outputs": [],
   "source": [
    "x_train,x_test,y_train,y_test=train_test_split(x,y,test_size=0.2,random_state=20) #randomisation is needed, for now we set the random state to 20 just for learning purposes"
   ]
  },
  {
   "cell_type": "code",
   "execution_count": null,
   "id": "a8c2b1b4-5853-47ae-b327-e2ca55438c4d",
   "metadata": {},
   "outputs": [],
   "source": []
  },
  {
   "cell_type": "code",
   "execution_count": 16,
   "id": "d70e0968-6119-405e-8284-ad08baabbd21",
   "metadata": {},
   "outputs": [
    {
     "name": "stdout",
     "output_type": "stream",
     "text": [
      "[[100  12]\n",
      " [ 26  41]]\n"
     ]
    }
   ],
   "source": [
    "mod2=RandomForestClassifier(n_estimators=10)\n",
    "mod2.fit(x_train,y_train)\n",
    "y_pred=mod2.predict(x_test)\n",
    "print(confusion_matrix(y_test,y_pred))"
   ]
  },
  {
   "cell_type": "code",
   "execution_count": 17,
   "id": "53c10546-babd-45f1-b7fc-2fceb88b3275",
   "metadata": {},
   "outputs": [
    {
     "name": "stdout",
     "output_type": "stream",
     "text": [
      "0.9648876404494382\n",
      "0.7877094972067039\n"
     ]
    }
   ],
   "source": [
    "print(mod2.score(x_train,y_train))\n",
    "print(mod2.score(x_test,y_test))\n"
   ]
  },
  {
   "cell_type": "code",
   "execution_count": null,
   "id": "d6a2864b-e9f3-4aac-8860-ae26d3237601",
   "metadata": {},
   "outputs": [],
   "source": []
  },
  {
   "cell_type": "code",
   "execution_count": null,
   "id": "29b4823c-de8d-44df-a947-f393845f40e1",
   "metadata": {},
   "outputs": [],
   "source": []
  },
  {
   "attachments": {
    "d2a8e39c-fb49-4c43-9f2c-095e22ddf0d6.png": {
     "image/png": "[encoded data removed]"
    }
   },
   "cell_type": "markdown",
   "id": "c0ee181a-b66b-4716-8e17-7a154b4f3faa",
   "metadata": {},
   "source": [
    "![image.png](attachment:d2a8e39c-fb49-4c43-9f2c-095e22ddf0d6.png)"
   ]
  },
  {
   "cell_type": "markdown",
   "id": "4a5ebad7-1630-48c2-9816-f236179059cb",
   "metadata": {},
   "source": [
    "if x and y are independent the P(X intersection Y)=P(X)*P(Y)"
   ]
  },
  {
   "cell_type": "code",
   "execution_count": null,
   "id": "20aae5ab-1657-43ac-a02c-dbdad0928f9e",
   "metadata": {},
   "outputs": [],
   "source": []
  }
 ],
 "metadata": {
  "kernelspec": {
   "display_name": "Python 3 (ipykernel)",
   "language": "python",
   "name": "python3"
  },
  "language_info": {
   "codemirror_mode": {
    "name": "ipython",
    "version": 3
   },
   "file_extension": ".py",
   "mimetype": "text/x-python",
   "name": "python",
   "nbconvert_exporter": "python",
   "pygments_lexer": "ipython3",
   "version": "3.12.7"
  }
 },
 "nbformat": 4,
 "nbformat_minor": 5
}
