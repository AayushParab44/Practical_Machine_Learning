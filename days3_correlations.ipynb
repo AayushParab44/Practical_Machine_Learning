{
 "cells": [
  {
   "cell_type": "code",
   "execution_count": 49,
   "id": "8bc3446a-4c4c-4fd1-a5d1-6e679cd69f2d",
   "metadata": {},
   "outputs": [],
   "source": [
    "import numpy as np\n",
    "import pandas as pd\n",
    "import matplotlib.pyplot as plt\n",
    "import seaborn as sns\n",
    "\n",
    "from numpy import random\n",
    "\n",
    "import scipy\n",
    "from scipy import stats\n",
    "from scipy.stats import binom,poisson,norm,t\n",
    "\n",
    "import pylab\n",
    "from pylab import legend, plot, show ,title, xlabel, ylabel\n",
    "\n",
    "import statsmodels\n",
    "from statsmodels import stats\n",
    "from statsmodels.stats import weightstats as ssw\n",
    "\n",
    "import statsmodels.api as sm\n",
    "from statsmodels.formula.api import ols\n",
    "import statsmodels.stats.multicomp\n",
    "\n",
    "from statsmodels.stats import proportion as ssp\n",
    "\n",
    "from scipy.stats import chisquare, chi2_contingency"
   ]
  },
  {
   "cell_type": "code",
   "execution_count": 50,
   "id": "8e16f8c7-e0ad-472a-bf4a-7eda64bed5d7",
   "metadata": {},
   "outputs": [],
   "source": [
    "df=pd.read_excel('CDAC_DataBook.xlsx',sheet_name='stackloss')\n"
   ]
  },
  {
   "cell_type": "code",
   "execution_count": 51,
   "id": "a09ae226-98b7-4048-b2de-5d053cc4c1a0",
   "metadata": {},
   "outputs": [
    {
     "data": {
      "text/html": [
       "<div>\n",
       "<style scoped>\n",
       "    .dataframe tbody tr th:only-of-type {\n",
       "        vertical-align: middle;\n",
       "    }\n",
       "\n",
       "    .dataframe tbody tr th {\n",
       "        vertical-align: top;\n",
       "    }\n",
       "\n",
       "    .dataframe thead th {\n",
       "        text-align: right;\n",
       "    }\n",
       "</style>\n",
       "<table border=\"1\" class=\"dataframe\">\n",
       "  <thead>\n",
       "    <tr style=\"text-align: right;\">\n",
       "      <th></th>\n",
       "      <th>AirFlow</th>\n",
       "      <th>WaterTemp</th>\n",
       "      <th>AcidConc</th>\n",
       "      <th>StackLoss</th>\n",
       "    </tr>\n",
       "  </thead>\n",
       "  <tbody>\n",
       "    <tr>\n",
       "      <th>0</th>\n",
       "      <td>80</td>\n",
       "      <td>27</td>\n",
       "      <td>89</td>\n",
       "      <td>42</td>\n",
       "    </tr>\n",
       "    <tr>\n",
       "      <th>1</th>\n",
       "      <td>80</td>\n",
       "      <td>27</td>\n",
       "      <td>88</td>\n",
       "      <td>37</td>\n",
       "    </tr>\n",
       "    <tr>\n",
       "      <th>2</th>\n",
       "      <td>75</td>\n",
       "      <td>25</td>\n",
       "      <td>90</td>\n",
       "      <td>37</td>\n",
       "    </tr>\n",
       "    <tr>\n",
       "      <th>3</th>\n",
       "      <td>62</td>\n",
       "      <td>24</td>\n",
       "      <td>87</td>\n",
       "      <td>28</td>\n",
       "    </tr>\n",
       "    <tr>\n",
       "      <th>4</th>\n",
       "      <td>62</td>\n",
       "      <td>22</td>\n",
       "      <td>87</td>\n",
       "      <td>18</td>\n",
       "    </tr>\n",
       "  </tbody>\n",
       "</table>\n",
       "</div>"
      ],
      "text/plain": [
       "   AirFlow  WaterTemp  AcidConc  StackLoss\n",
       "0       80         27        89         42\n",
       "1       80         27        88         37\n",
       "2       75         25        90         37\n",
       "3       62         24        87         28\n",
       "4       62         22        87         18"
      ]
     },
     "execution_count": 51,
     "metadata": {},
     "output_type": "execute_result"
    }
   ],
   "source": [
    "df.head()"
   ]
  },
  {
   "cell_type": "code",
   "execution_count": 52,
   "id": "4fef19cd-c255-4c0d-abde-a2b33a72c95f",
   "metadata": {},
   "outputs": [
    {
     "data": {
      "text/html": [
       "<div>\n",
       "<style scoped>\n",
       "    .dataframe tbody tr th:only-of-type {\n",
       "        vertical-align: middle;\n",
       "    }\n",
       "\n",
       "    .dataframe tbody tr th {\n",
       "        vertical-align: top;\n",
       "    }\n",
       "\n",
       "    .dataframe thead th {\n",
       "        text-align: right;\n",
       "    }\n",
       "</style>\n",
       "<table border=\"1\" class=\"dataframe\">\n",
       "  <thead>\n",
       "    <tr style=\"text-align: right;\">\n",
       "      <th></th>\n",
       "      <th>AirFlow</th>\n",
       "      <th>WaterTemp</th>\n",
       "      <th>AcidConc</th>\n",
       "      <th>StackLoss</th>\n",
       "    </tr>\n",
       "  </thead>\n",
       "  <tbody>\n",
       "    <tr>\n",
       "      <th>AirFlow</th>\n",
       "      <td>1.000000</td>\n",
       "      <td>0.781852</td>\n",
       "      <td>0.500143</td>\n",
       "      <td>0.919663</td>\n",
       "    </tr>\n",
       "    <tr>\n",
       "      <th>WaterTemp</th>\n",
       "      <td>0.781852</td>\n",
       "      <td>1.000000</td>\n",
       "      <td>0.390940</td>\n",
       "      <td>0.875504</td>\n",
       "    </tr>\n",
       "    <tr>\n",
       "      <th>AcidConc</th>\n",
       "      <td>0.500143</td>\n",
       "      <td>0.390940</td>\n",
       "      <td>1.000000</td>\n",
       "      <td>0.399830</td>\n",
       "    </tr>\n",
       "    <tr>\n",
       "      <th>StackLoss</th>\n",
       "      <td>0.919663</td>\n",
       "      <td>0.875504</td>\n",
       "      <td>0.399830</td>\n",
       "      <td>1.000000</td>\n",
       "    </tr>\n",
       "  </tbody>\n",
       "</table>\n",
       "</div>"
      ],
      "text/plain": [
       "            AirFlow  WaterTemp  AcidConc  StackLoss\n",
       "AirFlow    1.000000   0.781852  0.500143   0.919663\n",
       "WaterTemp  0.781852   1.000000  0.390940   0.875504\n",
       "AcidConc   0.500143   0.390940  1.000000   0.399830\n",
       "StackLoss  0.919663   0.875504  0.399830   1.000000"
      ]
     },
     "execution_count": 52,
     "metadata": {},
     "output_type": "execute_result"
    }
   ],
   "source": [
    "df.corr()"
   ]
  },
  {
   "cell_type": "code",
   "execution_count": 53,
   "id": "56acacfa-cff7-44fe-b5dd-095e378f2c29",
   "metadata": {},
   "outputs": [
    {
     "data": {
      "text/plain": [
       "array([[84.05714286, 22.65714286],\n",
       "       [22.65714286,  9.99047619]])"
      ]
     },
     "execution_count": 53,
     "metadata": {},
     "output_type": "execute_result"
    }
   ],
   "source": [
    "np.cov(df.AirFlow,df.WaterTemp)   "
   ]
  },
  {
   "cell_type": "markdown",
   "id": "ab942c2a-276e-441f-b4b7-38b8eb091852",
   "metadata": {},
   "source": [
    "[[airflow with airflow,airflow with watertemp], <br>\n",
    "[watertemp with airflow, watertemp with watertemp]]   - covarience"
   ]
  },
  {
   "cell_type": "code",
   "execution_count": 54,
   "id": "cf5118c7-8158-493b-bfbc-9d85f2f5f8c6",
   "metadata": {},
   "outputs": [
    {
     "data": {
      "text/plain": [
       "np.float64(80.05442176870748)"
      ]
     },
     "execution_count": 54,
     "metadata": {},
     "output_type": "execute_result"
    }
   ],
   "source": [
    "np.var(df.AirFlow)"
   ]
  },
  {
   "cell_type": "markdown",
   "id": "6b94aaa7-6896-4aa3-8aa5-50a7d807a0b1",
   "metadata": {},
   "source": [
    "variance(var) will be approxiamtely equal to covarience (var) with itself\n",
    "covarience tells if the correlation is positive or negative."
   ]
  },
  {
   "cell_type": "code",
   "execution_count": 55,
   "id": "4c15b124-1b09-4e16-b2de-e23f655457ab",
   "metadata": {},
   "outputs": [
    {
     "data": {
      "text/plain": [
       "np.float64(80.05442176870748)"
      ]
     },
     "execution_count": 55,
     "metadata": {},
     "output_type": "execute_result"
    }
   ],
   "source": [
    "np.var(df.AirFlow)"
   ]
  },
  {
   "cell_type": "code",
   "execution_count": 56,
   "id": "fd586aa4-fdd5-485f-bb91-1e61fa2b3fbe",
   "metadata": {},
   "outputs": [
    {
     "data": {
      "text/plain": [
       "np.float64(9.514739229024945)"
      ]
     },
     "execution_count": 56,
     "metadata": {},
     "output_type": "execute_result"
    }
   ],
   "source": [
    "np.var(df.WaterTemp)"
   ]
  },
  {
   "cell_type": "code",
   "execution_count": 57,
   "id": "d49038e6-e58f-481b-aac8-58ceceff9211",
   "metadata": {},
   "outputs": [
    {
     "data": {
      "text/plain": [
       "array([[1.        , 0.78185233],\n",
       "       [0.78185233, 1.        ]])"
      ]
     },
     "execution_count": 57,
     "metadata": {},
     "output_type": "execute_result"
    }
   ],
   "source": [
    "np.corrcoef(df.AirFlow,df.WaterTemp)"
   ]
  },
  {
   "cell_type": "code",
   "execution_count": null,
   "id": "99430b41-48f9-4bac-bea7-3a53d9262f68",
   "metadata": {},
   "outputs": [],
   "source": []
  },
  {
   "cell_type": "code",
   "execution_count": 58,
   "id": "65cbaff4-300d-4b28-a0ff-57ad0e266707",
   "metadata": {},
   "outputs": [
    {
     "data": {
      "text/plain": [
       "<matplotlib.collections.PathCollection at 0x25c706e38f0>"
      ]
     },
     "execution_count": 58,
     "metadata": {},
     "output_type": "execute_result"
    },
    {
     "data": {
      "image/png": "[encoded data removed]",
      "text/plain": [
       "<Figure size 640x480 with 1 Axes>"
      ]
     },
     "metadata": {},
     "output_type": "display_data"
    }
   ],
   "source": [
    "plt.scatter(df.AcidConc,df.WaterTemp)\n"
   ]
  },
  {
   "cell_type": "code",
   "execution_count": null,
   "id": "39ba36b9-041f-41a0-9095-38c4c97625d6",
   "metadata": {},
   "outputs": [],
   "source": []
  },
  {
   "cell_type": "code",
   "execution_count": null,
   "id": "87d6a14d-a787-4558-a26a-3e0e79ee0ed7",
   "metadata": {},
   "outputs": [],
   "source": []
  },
  {
   "cell_type": "code",
   "execution_count": 59,
   "id": "37681f51-68ae-44dc-aa71-3e583f1a45d5",
   "metadata": {},
   "outputs": [],
   "source": [
    "df=pd.read_excel('CDAC_DataBook.xlsx',sheet_name='faithful')"
   ]
  },
  {
   "cell_type": "code",
   "execution_count": 72,
   "id": "69670dcd-f815-4fb7-aa4e-a42c90f81819",
   "metadata": {},
   "outputs": [
    {
     "data": {
      "text/html": [
       "<div>\n",
       "<style scoped>\n",
       "    .dataframe tbody tr th:only-of-type {\n",
       "        vertical-align: middle;\n",
       "    }\n",
       "\n",
       "    .dataframe tbody tr th {\n",
       "        vertical-align: top;\n",
       "    }\n",
       "\n",
       "    .dataframe thead th {\n",
       "        text-align: right;\n",
       "    }\n",
       "</style>\n",
       "<table border=\"1\" class=\"dataframe\">\n",
       "  <thead>\n",
       "    <tr style=\"text-align: right;\">\n",
       "      <th></th>\n",
       "      <th>eruptions</th>\n",
       "      <th>waiting</th>\n",
       "    </tr>\n",
       "  </thead>\n",
       "  <tbody>\n",
       "    <tr>\n",
       "      <th>0</th>\n",
       "      <td>3.600</td>\n",
       "      <td>79</td>\n",
       "    </tr>\n",
       "    <tr>\n",
       "      <th>1</th>\n",
       "      <td>1.800</td>\n",
       "      <td>54</td>\n",
       "    </tr>\n",
       "    <tr>\n",
       "      <th>2</th>\n",
       "      <td>3.333</td>\n",
       "      <td>74</td>\n",
       "    </tr>\n",
       "    <tr>\n",
       "      <th>3</th>\n",
       "      <td>2.283</td>\n",
       "      <td>62</td>\n",
       "    </tr>\n",
       "    <tr>\n",
       "      <th>4</th>\n",
       "      <td>4.533</td>\n",
       "      <td>85</td>\n",
       "    </tr>\n",
       "  </tbody>\n",
       "</table>\n",
       "</div>"
      ],
      "text/plain": [
       "   eruptions  waiting\n",
       "0      3.600       79\n",
       "1      1.800       54\n",
       "2      3.333       74\n",
       "3      2.283       62\n",
       "4      4.533       85"
      ]
     },
     "execution_count": 72,
     "metadata": {},
     "output_type": "execute_result"
    }
   ],
   "source": [
    "df.head()\n",
    "# np.min(df.waiting)"
   ]
  },
  {
   "cell_type": "code",
   "execution_count": 79,
   "id": "2bf86723-a031-4f67-9450-5827f2063570",
   "metadata": {},
   "outputs": [
    {
     "data": {
      "text/plain": [
       "(-10.0, 20.0)"
      ]
     },
     "execution_count": 79,
     "metadata": {},
     "output_type": "execute_result"
    },
    {
     "data": {
      "image/png": "[encoded data removed]",
      "text/plain": [
       "<Figure size 640x480 with 1 Axes>"
      ]
     },
     "metadata": {},
     "output_type": "display_data"
    }
   ],
   "source": [
    "plt.scatter(df.waiting,df.eruptions)\n",
    "plt.xlim([0,100])\n",
    "plt.ylim([-10,20])"
   ]
  },
  {
   "cell_type": "markdown",
   "id": "4b81fd2d-43bb-4ac6-9e24-7170a4663487",
   "metadata": {},
   "source": [
    "## correlation coefficient only tells about linear relation between x and y.\n"
   ]
  },
  {
   "cell_type": "code",
   "execution_count": 20,
   "id": "567a4497-1f76-456c-a8ee-0e3da6536063",
   "metadata": {},
   "outputs": [
    {
     "data": {
      "text/plain": [
       "array([[1.        , 0.90081117],\n",
       "       [0.90081117, 1.        ]])"
      ]
     },
     "execution_count": 20,
     "metadata": {},
     "output_type": "execute_result"
    }
   ],
   "source": [
    "np.corrcoef(df.waiting,df.eruptions)"
   ]
  },
  {
   "cell_type": "code",
   "execution_count": null,
   "id": "3f893b12-0318-4f95-8e4b-3910b8339387",
   "metadata": {},
   "outputs": [],
   "source": []
  },
  {
   "cell_type": "markdown",
   "id": "88a05916-ee6d-42a6-a23c-cd1604e7f23b",
   "metadata": {},
   "source": [
    "# Occam's Razor-\n",
    "- is a principle that likes simplicity. It says that the simplest solution is usually the best one."
   ]
  },
  {
   "cell_type": "code",
   "execution_count": null,
   "id": "f21b363c-f6a1-44bf-875f-e588d3b83bad",
   "metadata": {},
   "outputs": [],
   "source": []
  },
  {
   "cell_type": "code",
   "execution_count": 23,
   "id": "87bbc736-f295-4143-8338-1e3f3499bf68",
   "metadata": {},
   "outputs": [],
   "source": [
    "df=pd.read_excel('CDAC_DataBook.xlsx',sheet_name='faithful')"
   ]
  },
  {
   "cell_type": "code",
   "execution_count": null,
   "id": "91b640a9-328f-49be-8466-4996cc287f23",
   "metadata": {},
   "outputs": [],
   "source": [
    "x_train=df.waiting\n",
    "y_train=df.eruptions"
   ]
  },
  {
   "cell_type": "code",
   "execution_count": 28,
   "id": "ab3171b6-dab4-4f4e-82ee-21b9002ea85a",
   "metadata": {},
   "outputs": [
    {
     "data": {
      "text/plain": [
       "0      79\n",
       "1      54\n",
       "2      74\n",
       "3      62\n",
       "4      85\n",
       "       ..\n",
       "267    81\n",
       "268    46\n",
       "269    90\n",
       "270    46\n",
       "271    74\n",
       "Name: waiting, Length: 272, dtype: int64"
      ]
     },
     "execution_count": 28,
     "metadata": {},
     "output_type": "execute_result"
    }
   ],
   "source": [
    "x_train"
   ]
  },
  {
   "cell_type": "code",
   "execution_count": 29,
   "id": "3ed4eb1c-92c3-4086-b29b-20188c9b7df6",
   "metadata": {},
   "outputs": [],
   "source": [
    "x_train=sm.add_constant(x_train,prepend=False)"
   ]
  },
  {
   "cell_type": "code",
   "execution_count": 31,
   "id": "264abc0b-561e-4e1c-a5a4-31ef964ce7e1",
   "metadata": {},
   "outputs": [
    {
     "data": {
      "text/html": [
       "<div>\n",
       "<style scoped>\n",
       "    .dataframe tbody tr th:only-of-type {\n",
       "        vertical-align: middle;\n",
       "    }\n",
       "\n",
       "    .dataframe tbody tr th {\n",
       "        vertical-align: top;\n",
       "    }\n",
       "\n",
       "    .dataframe thead th {\n",
       "        text-align: right;\n",
       "    }\n",
       "</style>\n",
       "<table border=\"1\" class=\"dataframe\">\n",
       "  <thead>\n",
       "    <tr style=\"text-align: right;\">\n",
       "      <th></th>\n",
       "      <th>waiting</th>\n",
       "      <th>const</th>\n",
       "    </tr>\n",
       "  </thead>\n",
       "  <tbody>\n",
       "    <tr>\n",
       "      <th>0</th>\n",
       "      <td>79</td>\n",
       "      <td>1.0</td>\n",
       "    </tr>\n",
       "    <tr>\n",
       "      <th>1</th>\n",
       "      <td>54</td>\n",
       "      <td>1.0</td>\n",
       "    </tr>\n",
       "    <tr>\n",
       "      <th>2</th>\n",
       "      <td>74</td>\n",
       "      <td>1.0</td>\n",
       "    </tr>\n",
       "    <tr>\n",
       "      <th>3</th>\n",
       "      <td>62</td>\n",
       "      <td>1.0</td>\n",
       "    </tr>\n",
       "    <tr>\n",
       "      <th>4</th>\n",
       "      <td>85</td>\n",
       "      <td>1.0</td>\n",
       "    </tr>\n",
       "    <tr>\n",
       "      <th>...</th>\n",
       "      <td>...</td>\n",
       "      <td>...</td>\n",
       "    </tr>\n",
       "    <tr>\n",
       "      <th>267</th>\n",
       "      <td>81</td>\n",
       "      <td>1.0</td>\n",
       "    </tr>\n",
       "    <tr>\n",
       "      <th>268</th>\n",
       "      <td>46</td>\n",
       "      <td>1.0</td>\n",
       "    </tr>\n",
       "    <tr>\n",
       "      <th>269</th>\n",
       "      <td>90</td>\n",
       "      <td>1.0</td>\n",
       "    </tr>\n",
       "    <tr>\n",
       "      <th>270</th>\n",
       "      <td>46</td>\n",
       "      <td>1.0</td>\n",
       "    </tr>\n",
       "    <tr>\n",
       "      <th>271</th>\n",
       "      <td>74</td>\n",
       "      <td>1.0</td>\n",
       "    </tr>\n",
       "  </tbody>\n",
       "</table>\n",
       "<p>272 rows × 2 columns</p>\n",
       "</div>"
      ],
      "text/plain": [
       "     waiting  const\n",
       "0         79    1.0\n",
       "1         54    1.0\n",
       "2         74    1.0\n",
       "3         62    1.0\n",
       "4         85    1.0\n",
       "..       ...    ...\n",
       "267       81    1.0\n",
       "268       46    1.0\n",
       "269       90    1.0\n",
       "270       46    1.0\n",
       "271       74    1.0\n",
       "\n",
       "[272 rows x 2 columns]"
      ]
     },
     "execution_count": 31,
     "metadata": {},
     "output_type": "execute_result"
    }
   ],
   "source": [
    "x_train"
   ]
  },
  {
   "cell_type": "code",
   "execution_count": null,
   "id": "98756088-79f4-4b8f-aa51-a054a15c2c80",
   "metadata": {},
   "outputs": [],
   "source": []
  },
  {
   "cell_type": "code",
   "execution_count": null,
   "id": "3f972bdc-34f0-4d95-ba5c-c911d0d99315",
   "metadata": {},
   "outputs": [],
   "source": []
  },
  {
   "cell_type": "code",
   "execution_count": 32,
   "id": "eb9d2c72-c714-4970-8d25-3ec8d54bf3b5",
   "metadata": {},
   "outputs": [],
   "source": [
    "mod1=sm.OLS(y_train,x_train).fit() #Ordinary Least squared"
   ]
  },
  {
   "cell_type": "code",
   "execution_count": 47,
   "id": "84ea469b-2f6f-4c05-9e79-643484535335",
   "metadata": {},
   "outputs": [
    {
     "name": "stdout",
     "output_type": "stream",
     "text": [
      "                            OLS Regression Results                            \n",
      "==============================================================================\n",
      "Dep. Variable:              eruptions   R-squared:                       0.811\n",
      "Model:                            OLS   Adj. R-squared:                  0.811\n",
      "Method:                 Least Squares   F-statistic:                     1162.\n",
      "Date:                Tue, 17 Dec 2024   Prob (F-statistic):          8.13e-100\n",
      "Time:                        12:54:15   Log-Likelihood:                -194.51\n",
      "No. Observations:                 272   AIC:                             393.0\n",
      "Df Residuals:                     270   BIC:                             400.2\n",
      "Df Model:                           1                                         \n",
      "Covariance Type:            nonrobust                                         \n",
      "==============================================================================\n",
      "                 coef    std err          t      P>|t|      [0.025      0.975]\n",
      "------------------------------------------------------------------------------\n",
      "waiting        0.0756      0.002     34.089      0.000       0.071       0.080\n",
      "const         -1.8740      0.160    -11.702      0.000      -2.189      -1.559\n",
      "==============================================================================\n",
      "Omnibus:                        4.133   Durbin-Watson:                   2.561\n",
      "Prob(Omnibus):                  0.127   Jarque-Bera (JB):                3.173\n",
      "Skew:                          -0.138   Prob(JB):                        0.205\n",
      "Kurtosis:                       2.548   Cond. No.                         384.\n",
      "==============================================================================\n",
      "\n",
      "Notes:\n",
      "[1] Standard Errors assume that the covariance matrix of the errors is correctly specified.\n"
     ]
    }
   ],
   "source": [
    "print(mod1.summary())"
   ]
  },
  {
   "cell_type": "markdown",
   "id": "3dafe14f-3686-4120-8260-27c8997fcbb3",
   "metadata": {},
   "source": [
    "m=waiting        0.0756<br>\n",
    "c=const         -1.8740  "
   ]
  },
  {
   "cell_type": "markdown",
   "id": "1bb973f0-3a7c-4682-aed5-e81ee8169f7a",
   "metadata": {},
   "source": [
    "Null hypothesis is that model is useless<br>\n",
    "p-value = (0.9*(10**-8) <0.05<br>\n",
    "Hence model is useful"
   ]
  },
  {
   "cell_type": "code",
   "execution_count": null,
   "id": "ce182139-4f95-49e7-908c-f0c3733e95d8",
   "metadata": {},
   "outputs": [],
   "source": []
  },
  {
   "cell_type": "markdown",
   "id": "9341a3ff-48cb-4d51-946c-3b1c9ffaef9e",
   "metadata": {},
   "source": [
    "R -> coefficient of determination\n",
    "In case of **simple linear regression** -> R(coefficient of determination) is squared of correlation coefficient"
   ]
  },
  {
   "cell_type": "code",
   "execution_count": null,
   "id": "4679e4a9-31f1-4ab0-a5ec-60dd47202f6d",
   "metadata": {},
   "outputs": [],
   "source": []
  },
  {
   "cell_type": "markdown",
   "id": "8f6af8a4-9f6f-436c-9c7b-df6bcc722c29",
   "metadata": {},
   "source": [
    "It means that 81.1% of the total variation is explained by the model."
   ]
  },
  {
   "cell_type": "markdown",
   "id": "342a5605-ec65-4af4-90a3-58b08fe0f41d",
   "metadata": {},
   "source": [
    "Adjusted r-squared charges(levies) a penalty for excess number of predictors(more than 1) in the model and will always be less than the R-squared value.<br>\n",
    "As the number of predictors increase, the difference between r and r-squared adjusted will also increase.<br><br>\n",
    "Extra -formula-<br>\n",
    "1-[((1-R**2)*(n-1))/(n-k-1)]<br>\n",
    "k=number of predictors<br>\n",
    "n=rows"
   ]
  },
  {
   "cell_type": "markdown",
   "id": "c3bbc2c0-8ad6-4723-8487-1d311890b43d",
   "metadata": {},
   "source": [
    "null hypothesis is that the response does not depend on the value of m , that is m=0  <br>\n",
    "ho(m): m=0\n",
    "\n",
    "null hypothesis is that the response does not depend on the value of c , that is c=0  <br>\n",
    "ho(c): c=0\n",
    "\n",
    "the difference between 0 and 0.0756(m) is statistically significant. We reject the null hypothesis\n",
    "\n",
    ".025 and 0.975 -> is the interval(95%) in which our value will fall. Values beyond these will be rejected.\n",
    "\n",
    "here in this case it(m value - 0.0756) is between  0.071 and 0.080\n",
    "\n"
   ]
  },
  {
   "cell_type": "code",
   "execution_count": null,
   "id": "0c7e794c-6f6e-4069-9210-61c9902a5a7f",
   "metadata": {},
   "outputs": [],
   "source": []
  },
  {
   "cell_type": "markdown",
   "id": "46228226-b3de-43a2-8d28-97ddee00b669",
   "metadata": {},
   "source": [
    "Multi collinearity-\n",
    "- two or more input factors have high correlation coefficients."
   ]
  },
  {
   "cell_type": "code",
   "execution_count": null,
   "id": "fa98aad3-8894-43fe-8bda-eafd9d51f5b9",
   "metadata": {},
   "outputs": [],
   "source": []
  }
 ],
 "metadata": {
  "kernelspec": {
   "display_name": "Python 3 (ipykernel)",
   "language": "python",
   "name": "python3"
  },
  "language_info": {
   "codemirror_mode": {
    "name": "ipython",
    "version": 3
   },
   "file_extension": ".py",
   "mimetype": "text/x-python",
   "name": "python",
   "nbconvert_exporter": "python",
   "pygments_lexer": "ipython3",
   "version": "3.12.7"
  }
 },
 "nbformat": 4,
 "nbformat_minor": 5
}
