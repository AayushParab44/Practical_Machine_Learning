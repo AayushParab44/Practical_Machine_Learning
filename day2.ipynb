{
 "cells": [
  {
   "cell_type": "code",
   "execution_count": null,
   "id": "3b843f40-53ca-4661-965a-5bf4b548c997",
   "metadata": {},
   "outputs": [],
   "source": []
  },
  {
   "cell_type": "code",
   "execution_count": null,
   "id": "c88076bd-351c-4b8a-9316-8374416bf09a",
   "metadata": {},
   "outputs": [],
   "source": []
  },
  {
   "cell_type": "code",
   "execution_count": null,
   "id": "36c0e32d-3cdc-44ff-a0a8-42571e922e21",
   "metadata": {},
   "outputs": [],
   "source": []
  },
  {
   "cell_type": "markdown",
   "id": "11a34a4e-39c4-4ef7-bc24-9b2764a3de9e",
   "metadata": {},
   "source": [
    "The vertical split segregates - x and y where x is the predictors and y is the response."
   ]
  },
  {
   "cell_type": "code",
   "execution_count": null,
   "id": "600d4023-42d1-4df4-b109-bf0aa0ff5909",
   "metadata": {},
   "outputs": [],
   "source": []
  },
  {
   "cell_type": "code",
   "execution_count": null,
   "id": "19d148cd-29ff-4cb2-b3f8-92ad84081795",
   "metadata": {},
   "outputs": [],
   "source": []
  },
  {
   "cell_type": "code",
   "execution_count": null,
   "id": "34fd0189-386a-4294-9e1c-65f3ea353ae9",
   "metadata": {},
   "outputs": [],
   "source": []
  }
 ],
 "metadata": {
  "kernelspec": {
   "display_name": "Python 3 (ipykernel)",
   "language": "python",
   "name": "python3"
  },
  "language_info": {
   "codemirror_mode": {
    "name": "ipython",
    "version": 3
   },
   "file_extension": ".py",
   "mimetype": "text/x-python",
   "name": "python",
   "nbconvert_exporter": "python",
   "pygments_lexer": "ipython3",
   "version": "3.12.7"
  }
 },
 "nbformat": 4,
 "nbformat_minor": 5
}
